{
 "cells": [
  {
   "cell_type": "markdown",
   "metadata": {},
   "source": [
    "# Project description\n",
    "\n",
    "Sweet Lift Taxi company has collected historical data on taxi orders at airports. To attract more drivers during peak hours, we need to predict the amount of taxi orders for the next hour. Build a model for such a prediction.\n",
    "\n",
    "The RMSE metric on the test set should not be more than 48.\n",
    "\n",
    "## Project instructions\n",
    "\n",
    "1. Download the data and resample it by one hour.\n",
    "2. Analyze the data.\n",
    "3. Train different models with different hyperparameters. The test sample should be 10% of the initial dataset. \n",
    "4. Test the data using the test sample and provide a conclusion.\n",
    "\n",
    "## Data description\n",
    "\n",
    "The data is stored in file `taxi.csv`. The number of orders is in the '*num_orders*' column."
   ]
  },
  {
   "cell_type": "markdown",
   "metadata": {},
   "source": [
    "## Preparation"
   ]
  },
  {
   "cell_type": "markdown",
   "metadata": {},
   "source": [
    "### Importing required libraries"
   ]
  },
  {
   "cell_type": "code",
   "execution_count": 1,
   "metadata": {},
   "outputs": [],
   "source": [
    "import pandas as pd\n",
    "\n",
    "from sklearn.model_selection import train_test_split\n",
    "from sklearn.model_selection import TimeSeriesSplit\n",
    "from sklearn.linear_model import LinearRegression\n",
    "from sklearn.model_selection import cross_val_score\n",
    "from sklearn.ensemble import RandomForestRegressor\n",
    "from sklearn.model_selection import GridSearchCV\n",
    "from sklearn.metrics import mean_squared_error\n",
    "\n",
    "from statsmodels.tsa.seasonal import seasonal_decompose\n",
    "from catboost import CatBoostRegressor\n",
    "\n",
    "import matplotlib.pyplot as plt\n",
    "import warnings\n",
    "warnings.filterwarnings('ignore')"
   ]
  },
  {
   "cell_type": "markdown",
   "metadata": {},
   "source": [
    "### Loading data"
   ]
  },
  {
   "cell_type": "code",
   "execution_count": 2,
   "metadata": {},
   "outputs": [
    {
     "name": "stdout",
     "output_type": "stream",
     "text": [
      "<class 'pandas.core.frame.DataFrame'>\n",
      "DatetimeIndex: 26496 entries, 2018-03-01 00:00:00 to 2018-08-31 23:50:00\n",
      "Data columns (total 1 columns):\n",
      " #   Column      Non-Null Count  Dtype\n",
      "---  ------      --------------  -----\n",
      " 0   num_orders  26496 non-null  int64\n",
      "dtypes: int64(1)\n",
      "memory usage: 414.0 KB\n"
     ]
    }
   ],
   "source": [
    "# load dataset to dataframe 'df_taxi' set index the first column and set dtype as date and time\n",
    "df_taxi = pd.read_csv('/datasets/taxi.csv', index_col=[0], parse_dates=[0])\n",
    "# display dataframe main information\n",
    "df_taxi.info()"
   ]
  },
  {
   "cell_type": "code",
   "execution_count": 3,
   "metadata": {},
   "outputs": [
    {
     "data": {
      "text/html": [
       "<div>\n",
       "<style scoped>\n",
       "    .dataframe tbody tr th:only-of-type {\n",
       "        vertical-align: middle;\n",
       "    }\n",
       "\n",
       "    .dataframe tbody tr th {\n",
       "        vertical-align: top;\n",
       "    }\n",
       "\n",
       "    .dataframe thead th {\n",
       "        text-align: right;\n",
       "    }\n",
       "</style>\n",
       "<table border=\"1\" class=\"dataframe\">\n",
       "  <thead>\n",
       "    <tr style=\"text-align: right;\">\n",
       "      <th></th>\n",
       "      <th>num_orders</th>\n",
       "    </tr>\n",
       "    <tr>\n",
       "      <th>datetime</th>\n",
       "      <th></th>\n",
       "    </tr>\n",
       "  </thead>\n",
       "  <tbody>\n",
       "    <tr>\n",
       "      <th>2018-05-13 00:10:00</th>\n",
       "      <td>8</td>\n",
       "    </tr>\n",
       "    <tr>\n",
       "      <th>2018-07-26 22:10:00</th>\n",
       "      <td>20</td>\n",
       "    </tr>\n",
       "    <tr>\n",
       "      <th>2018-08-05 20:10:00</th>\n",
       "      <td>16</td>\n",
       "    </tr>\n",
       "    <tr>\n",
       "      <th>2018-04-29 09:40:00</th>\n",
       "      <td>14</td>\n",
       "    </tr>\n",
       "    <tr>\n",
       "      <th>2018-04-12 15:50:00</th>\n",
       "      <td>14</td>\n",
       "    </tr>\n",
       "  </tbody>\n",
       "</table>\n",
       "</div>"
      ],
      "text/plain": [
       "                     num_orders\n",
       "datetime                       \n",
       "2018-05-13 00:10:00           8\n",
       "2018-07-26 22:10:00          20\n",
       "2018-08-05 20:10:00          16\n",
       "2018-04-29 09:40:00          14\n",
       "2018-04-12 15:50:00          14"
      ]
     },
     "execution_count": 3,
     "metadata": {},
     "output_type": "execute_result"
    }
   ],
   "source": [
    "# display randomnaze five rows from dataframe\n",
    "df_taxi.sample(5)"
   ]
  },
  {
   "cell_type": "code",
   "execution_count": 4,
   "metadata": {},
   "outputs": [
    {
     "name": "stdout",
     "output_type": "stream",
     "text": [
      "Number values with NaN : num_orders    0\n",
      "dtype: int64\n",
      "Number values with Null : num_orders    0\n",
      "dtype: int64\n",
      "Number values duplicated : 26415\n"
     ]
    }
   ],
   "source": [
    "print('Number values with NaN :',df_taxi.isna().sum())\n",
    "print('Number values with Null :',df_taxi.isnull().sum())\n",
    "print('Number values duplicated :',df_taxi.duplicated().sum())"
   ]
  },
  {
   "cell_type": "markdown",
   "metadata": {},
   "source": [
    "Sample interval is every 10 minutes, to predict the next hour, resample to one hour"
   ]
  },
  {
   "cell_type": "code",
   "execution_count": 5,
   "metadata": {},
   "outputs": [],
   "source": [
    "# resample to one hour then sum \n",
    "df_taxi = df_taxi.resample('1H').sum()"
   ]
  },
  {
   "cell_type": "markdown",
   "metadata": {},
   "source": [
    "<div class=\"alert alert-success\">\n",
    "<b>Reviewer's comment</b>\n",
    "\n",
    "The data was resampled correctly\n",
    "\n",
    "</div>"
   ]
  },
  {
   "cell_type": "code",
   "execution_count": 6,
   "metadata": {},
   "outputs": [
    {
     "data": {
      "text/html": [
       "<div>\n",
       "<style scoped>\n",
       "    .dataframe tbody tr th:only-of-type {\n",
       "        vertical-align: middle;\n",
       "    }\n",
       "\n",
       "    .dataframe tbody tr th {\n",
       "        vertical-align: top;\n",
       "    }\n",
       "\n",
       "    .dataframe thead th {\n",
       "        text-align: right;\n",
       "    }\n",
       "</style>\n",
       "<table border=\"1\" class=\"dataframe\">\n",
       "  <thead>\n",
       "    <tr style=\"text-align: right;\">\n",
       "      <th></th>\n",
       "      <th>num_orders</th>\n",
       "    </tr>\n",
       "    <tr>\n",
       "      <th>datetime</th>\n",
       "      <th></th>\n",
       "    </tr>\n",
       "  </thead>\n",
       "  <tbody>\n",
       "    <tr>\n",
       "      <th>2018-03-01 00:00:00</th>\n",
       "      <td>124</td>\n",
       "    </tr>\n",
       "    <tr>\n",
       "      <th>2018-03-01 01:00:00</th>\n",
       "      <td>85</td>\n",
       "    </tr>\n",
       "    <tr>\n",
       "      <th>2018-03-01 02:00:00</th>\n",
       "      <td>71</td>\n",
       "    </tr>\n",
       "    <tr>\n",
       "      <th>2018-03-01 03:00:00</th>\n",
       "      <td>66</td>\n",
       "    </tr>\n",
       "    <tr>\n",
       "      <th>2018-03-01 04:00:00</th>\n",
       "      <td>43</td>\n",
       "    </tr>\n",
       "  </tbody>\n",
       "</table>\n",
       "</div>"
      ],
      "text/plain": [
       "                     num_orders\n",
       "datetime                       \n",
       "2018-03-01 00:00:00         124\n",
       "2018-03-01 01:00:00          85\n",
       "2018-03-01 02:00:00          71\n",
       "2018-03-01 03:00:00          66\n",
       "2018-03-01 04:00:00          43"
      ]
     },
     "execution_count": 6,
     "metadata": {},
     "output_type": "execute_result"
    }
   ],
   "source": [
    "df_taxi.head()"
   ]
  },
  {
   "cell_type": "code",
   "execution_count": 7,
   "metadata": {},
   "outputs": [
    {
     "data": {
      "text/html": [
       "<div>\n",
       "<style scoped>\n",
       "    .dataframe tbody tr th:only-of-type {\n",
       "        vertical-align: middle;\n",
       "    }\n",
       "\n",
       "    .dataframe tbody tr th {\n",
       "        vertical-align: top;\n",
       "    }\n",
       "\n",
       "    .dataframe thead th {\n",
       "        text-align: right;\n",
       "    }\n",
       "</style>\n",
       "<table border=\"1\" class=\"dataframe\">\n",
       "  <thead>\n",
       "    <tr style=\"text-align: right;\">\n",
       "      <th></th>\n",
       "      <th>num_orders</th>\n",
       "    </tr>\n",
       "  </thead>\n",
       "  <tbody>\n",
       "    <tr>\n",
       "      <th>count</th>\n",
       "      <td>4416.000000</td>\n",
       "    </tr>\n",
       "    <tr>\n",
       "      <th>mean</th>\n",
       "      <td>84.422781</td>\n",
       "    </tr>\n",
       "    <tr>\n",
       "      <th>std</th>\n",
       "      <td>45.023853</td>\n",
       "    </tr>\n",
       "    <tr>\n",
       "      <th>min</th>\n",
       "      <td>0.000000</td>\n",
       "    </tr>\n",
       "    <tr>\n",
       "      <th>25%</th>\n",
       "      <td>54.000000</td>\n",
       "    </tr>\n",
       "    <tr>\n",
       "      <th>50%</th>\n",
       "      <td>78.000000</td>\n",
       "    </tr>\n",
       "    <tr>\n",
       "      <th>75%</th>\n",
       "      <td>107.000000</td>\n",
       "    </tr>\n",
       "    <tr>\n",
       "      <th>max</th>\n",
       "      <td>462.000000</td>\n",
       "    </tr>\n",
       "  </tbody>\n",
       "</table>\n",
       "</div>"
      ],
      "text/plain": [
       "        num_orders\n",
       "count  4416.000000\n",
       "mean     84.422781\n",
       "std      45.023853\n",
       "min       0.000000\n",
       "25%      54.000000\n",
       "50%      78.000000\n",
       "75%     107.000000\n",
       "max     462.000000"
      ]
     },
     "execution_count": 7,
     "metadata": {},
     "output_type": "execute_result"
    }
   ],
   "source": [
    "df_taxi.describe()"
   ]
  },
  {
   "cell_type": "markdown",
   "metadata": {},
   "source": [
    "## Analysis"
   ]
  },
  {
   "cell_type": "code",
   "execution_count": 8,
   "metadata": {},
   "outputs": [
    {
     "data": {
      "image/png": "[encoded data removed]",
      "text/plain": [
       "<Figure size 864x1800 with 4 Axes>"
      ]
     },
     "metadata": {
      "needs_background": "light"
     },
     "output_type": "display_data"
    }
   ],
   "source": [
    "decomposed = seasonal_decompose(df_taxi, model='additive' )\n",
    "plt.figure(figsize=(12, 25))\n",
    "\n",
    "plt.subplot(411)\n",
    "decomposed.trend.plot()\n",
    "plt.title('Trend')\n",
    "plt.subplot(412)\n",
    "decomposed.seasonal.plot()\n",
    "plt.title('Seasonality')\n",
    "plt.subplot(413)\n",
    "decomposed.resid.plot()\n",
    "plt.title('Residuals')\n",
    "plt.subplot(414)\n",
    "decomposed.observed.plot()\n",
    "plt.title('Observed')\n",
    "plt.show()"
   ]
  },
  {
   "cell_type": "markdown",
   "metadata": {},
   "source": [
    "Based on the depicted graphs, it is evident that the quantity of orders demonstrates a consistent growth, peaking during the month of August."
   ]
  },
  {
   "cell_type": "markdown",
   "metadata": {},
   "source": [
    "Developing calendar functionalities and implementing rolling averages."
   ]
  },
  {
   "cell_type": "code",
   "execution_count": 9,
   "metadata": {},
   "outputs": [],
   "source": [
    "# calendar features\n",
    "df_taxi['month'] = df_taxi.index.month\n",
    "df_taxi['day'] = df_taxi.index.day\n",
    "df_taxi['dayofweek'] = df_taxi.index.dayofweek\n",
    "df_taxi['hour'] = df_taxi.index.hour"
   ]
  },
  {
   "cell_type": "code",
   "execution_count": 10,
   "metadata": {},
   "outputs": [],
   "source": [
    "# adding the rolling mean feature\n",
    "df_taxi['mean_last3'] = df_taxi['num_orders'].shift().rolling(3).mean()"
   ]
  },
  {
   "cell_type": "code",
   "execution_count": 11,
   "metadata": {},
   "outputs": [],
   "source": [
    "for lag in range(1,4):\n",
    "    df_taxi['lag_{}'.format(lag)] = df_taxi['num_orders'].shift(lag)"
   ]
  },
  {
   "cell_type": "code",
   "execution_count": 12,
   "metadata": {
    "scrolled": true
   },
   "outputs": [
    {
     "data": {
      "text/html": [
       "<div>\n",
       "<style scoped>\n",
       "    .dataframe tbody tr th:only-of-type {\n",
       "        vertical-align: middle;\n",
       "    }\n",
       "\n",
       "    .dataframe tbody tr th {\n",
       "        vertical-align: top;\n",
       "    }\n",
       "\n",
       "    .dataframe thead th {\n",
       "        text-align: right;\n",
       "    }\n",
       "</style>\n",
       "<table border=\"1\" class=\"dataframe\">\n",
       "  <thead>\n",
       "    <tr style=\"text-align: right;\">\n",
       "      <th></th>\n",
       "      <th>num_orders</th>\n",
       "      <th>month</th>\n",
       "      <th>day</th>\n",
       "      <th>dayofweek</th>\n",
       "      <th>hour</th>\n",
       "      <th>mean_last3</th>\n",
       "      <th>lag_1</th>\n",
       "      <th>lag_2</th>\n",
       "      <th>lag_3</th>\n",
       "    </tr>\n",
       "    <tr>\n",
       "      <th>datetime</th>\n",
       "      <th></th>\n",
       "      <th></th>\n",
       "      <th></th>\n",
       "      <th></th>\n",
       "      <th></th>\n",
       "      <th></th>\n",
       "      <th></th>\n",
       "      <th></th>\n",
       "      <th></th>\n",
       "    </tr>\n",
       "  </thead>\n",
       "  <tbody>\n",
       "    <tr>\n",
       "      <th>2018-03-01 00:00:00</th>\n",
       "      <td>124</td>\n",
       "      <td>3</td>\n",
       "      <td>1</td>\n",
       "      <td>3</td>\n",
       "      <td>0</td>\n",
       "      <td>NaN</td>\n",
       "      <td>NaN</td>\n",
       "      <td>NaN</td>\n",
       "      <td>NaN</td>\n",
       "    </tr>\n",
       "    <tr>\n",
       "      <th>2018-03-01 01:00:00</th>\n",
       "      <td>85</td>\n",
       "      <td>3</td>\n",
       "      <td>1</td>\n",
       "      <td>3</td>\n",
       "      <td>1</td>\n",
       "      <td>NaN</td>\n",
       "      <td>124.0</td>\n",
       "      <td>NaN</td>\n",
       "      <td>NaN</td>\n",
       "    </tr>\n",
       "    <tr>\n",
       "      <th>2018-03-01 02:00:00</th>\n",
       "      <td>71</td>\n",
       "      <td>3</td>\n",
       "      <td>1</td>\n",
       "      <td>3</td>\n",
       "      <td>2</td>\n",
       "      <td>NaN</td>\n",
       "      <td>85.0</td>\n",
       "      <td>124.0</td>\n",
       "      <td>NaN</td>\n",
       "    </tr>\n",
       "    <tr>\n",
       "      <th>2018-03-01 03:00:00</th>\n",
       "      <td>66</td>\n",
       "      <td>3</td>\n",
       "      <td>1</td>\n",
       "      <td>3</td>\n",
       "      <td>3</td>\n",
       "      <td>93.333333</td>\n",
       "      <td>71.0</td>\n",
       "      <td>85.0</td>\n",
       "      <td>124.0</td>\n",
       "    </tr>\n",
       "    <tr>\n",
       "      <th>2018-03-01 04:00:00</th>\n",
       "      <td>43</td>\n",
       "      <td>3</td>\n",
       "      <td>1</td>\n",
       "      <td>3</td>\n",
       "      <td>4</td>\n",
       "      <td>74.000000</td>\n",
       "      <td>66.0</td>\n",
       "      <td>71.0</td>\n",
       "      <td>85.0</td>\n",
       "    </tr>\n",
       "  </tbody>\n",
       "</table>\n",
       "</div>"
      ],
      "text/plain": [
       "                     num_orders  month  day  dayofweek  hour  mean_last3  \\\n",
       "datetime                                                                   \n",
       "2018-03-01 00:00:00         124      3    1          3     0         NaN   \n",
       "2018-03-01 01:00:00          85      3    1          3     1         NaN   \n",
       "2018-03-01 02:00:00          71      3    1          3     2         NaN   \n",
       "2018-03-01 03:00:00          66      3    1          3     3   93.333333   \n",
       "2018-03-01 04:00:00          43      3    1          3     4   74.000000   \n",
       "\n",
       "                     lag_1  lag_2  lag_3  \n",
       "datetime                                  \n",
       "2018-03-01 00:00:00    NaN    NaN    NaN  \n",
       "2018-03-01 01:00:00  124.0    NaN    NaN  \n",
       "2018-03-01 02:00:00   85.0  124.0    NaN  \n",
       "2018-03-01 03:00:00   71.0   85.0  124.0  \n",
       "2018-03-01 04:00:00   66.0   71.0   85.0  "
      ]
     },
     "execution_count": 12,
     "metadata": {},
     "output_type": "execute_result"
    }
   ],
   "source": [
    "df_taxi.head()"
   ]
  },
  {
   "cell_type": "markdown",
   "metadata": {},
   "source": [
    "delete the NaN rows"
   ]
  },
  {
   "cell_type": "code",
   "execution_count": 13,
   "metadata": {},
   "outputs": [],
   "source": [
    "df_taxi = df_taxi.dropna()"
   ]
  },
  {
   "cell_type": "code",
   "execution_count": 14,
   "metadata": {},
   "outputs": [
    {
     "data": {
      "text/html": [
       "<div>\n",
       "<style scoped>\n",
       "    .dataframe tbody tr th:only-of-type {\n",
       "        vertical-align: middle;\n",
       "    }\n",
       "\n",
       "    .dataframe tbody tr th {\n",
       "        vertical-align: top;\n",
       "    }\n",
       "\n",
       "    .dataframe thead th {\n",
       "        text-align: right;\n",
       "    }\n",
       "</style>\n",
       "<table border=\"1\" class=\"dataframe\">\n",
       "  <thead>\n",
       "    <tr style=\"text-align: right;\">\n",
       "      <th></th>\n",
       "      <th>num_orders</th>\n",
       "      <th>month</th>\n",
       "      <th>day</th>\n",
       "      <th>dayofweek</th>\n",
       "      <th>hour</th>\n",
       "      <th>mean_last3</th>\n",
       "      <th>lag_1</th>\n",
       "      <th>lag_2</th>\n",
       "      <th>lag_3</th>\n",
       "    </tr>\n",
       "    <tr>\n",
       "      <th>datetime</th>\n",
       "      <th></th>\n",
       "      <th></th>\n",
       "      <th></th>\n",
       "      <th></th>\n",
       "      <th></th>\n",
       "      <th></th>\n",
       "      <th></th>\n",
       "      <th></th>\n",
       "      <th></th>\n",
       "    </tr>\n",
       "  </thead>\n",
       "  <tbody>\n",
       "    <tr>\n",
       "      <th>2018-03-01 03:00:00</th>\n",
       "      <td>66</td>\n",
       "      <td>3</td>\n",
       "      <td>1</td>\n",
       "      <td>3</td>\n",
       "      <td>3</td>\n",
       "      <td>93.333333</td>\n",
       "      <td>71.0</td>\n",
       "      <td>85.0</td>\n",
       "      <td>124.0</td>\n",
       "    </tr>\n",
       "    <tr>\n",
       "      <th>2018-03-01 04:00:00</th>\n",
       "      <td>43</td>\n",
       "      <td>3</td>\n",
       "      <td>1</td>\n",
       "      <td>3</td>\n",
       "      <td>4</td>\n",
       "      <td>74.000000</td>\n",
       "      <td>66.0</td>\n",
       "      <td>71.0</td>\n",
       "      <td>85.0</td>\n",
       "    </tr>\n",
       "    <tr>\n",
       "      <th>2018-03-01 05:00:00</th>\n",
       "      <td>6</td>\n",
       "      <td>3</td>\n",
       "      <td>1</td>\n",
       "      <td>3</td>\n",
       "      <td>5</td>\n",
       "      <td>60.000000</td>\n",
       "      <td>43.0</td>\n",
       "      <td>66.0</td>\n",
       "      <td>71.0</td>\n",
       "    </tr>\n",
       "    <tr>\n",
       "      <th>2018-03-01 06:00:00</th>\n",
       "      <td>12</td>\n",
       "      <td>3</td>\n",
       "      <td>1</td>\n",
       "      <td>3</td>\n",
       "      <td>6</td>\n",
       "      <td>38.333333</td>\n",
       "      <td>6.0</td>\n",
       "      <td>43.0</td>\n",
       "      <td>66.0</td>\n",
       "    </tr>\n",
       "    <tr>\n",
       "      <th>2018-03-01 07:00:00</th>\n",
       "      <td>15</td>\n",
       "      <td>3</td>\n",
       "      <td>1</td>\n",
       "      <td>3</td>\n",
       "      <td>7</td>\n",
       "      <td>20.333333</td>\n",
       "      <td>12.0</td>\n",
       "      <td>6.0</td>\n",
       "      <td>43.0</td>\n",
       "    </tr>\n",
       "  </tbody>\n",
       "</table>\n",
       "</div>"
      ],
      "text/plain": [
       "                     num_orders  month  day  dayofweek  hour  mean_last3  \\\n",
       "datetime                                                                   \n",
       "2018-03-01 03:00:00          66      3    1          3     3   93.333333   \n",
       "2018-03-01 04:00:00          43      3    1          3     4   74.000000   \n",
       "2018-03-01 05:00:00           6      3    1          3     5   60.000000   \n",
       "2018-03-01 06:00:00          12      3    1          3     6   38.333333   \n",
       "2018-03-01 07:00:00          15      3    1          3     7   20.333333   \n",
       "\n",
       "                     lag_1  lag_2  lag_3  \n",
       "datetime                                  \n",
       "2018-03-01 03:00:00   71.0   85.0  124.0  \n",
       "2018-03-01 04:00:00   66.0   71.0   85.0  \n",
       "2018-03-01 05:00:00   43.0   66.0   71.0  \n",
       "2018-03-01 06:00:00    6.0   43.0   66.0  \n",
       "2018-03-01 07:00:00   12.0    6.0   43.0  "
      ]
     },
     "execution_count": 14,
     "metadata": {},
     "output_type": "execute_result"
    }
   ],
   "source": [
    "df_taxi.head()"
   ]
  },
  {
   "cell_type": "markdown",
   "metadata": {},
   "source": [
    "<div class=\"alert alert-success\">\n",
    "<b>Reviewer's comment</b>\n",
    "\n",
    "The features look good: you added calendar features, lag features and a shifted rolling mean\n",
    "\n",
    "</div>"
   ]
  },
  {
   "cell_type": "code",
   "execution_count": 15,
   "metadata": {},
   "outputs": [
    {
     "data": {
      "text/plain": [
       "num_orders      int64\n",
       "month           int64\n",
       "day             int64\n",
       "dayofweek       int64\n",
       "hour            int64\n",
       "mean_last3    float64\n",
       "lag_1         float64\n",
       "lag_2         float64\n",
       "lag_3         float64\n",
       "dtype: object"
      ]
     },
     "execution_count": 15,
     "metadata": {},
     "output_type": "execute_result"
    }
   ],
   "source": [
    "df_taxi.dtypes"
   ]
  },
  {
   "cell_type": "markdown",
   "metadata": {},
   "source": [
    "the data type are integer and float type do not requared to encode them.\n",
    "\n",
    "all dataset need split (10%) in two dataset for training and testing"
   ]
  },
  {
   "cell_type": "code",
   "execution_count": 16,
   "metadata": {},
   "outputs": [
    {
     "name": "stdout",
     "output_type": "stream",
     "text": [
      "(4413, 9) (3971, 9) (442, 9)\n"
     ]
    }
   ],
   "source": [
    "# split the dataframe by sklearn module (train_test_split)\n",
    "train, test = train_test_split(df_taxi, shuffle=False, test_size=0.1)\n",
    "print(df_taxi.shape, train.shape, test.shape)"
   ]
  },
  {
   "cell_type": "markdown",
   "metadata": {},
   "source": [
    "<div class=\"alert alert-success\">\n",
    "<b>Reviewer's comment</b>\n",
    "\n",
    "The data was split into train and test without shuffling\n",
    "\n",
    "</div>"
   ]
  },
  {
   "cell_type": "code",
   "execution_count": 17,
   "metadata": {},
   "outputs": [],
   "source": [
    "# set train and test datasets\n",
    "target_train = train['num_orders']\n",
    "features_train = train.drop(columns = ['num_orders'])\n",
    "\n",
    "target_test = test['num_orders']\n",
    "features_test = test.drop(columns = ['num_orders'])"
   ]
  },
  {
   "cell_type": "markdown",
   "metadata": {},
   "source": [
    "## Training"
   ]
  },
  {
   "cell_type": "code",
   "execution_count": 18,
   "metadata": {},
   "outputs": [],
   "source": [
    "# time series cross-validation object\n",
    "tssv = TimeSeriesSplit(max_train_size=None, n_splits=6)"
   ]
  },
  {
   "cell_type": "markdown",
   "metadata": {},
   "source": [
    "<div class=\"alert alert-success\">\n",
    "<b>Reviewer's comment</b>\n",
    "\n",
    "Great, you're using an appropriate splitting scheme for time series cross-validation\n",
    "\n",
    "</div>"
   ]
  },
  {
   "cell_type": "markdown",
   "metadata": {},
   "source": [
    "**Linear Regression model**"
   ]
  },
  {
   "cell_type": "code",
   "execution_count": 19,
   "metadata": {},
   "outputs": [
    {
     "data": {
      "text/plain": [
       "-31.255482015339222"
      ]
     },
     "execution_count": 19,
     "metadata": {},
     "output_type": "execute_result"
    }
   ],
   "source": [
    "model_lr = LinearRegression()\n",
    "scores_lr = cross_val_score(model_lr, features_train, target_train, cv=tssv, scoring='neg_root_mean_squared_error')\n",
    "scores_lr.mean()"
   ]
  },
  {
   "cell_type": "markdown",
   "metadata": {},
   "source": [
    "Linear regression satisfies the evaluation standards, with an RMSE value of -31.26"
   ]
  },
  {
   "cell_type": "markdown",
   "metadata": {},
   "source": [
    "**CatBoost**"
   ]
  },
  {
   "cell_type": "code",
   "execution_count": 20,
   "metadata": {},
   "outputs": [
    {
     "name": "stdout",
     "output_type": "stream",
     "text": [
      "Learning rate set to 0.243493\n",
      "0:\tlearn: 26.2641730\ttotal: 47.3ms\tremaining: 4.68s\n",
      "1:\tlearn: 23.6974473\ttotal: 48.7ms\tremaining: 2.39s\n",
      "2:\tlearn: 21.6641761\ttotal: 50ms\tremaining: 1.61s\n",
      "3:\tlearn: 20.2797227\ttotal: 51.2ms\tremaining: 1.23s\n",
      "4:\tlearn: 19.5488508\ttotal: 52.5ms\tremaining: 997ms\n",
      "5:\tlearn: 18.8626056\ttotal: 53.8ms\tremaining: 843ms\n",
      "6:\tlearn: 18.0872296\ttotal: 55ms\tremaining: 731ms\n",
      "7:\tlearn: 17.6433899\ttotal: 56.3ms\tremaining: 647ms\n",
      "8:\tlearn: 17.3970195\ttotal: 57.5ms\tremaining: 581ms\n",
      "9:\tlearn: 17.0541093\ttotal: 58.7ms\tremaining: 528ms\n",
      "10:\tlearn: 16.7755301\ttotal: 60ms\tremaining: 485ms\n",
      "11:\tlearn: 16.4735815\ttotal: 61.2ms\tremaining: 449ms\n",
      "12:\tlearn: 16.2758745\ttotal: 62.5ms\tremaining: 418ms\n",
      "13:\tlearn: 16.0659679\ttotal: 63.7ms\tremaining: 392ms\n",
      "14:\tlearn: 15.8833697\ttotal: 64.9ms\tremaining: 368ms\n",
      "15:\tlearn: 15.7006994\ttotal: 66.1ms\tremaining: 347ms\n",
      "16:\tlearn: 15.5894525\ttotal: 67.3ms\tremaining: 329ms\n",
      "17:\tlearn: 15.3310057\ttotal: 68.6ms\tremaining: 312ms\n",
      "18:\tlearn: 15.1354054\ttotal: 69.8ms\tremaining: 298ms\n",
      "19:\tlearn: 15.0023571\ttotal: 71ms\tremaining: 284ms\n",
      "20:\tlearn: 14.8556538\ttotal: 72.2ms\tremaining: 272ms\n",
      "21:\tlearn: 14.7266758\ttotal: 73.4ms\tremaining: 260ms\n",
      "22:\tlearn: 14.5963098\ttotal: 74.7ms\tremaining: 250ms\n",
      "23:\tlearn: 14.3858265\ttotal: 76ms\tremaining: 241ms\n",
      "24:\tlearn: 14.2795822\ttotal: 77.2ms\tremaining: 231ms\n",
      "25:\tlearn: 14.1232043\ttotal: 78.5ms\tremaining: 223ms\n",
      "26:\tlearn: 14.0593646\ttotal: 79.9ms\tremaining: 216ms\n",
      "27:\tlearn: 13.9256144\ttotal: 81.2ms\tremaining: 209ms\n",
      "28:\tlearn: 13.7719536\ttotal: 82.4ms\tremaining: 202ms\n",
      "29:\tlearn: 13.6799989\ttotal: 83.7ms\tremaining: 195ms\n",
      "30:\tlearn: 13.5184881\ttotal: 85ms\tremaining: 189ms\n",
      "31:\tlearn: 13.2142879\ttotal: 86.3ms\tremaining: 183ms\n",
      "32:\tlearn: 13.1146411\ttotal: 87.5ms\tremaining: 178ms\n",
      "33:\tlearn: 12.8998188\ttotal: 88.7ms\tremaining: 172ms\n",
      "34:\tlearn: 12.6954459\ttotal: 90.1ms\tremaining: 167ms\n",
      "35:\tlearn: 12.5598059\ttotal: 91.3ms\tremaining: 162ms\n",
      "36:\tlearn: 12.5207806\ttotal: 92.5ms\tremaining: 157ms\n",
      "37:\tlearn: 12.4162785\ttotal: 93.8ms\tremaining: 153ms\n",
      "38:\tlearn: 12.3543831\ttotal: 95.1ms\tremaining: 149ms\n",
      "39:\tlearn: 12.3211104\ttotal: 96.2ms\tremaining: 144ms\n",
      "40:\tlearn: 12.2175487\ttotal: 97.6ms\tremaining: 140ms\n",
      "41:\tlearn: 12.1165446\ttotal: 98.8ms\tremaining: 136ms\n",
      "42:\tlearn: 11.9613904\ttotal: 100ms\tremaining: 133ms\n",
      "43:\tlearn: 11.7800283\ttotal: 101ms\tremaining: 129ms\n",
      "44:\tlearn: 11.6136787\ttotal: 103ms\tremaining: 125ms\n",
      "45:\tlearn: 11.5191808\ttotal: 104ms\tremaining: 122ms\n",
      "46:\tlearn: 11.3698614\ttotal: 105ms\tremaining: 118ms\n",
      "47:\tlearn: 11.2794071\ttotal: 106ms\tremaining: 115ms\n",
      "48:\tlearn: 11.1837116\ttotal: 107ms\tremaining: 112ms\n",
      "49:\tlearn: 11.1633753\ttotal: 109ms\tremaining: 109ms\n",
      "50:\tlearn: 11.0394798\ttotal: 110ms\tremaining: 106ms\n",
      "51:\tlearn: 10.9206113\ttotal: 111ms\tremaining: 103ms\n",
      "52:\tlearn: 10.7974661\ttotal: 113ms\tremaining: 99.8ms\n",
      "53:\tlearn: 10.7543669\ttotal: 114ms\tremaining: 96.8ms\n",
      "54:\tlearn: 10.7335445\ttotal: 115ms\tremaining: 94ms\n",
      "55:\tlearn: 10.6351002\ttotal: 116ms\tremaining: 91.3ms\n",
      "56:\tlearn: 10.5740459\ttotal: 117ms\tremaining: 88.6ms\n",
      "57:\tlearn: 10.4671922\ttotal: 119ms\tremaining: 85.9ms\n",
      "58:\tlearn: 10.3648275\ttotal: 120ms\tremaining: 83.4ms\n",
      "59:\tlearn: 10.2166143\ttotal: 121ms\tremaining: 80.9ms\n",
      "60:\tlearn: 10.0478699\ttotal: 123ms\tremaining: 78.4ms\n",
      "61:\tlearn: 9.9940495\ttotal: 124ms\tremaining: 76ms\n",
      "62:\tlearn: 9.8664716\ttotal: 125ms\tremaining: 73.5ms\n",
      "63:\tlearn: 9.7447373\ttotal: 126ms\tremaining: 71.1ms\n",
      "64:\tlearn: 9.6252066\ttotal: 128ms\tremaining: 68.8ms\n",
      "65:\tlearn: 9.5081595\ttotal: 129ms\tremaining: 66.5ms\n",
      "66:\tlearn: 9.4957414\ttotal: 130ms\tremaining: 64.2ms\n",
      "67:\tlearn: 9.4048452\ttotal: 132ms\tremaining: 61.9ms\n",
      "68:\tlearn: 9.3717424\ttotal: 133ms\tremaining: 59.7ms\n",
      "69:\tlearn: 9.3329228\ttotal: 134ms\tremaining: 57.5ms\n",
      "70:\tlearn: 9.2275336\ttotal: 135ms\tremaining: 55.3ms\n",
      "71:\tlearn: 9.1034930\ttotal: 137ms\tremaining: 53.1ms\n",
      "72:\tlearn: 9.0400988\ttotal: 138ms\tremaining: 51ms\n",
      "73:\tlearn: 8.9699763\ttotal: 139ms\tremaining: 48.9ms\n",
      "74:\tlearn: 8.8959828\ttotal: 140ms\tremaining: 46.8ms\n",
      "75:\tlearn: 8.7980703\ttotal: 142ms\tremaining: 44.8ms\n",
      "76:\tlearn: 8.7479920\ttotal: 143ms\tremaining: 42.7ms\n",
      "77:\tlearn: 8.6874636\ttotal: 144ms\tremaining: 40.7ms\n",
      "78:\tlearn: 8.5956759\ttotal: 146ms\tremaining: 38.7ms\n",
      "79:\tlearn: 8.5436273\ttotal: 147ms\tremaining: 36.7ms\n",
      "80:\tlearn: 8.4927471\ttotal: 148ms\tremaining: 34.7ms\n",
      "81:\tlearn: 8.3504122\ttotal: 149ms\tremaining: 32.8ms\n",
      "82:\tlearn: 8.3264723\ttotal: 151ms\tremaining: 31ms\n",
      "83:\tlearn: 8.3049956\ttotal: 153ms\tremaining: 29ms\n",
      "84:\tlearn: 8.2152802\ttotal: 154ms\tremaining: 27.1ms\n",
      "85:\tlearn: 8.1944058\ttotal: 155ms\tremaining: 25.2ms\n",
      "86:\tlearn: 8.1789844\ttotal: 156ms\tremaining: 23.3ms\n",
      "87:\tlearn: 8.0964007\ttotal: 157ms\tremaining: 21.5ms\n",
      "88:\tlearn: 7.9947180\ttotal: 159ms\tremaining: 19.6ms\n",
      "89:\tlearn: 7.9120481\ttotal: 160ms\tremaining: 17.8ms\n",
      "90:\tlearn: 7.8067502\ttotal: 161ms\tremaining: 15.9ms\n",
      "91:\tlearn: 7.7242059\ttotal: 163ms\tremaining: 14.1ms\n",
      "92:\tlearn: 7.6934056\ttotal: 164ms\tremaining: 12.3ms\n",
      "93:\tlearn: 7.6649960\ttotal: 165ms\tremaining: 10.5ms\n",
      "94:\tlearn: 7.6381999\ttotal: 166ms\tremaining: 8.74ms\n",
      "95:\tlearn: 7.6186020\ttotal: 167ms\tremaining: 6.97ms\n",
      "96:\tlearn: 7.6059160\ttotal: 169ms\tremaining: 5.21ms\n",
      "97:\tlearn: 7.5116928\ttotal: 170ms\tremaining: 3.46ms\n",
      "98:\tlearn: 7.4449571\ttotal: 171ms\tremaining: 1.73ms\n",
      "99:\tlearn: 7.4334003\ttotal: 172ms\tremaining: 0us\n",
      "Learning rate set to 0.2716\n",
      "0:\tlearn: 25.9277093\ttotal: 1.73ms\tremaining: 171ms\n",
      "1:\tlearn: 23.9753512\ttotal: 3.16ms\tremaining: 155ms\n",
      "2:\tlearn: 22.7756030\ttotal: 4.61ms\tremaining: 149ms\n",
      "3:\tlearn: 21.7225561\ttotal: 6.18ms\tremaining: 148ms\n",
      "4:\tlearn: 20.7746629\ttotal: 7.64ms\tremaining: 145ms\n",
      "5:\tlearn: 20.1249615\ttotal: 9.13ms\tremaining: 143ms\n",
      "6:\tlearn: 19.6255895\ttotal: 10.5ms\tremaining: 139ms\n",
      "7:\tlearn: 19.1485128\ttotal: 11.9ms\tremaining: 137ms\n",
      "8:\tlearn: 18.8740379\ttotal: 13.4ms\tremaining: 135ms\n",
      "9:\tlearn: 18.4731984\ttotal: 14.7ms\tremaining: 132ms\n",
      "10:\tlearn: 18.1823171\ttotal: 16.2ms\tremaining: 131ms\n",
      "11:\tlearn: 17.9810075\ttotal: 17.7ms\tremaining: 130ms\n",
      "12:\tlearn: 17.7734485\ttotal: 19.3ms\tremaining: 129ms\n",
      "13:\tlearn: 17.5013846\ttotal: 21ms\tremaining: 129ms\n",
      "14:\tlearn: 17.3572971\ttotal: 22.5ms\tremaining: 127ms\n",
      "15:\tlearn: 17.0872429\ttotal: 23.9ms\tremaining: 125ms\n",
      "16:\tlearn: 16.9538649\ttotal: 25.3ms\tremaining: 124ms\n",
      "17:\tlearn: 16.7110622\ttotal: 26.8ms\tremaining: 122ms\n",
      "18:\tlearn: 16.4969614\ttotal: 28.3ms\tremaining: 121ms\n",
      "19:\tlearn: 16.4140231\ttotal: 29.7ms\tremaining: 119ms\n",
      "20:\tlearn: 16.2109862\ttotal: 31.1ms\tremaining: 117ms\n",
      "21:\tlearn: 16.0886285\ttotal: 32.5ms\tremaining: 115ms\n",
      "22:\tlearn: 15.9915137\ttotal: 33.9ms\tremaining: 113ms\n",
      "23:\tlearn: 15.8413246\ttotal: 35.4ms\tremaining: 112ms\n",
      "24:\tlearn: 15.6672282\ttotal: 36.8ms\tremaining: 110ms\n",
      "25:\tlearn: 15.4201479\ttotal: 38.1ms\tremaining: 109ms\n",
      "26:\tlearn: 15.3007758\ttotal: 39.5ms\tremaining: 107ms\n",
      "27:\tlearn: 15.2189182\ttotal: 40.9ms\tremaining: 105ms\n",
      "28:\tlearn: 15.0747319\ttotal: 42.2ms\tremaining: 103ms\n",
      "29:\tlearn: 14.9366596\ttotal: 43.7ms\tremaining: 102ms\n",
      "30:\tlearn: 14.7835277\ttotal: 45ms\tremaining: 100ms\n",
      "31:\tlearn: 14.6195300\ttotal: 46.3ms\tremaining: 98.5ms\n",
      "32:\tlearn: 14.4838562\ttotal: 47.9ms\tremaining: 97.2ms\n",
      "33:\tlearn: 14.3469635\ttotal: 49.2ms\tremaining: 95.5ms\n",
      "34:\tlearn: 14.2938264\ttotal: 50.7ms\tremaining: 94.1ms\n",
      "35:\tlearn: 14.2325101\ttotal: 52.1ms\tremaining: 92.7ms\n",
      "36:\tlearn: 14.1079543\ttotal: 53.5ms\tremaining: 91ms\n",
      "37:\tlearn: 14.0627940\ttotal: 54.9ms\tremaining: 89.6ms\n",
      "38:\tlearn: 13.9257888\ttotal: 56.3ms\tremaining: 88.1ms\n",
      "39:\tlearn: 13.7555243\ttotal: 57.8ms\tremaining: 86.6ms\n",
      "40:\tlearn: 13.6454712\ttotal: 59.2ms\tremaining: 85.2ms\n",
      "41:\tlearn: 13.5352874\ttotal: 60.6ms\tremaining: 83.7ms\n",
      "42:\tlearn: 13.4992820\ttotal: 62.1ms\tremaining: 82.4ms\n",
      "43:\tlearn: 13.4566128\ttotal: 63.6ms\tremaining: 80.9ms\n",
      "44:\tlearn: 13.2712683\ttotal: 65ms\tremaining: 79.4ms\n",
      "45:\tlearn: 13.2021937\ttotal: 66.5ms\tremaining: 78.1ms\n",
      "46:\tlearn: 13.1579583\ttotal: 68.2ms\tremaining: 76.9ms\n",
      "47:\tlearn: 13.0213140\ttotal: 69.9ms\tremaining: 75.8ms\n",
      "48:\tlearn: 12.9868162\ttotal: 71.3ms\tremaining: 74.3ms\n",
      "49:\tlearn: 12.8749791\ttotal: 72.7ms\tremaining: 72.7ms\n",
      "50:\tlearn: 12.7567776\ttotal: 74.1ms\tremaining: 71.2ms\n",
      "51:\tlearn: 12.6398209\ttotal: 75.6ms\tremaining: 69.7ms\n",
      "52:\tlearn: 12.5609747\ttotal: 76.9ms\tremaining: 68.2ms\n",
      "53:\tlearn: 12.5114509\ttotal: 78.3ms\tremaining: 66.7ms\n",
      "54:\tlearn: 12.4710424\ttotal: 79.7ms\tremaining: 65.2ms\n",
      "55:\tlearn: 12.3821688\ttotal: 81.2ms\tremaining: 63.8ms\n",
      "56:\tlearn: 12.2714418\ttotal: 82.5ms\tremaining: 62.3ms\n",
      "57:\tlearn: 12.2056712\ttotal: 83.9ms\tremaining: 60.8ms\n",
      "58:\tlearn: 12.1219351\ttotal: 85.4ms\tremaining: 59.4ms\n",
      "59:\tlearn: 12.0640806\ttotal: 86.9ms\tremaining: 57.9ms\n",
      "60:\tlearn: 12.0367711\ttotal: 88.3ms\tremaining: 56.5ms\n",
      "61:\tlearn: 11.9314691\ttotal: 89.8ms\tremaining: 55ms\n",
      "62:\tlearn: 11.8409776\ttotal: 91.2ms\tremaining: 53.6ms\n",
      "63:\tlearn: 11.8092450\ttotal: 92.8ms\tremaining: 52.2ms\n",
      "64:\tlearn: 11.7392025\ttotal: 94.2ms\tremaining: 50.7ms\n",
      "65:\tlearn: 11.6712639\ttotal: 95.6ms\tremaining: 49.2ms\n",
      "66:\tlearn: 11.5114881\ttotal: 97ms\tremaining: 47.8ms\n",
      "67:\tlearn: 11.4757019\ttotal: 98.5ms\tremaining: 46.4ms\n",
      "68:\tlearn: 11.3899745\ttotal: 100ms\tremaining: 45ms\n",
      "69:\tlearn: 11.2572799\ttotal: 102ms\tremaining: 43.5ms\n",
      "70:\tlearn: 11.1749924\ttotal: 103ms\tremaining: 42.1ms\n",
      "71:\tlearn: 11.0800234\ttotal: 105ms\tremaining: 40.7ms\n",
      "72:\tlearn: 11.0564209\ttotal: 106ms\tremaining: 39.2ms\n",
      "73:\tlearn: 10.9579607\ttotal: 108ms\tremaining: 37.8ms\n",
      "74:\tlearn: 10.8921903\ttotal: 109ms\tremaining: 36.3ms\n",
      "75:\tlearn: 10.8275136\ttotal: 110ms\tremaining: 34.9ms\n",
      "76:\tlearn: 10.7506100\ttotal: 112ms\tremaining: 33.5ms\n",
      "77:\tlearn: 10.6990630\ttotal: 113ms\tremaining: 32ms\n",
      "78:\tlearn: 10.6228540\ttotal: 115ms\tremaining: 30.5ms\n",
      "79:\tlearn: 10.5354939\ttotal: 116ms\tremaining: 29.1ms\n",
      "80:\tlearn: 10.4985495\ttotal: 118ms\tremaining: 27.6ms\n",
      "81:\tlearn: 10.4763089\ttotal: 119ms\tremaining: 26.2ms\n",
      "82:\tlearn: 10.3911409\ttotal: 121ms\tremaining: 24.7ms\n",
      "83:\tlearn: 10.3886345\ttotal: 122ms\tremaining: 23.2ms\n",
      "84:\tlearn: 10.3278736\ttotal: 123ms\tremaining: 21.8ms\n",
      "85:\tlearn: 10.2890085\ttotal: 125ms\tremaining: 20.3ms\n",
      "86:\tlearn: 10.2373028\ttotal: 126ms\tremaining: 18.9ms\n",
      "87:\tlearn: 10.1646745\ttotal: 128ms\tremaining: 17.4ms\n",
      "88:\tlearn: 10.0839603\ttotal: 129ms\tremaining: 15.9ms\n",
      "89:\tlearn: 10.0706337\ttotal: 135ms\tremaining: 14.9ms\n",
      "90:\tlearn: 9.9795068\ttotal: 136ms\tremaining: 13.4ms\n",
      "91:\tlearn: 9.8939195\ttotal: 137ms\tremaining: 11.9ms\n",
      "92:\tlearn: 9.8235551\ttotal: 139ms\tremaining: 10.5ms\n",
      "93:\tlearn: 9.7592083\ttotal: 140ms\tremaining: 8.95ms\n",
      "94:\tlearn: 9.6800968\ttotal: 142ms\tremaining: 7.46ms\n",
      "95:\tlearn: 9.5904136\ttotal: 143ms\tremaining: 5.96ms\n",
      "96:\tlearn: 9.5158672\ttotal: 144ms\tremaining: 4.47ms\n",
      "97:\tlearn: 9.4286436\ttotal: 146ms\tremaining: 2.98ms\n",
      "98:\tlearn: 9.3730892\ttotal: 147ms\tremaining: 1.49ms\n",
      "99:\tlearn: 9.3121682\ttotal: 149ms\tremaining: 0us\n",
      "Learning rate set to 0.289542\n",
      "0:\tlearn: 27.6497843\ttotal: 1.74ms\tremaining: 172ms\n",
      "1:\tlearn: 24.9230895\ttotal: 3.53ms\tremaining: 173ms\n",
      "2:\tlearn: 23.3677418\ttotal: 5.25ms\tremaining: 170ms\n",
      "3:\tlearn: 22.4685833\ttotal: 6.93ms\tremaining: 166ms\n",
      "4:\tlearn: 21.8261638\ttotal: 8.63ms\tremaining: 164ms\n",
      "5:\tlearn: 21.2365556\ttotal: 10.3ms\tremaining: 161ms\n",
      "6:\tlearn: 20.6498495\ttotal: 11.9ms\tremaining: 157ms\n",
      "7:\tlearn: 20.0581380\ttotal: 13.5ms\tremaining: 155ms\n",
      "8:\tlearn: 19.8644493\ttotal: 15.5ms\tremaining: 156ms\n",
      "9:\tlearn: 19.6444225\ttotal: 17.4ms\tremaining: 156ms\n",
      "10:\tlearn: 19.3328753\ttotal: 19.1ms\tremaining: 155ms\n",
      "11:\tlearn: 19.1015967\ttotal: 20.7ms\tremaining: 152ms\n",
      "12:\tlearn: 18.9653990\ttotal: 22.3ms\tremaining: 149ms\n",
      "13:\tlearn: 18.7726816\ttotal: 23.9ms\tremaining: 147ms\n",
      "14:\tlearn: 18.5479820\ttotal: 25.6ms\tremaining: 145ms\n",
      "15:\tlearn: 18.3899503\ttotal: 27.3ms\tremaining: 144ms\n",
      "16:\tlearn: 18.3028562\ttotal: 29ms\tremaining: 141ms\n",
      "17:\tlearn: 18.0969980\ttotal: 30.7ms\tremaining: 140ms\n",
      "18:\tlearn: 17.9636789\ttotal: 32.3ms\tremaining: 138ms\n",
      "19:\tlearn: 17.7972214\ttotal: 33.9ms\tremaining: 136ms\n",
      "20:\tlearn: 17.6283937\ttotal: 35.6ms\tremaining: 134ms\n",
      "21:\tlearn: 17.3870657\ttotal: 37.7ms\tremaining: 134ms\n",
      "22:\tlearn: 17.2286462\ttotal: 39.5ms\tremaining: 132ms\n",
      "23:\tlearn: 17.1266491\ttotal: 41.2ms\tremaining: 131ms\n",
      "24:\tlearn: 16.8798739\ttotal: 42.9ms\tremaining: 129ms\n",
      "25:\tlearn: 16.8145580\ttotal: 44.6ms\tremaining: 127ms\n",
      "26:\tlearn: 16.7431959\ttotal: 46.1ms\tremaining: 125ms\n",
      "27:\tlearn: 16.6365170\ttotal: 47.6ms\tremaining: 122ms\n",
      "28:\tlearn: 16.4565721\ttotal: 49.2ms\tremaining: 120ms\n",
      "29:\tlearn: 16.2572367\ttotal: 50.7ms\tremaining: 118ms\n",
      "30:\tlearn: 16.0739455\ttotal: 52.3ms\tremaining: 116ms\n",
      "31:\tlearn: 15.9106010\ttotal: 53.9ms\tremaining: 115ms\n",
      "32:\tlearn: 15.8048888\ttotal: 55.5ms\tremaining: 113ms\n",
      "33:\tlearn: 15.7202286\ttotal: 57ms\tremaining: 111ms\n",
      "34:\tlearn: 15.6513002\ttotal: 58.7ms\tremaining: 109ms\n",
      "35:\tlearn: 15.4907825\ttotal: 60.2ms\tremaining: 107ms\n",
      "36:\tlearn: 15.3915558\ttotal: 61.8ms\tremaining: 105ms\n",
      "37:\tlearn: 15.3344356\ttotal: 63.3ms\tremaining: 103ms\n",
      "38:\tlearn: 15.2003755\ttotal: 65ms\tremaining: 102ms\n",
      "39:\tlearn: 15.1464633\ttotal: 66.4ms\tremaining: 99.6ms\n",
      "40:\tlearn: 15.1012676\ttotal: 67.9ms\tremaining: 97.8ms\n",
      "41:\tlearn: 14.9481828\ttotal: 69.5ms\tremaining: 96ms\n",
      "42:\tlearn: 14.8140425\ttotal: 71ms\tremaining: 94.2ms\n",
      "43:\tlearn: 14.7884968\ttotal: 72.6ms\tremaining: 92.4ms\n",
      "44:\tlearn: 14.7086196\ttotal: 74.1ms\tremaining: 90.6ms\n",
      "45:\tlearn: 14.6556309\ttotal: 75.7ms\tremaining: 88.9ms\n",
      "46:\tlearn: 14.5789127\ttotal: 77.4ms\tremaining: 87.3ms\n",
      "47:\tlearn: 14.4844265\ttotal: 79.3ms\tremaining: 85.9ms\n",
      "48:\tlearn: 14.4085416\ttotal: 80.9ms\tremaining: 84.2ms\n",
      "49:\tlearn: 14.2662151\ttotal: 82.5ms\tremaining: 82.5ms\n",
      "50:\tlearn: 14.1779821\ttotal: 84ms\tremaining: 80.7ms\n",
      "51:\tlearn: 14.0845316\ttotal: 85.5ms\tremaining: 78.9ms\n",
      "52:\tlearn: 13.9992204\ttotal: 87ms\tremaining: 77.2ms\n",
      "53:\tlearn: 13.9638040\ttotal: 88.5ms\tremaining: 75.4ms\n",
      "54:\tlearn: 13.9107449\ttotal: 90ms\tremaining: 73.7ms\n",
      "55:\tlearn: 13.8453700\ttotal: 91.5ms\tremaining: 71.9ms\n",
      "56:\tlearn: 13.8207697\ttotal: 93.1ms\tremaining: 70.2ms\n",
      "57:\tlearn: 13.7630701\ttotal: 94.8ms\tremaining: 68.7ms\n",
      "58:\tlearn: 13.5509784\ttotal: 96.6ms\tremaining: 67.1ms\n",
      "59:\tlearn: 13.4453596\ttotal: 98.5ms\tremaining: 65.7ms\n",
      "60:\tlearn: 13.3509661\ttotal: 100ms\tremaining: 64.1ms\n",
      "61:\tlearn: 13.3074523\ttotal: 102ms\tremaining: 62.5ms\n",
      "62:\tlearn: 13.2444538\ttotal: 104ms\tremaining: 60.8ms\n",
      "63:\tlearn: 13.1500355\ttotal: 105ms\tremaining: 59.2ms\n",
      "64:\tlearn: 13.1041674\ttotal: 107ms\tremaining: 57.5ms\n",
      "65:\tlearn: 13.0796399\ttotal: 108ms\tremaining: 55.8ms\n",
      "66:\tlearn: 13.0081861\ttotal: 110ms\tremaining: 54.2ms\n",
      "67:\tlearn: 12.9640892\ttotal: 112ms\tremaining: 52.5ms\n",
      "68:\tlearn: 12.8404241\ttotal: 113ms\tremaining: 50.9ms\n",
      "69:\tlearn: 12.7717698\ttotal: 115ms\tremaining: 49.2ms\n",
      "70:\tlearn: 12.7166880\ttotal: 117ms\tremaining: 47.6ms\n",
      "71:\tlearn: 12.6854930\ttotal: 118ms\tremaining: 45.9ms\n",
      "72:\tlearn: 12.6541618\ttotal: 120ms\tremaining: 44.2ms\n",
      "73:\tlearn: 12.5623206\ttotal: 121ms\tremaining: 42.6ms\n",
      "74:\tlearn: 12.4804115\ttotal: 123ms\tremaining: 40.9ms\n",
      "75:\tlearn: 12.3953265\ttotal: 124ms\tremaining: 39.2ms\n",
      "76:\tlearn: 12.3627961\ttotal: 126ms\tremaining: 37.5ms\n",
      "77:\tlearn: 12.2573567\ttotal: 127ms\tremaining: 35.9ms\n",
      "78:\tlearn: 12.1654669\ttotal: 129ms\tremaining: 34.3ms\n",
      "79:\tlearn: 12.1215586\ttotal: 130ms\tremaining: 32.6ms\n",
      "80:\tlearn: 12.0766533\ttotal: 132ms\tremaining: 31ms\n",
      "81:\tlearn: 12.0106924\ttotal: 134ms\tremaining: 29.3ms\n",
      "82:\tlearn: 11.9653618\ttotal: 135ms\tremaining: 27.7ms\n",
      "83:\tlearn: 11.8745328\ttotal: 137ms\tremaining: 26ms\n",
      "84:\tlearn: 11.8204345\ttotal: 138ms\tremaining: 24.4ms\n",
      "85:\tlearn: 11.8025410\ttotal: 140ms\tremaining: 22.8ms\n",
      "86:\tlearn: 11.7548619\ttotal: 142ms\tremaining: 21.2ms\n",
      "87:\tlearn: 11.7212187\ttotal: 143ms\tremaining: 19.5ms\n",
      "88:\tlearn: 11.6619236\ttotal: 145ms\tremaining: 17.9ms\n",
      "89:\tlearn: 11.6395857\ttotal: 146ms\tremaining: 16.3ms\n",
      "90:\tlearn: 11.5982309\ttotal: 148ms\tremaining: 14.6ms\n",
      "91:\tlearn: 11.5354817\ttotal: 150ms\tremaining: 13ms\n",
      "92:\tlearn: 11.4690739\ttotal: 152ms\tremaining: 11.4ms\n",
      "93:\tlearn: 11.3664029\ttotal: 153ms\tremaining: 9.79ms\n",
      "94:\tlearn: 11.3174771\ttotal: 155ms\tremaining: 8.16ms\n",
      "95:\tlearn: 11.2412702\ttotal: 157ms\tremaining: 6.53ms\n",
      "96:\tlearn: 11.2344170\ttotal: 158ms\tremaining: 4.9ms\n",
      "97:\tlearn: 11.1887244\ttotal: 160ms\tremaining: 3.27ms\n",
      "98:\tlearn: 11.1451193\ttotal: 162ms\tremaining: 1.63ms\n",
      "99:\tlearn: 11.1359817\ttotal: 163ms\tremaining: 0us\n",
      "Learning rate set to 0.302992\n",
      "0:\tlearn: 28.7082375\ttotal: 1.92ms\tremaining: 190ms\n",
      "1:\tlearn: 25.8987469\ttotal: 3.93ms\tremaining: 193ms\n",
      "2:\tlearn: 24.3958544\ttotal: 5.72ms\tremaining: 185ms\n",
      "3:\tlearn: 23.5450794\ttotal: 7.58ms\tremaining: 182ms\n",
      "4:\tlearn: 22.8089244\ttotal: 9.44ms\tremaining: 179ms\n",
      "5:\tlearn: 22.0574958\ttotal: 11.2ms\tremaining: 175ms\n",
      "6:\tlearn: 21.5571221\ttotal: 12.9ms\tremaining: 171ms\n",
      "7:\tlearn: 21.0035800\ttotal: 14.6ms\tremaining: 168ms\n",
      "8:\tlearn: 20.5965663\ttotal: 16.4ms\tremaining: 166ms\n",
      "9:\tlearn: 20.2931467\ttotal: 18.1ms\tremaining: 163ms\n",
      "10:\tlearn: 19.8780238\ttotal: 19.9ms\tremaining: 161ms\n",
      "11:\tlearn: 19.6546799\ttotal: 21.7ms\tremaining: 159ms\n",
      "12:\tlearn: 19.4544419\ttotal: 23.4ms\tremaining: 157ms\n",
      "13:\tlearn: 19.2580235\ttotal: 25.1ms\tremaining: 154ms\n",
      "14:\tlearn: 18.9905754\ttotal: 26.9ms\tremaining: 153ms\n",
      "15:\tlearn: 18.8142740\ttotal: 28.9ms\tremaining: 152ms\n",
      "16:\tlearn: 18.7452046\ttotal: 30.7ms\tremaining: 150ms\n",
      "17:\tlearn: 18.5236372\ttotal: 32.5ms\tremaining: 148ms\n",
      "18:\tlearn: 18.3600429\ttotal: 34.3ms\tremaining: 146ms\n",
      "19:\tlearn: 18.1642921\ttotal: 36.1ms\tremaining: 144ms\n",
      "20:\tlearn: 17.9885788\ttotal: 37.9ms\tremaining: 142ms\n",
      "21:\tlearn: 17.9320068\ttotal: 39.6ms\tremaining: 140ms\n",
      "22:\tlearn: 17.7562077\ttotal: 41.4ms\tremaining: 139ms\n",
      "23:\tlearn: 17.6570915\ttotal: 43.2ms\tremaining: 137ms\n",
      "24:\tlearn: 17.4732281\ttotal: 44.9ms\tremaining: 135ms\n",
      "25:\tlearn: 17.3657233\ttotal: 46.6ms\tremaining: 133ms\n",
      "26:\tlearn: 17.2133748\ttotal: 48.3ms\tremaining: 131ms\n",
      "27:\tlearn: 17.1032920\ttotal: 50ms\tremaining: 129ms\n",
      "28:\tlearn: 17.0334320\ttotal: 51.6ms\tremaining: 126ms\n",
      "29:\tlearn: 16.9146942\ttotal: 53.3ms\tremaining: 124ms\n",
      "30:\tlearn: 16.8302775\ttotal: 54.9ms\tremaining: 122ms\n",
      "31:\tlearn: 16.6603328\ttotal: 56.6ms\tremaining: 120ms\n",
      "32:\tlearn: 16.5438286\ttotal: 58.4ms\tremaining: 119ms\n",
      "33:\tlearn: 16.4764303\ttotal: 60.1ms\tremaining: 117ms\n",
      "34:\tlearn: 16.3631948\ttotal: 61.8ms\tremaining: 115ms\n",
      "35:\tlearn: 16.1902188\ttotal: 63.6ms\tremaining: 113ms\n",
      "36:\tlearn: 16.0660641\ttotal: 65.4ms\tremaining: 111ms\n",
      "37:\tlearn: 15.9444878\ttotal: 67.2ms\tremaining: 110ms\n",
      "38:\tlearn: 15.8418418\ttotal: 68.9ms\tremaining: 108ms\n",
      "39:\tlearn: 15.7261618\ttotal: 70.6ms\tremaining: 106ms\n",
      "40:\tlearn: 15.6969735\ttotal: 72.4ms\tremaining: 104ms\n",
      "41:\tlearn: 15.6257673\ttotal: 74.1ms\tremaining: 102ms\n",
      "42:\tlearn: 15.5166753\ttotal: 75.9ms\tremaining: 101ms\n",
      "43:\tlearn: 15.4319030\ttotal: 77.6ms\tremaining: 98.8ms\n",
      "44:\tlearn: 15.3077025\ttotal: 79.5ms\tremaining: 97.1ms\n",
      "45:\tlearn: 15.2548912\ttotal: 81.5ms\tremaining: 95.7ms\n",
      "46:\tlearn: 15.0728932\ttotal: 83.5ms\tremaining: 94.1ms\n",
      "47:\tlearn: 15.0540893\ttotal: 85.2ms\tremaining: 92.3ms\n",
      "48:\tlearn: 14.9350981\ttotal: 87ms\tremaining: 90.5ms\n",
      "49:\tlearn: 14.9019604\ttotal: 88.7ms\tremaining: 88.7ms\n",
      "50:\tlearn: 14.8058430\ttotal: 90.5ms\tremaining: 86.9ms\n",
      "51:\tlearn: 14.7389581\ttotal: 92.2ms\tremaining: 85.1ms\n",
      "52:\tlearn: 14.6580540\ttotal: 94.1ms\tremaining: 83.5ms\n",
      "53:\tlearn: 14.5598066\ttotal: 96.1ms\tremaining: 81.8ms\n",
      "54:\tlearn: 14.4912404\ttotal: 97.7ms\tremaining: 80ms\n",
      "55:\tlearn: 14.4646600\ttotal: 99.5ms\tremaining: 78.2ms\n",
      "56:\tlearn: 14.3910031\ttotal: 101ms\tremaining: 76.4ms\n",
      "57:\tlearn: 14.2908134\ttotal: 105ms\tremaining: 75.8ms\n",
      "58:\tlearn: 14.2112874\ttotal: 106ms\tremaining: 73.9ms\n",
      "59:\tlearn: 14.1201479\ttotal: 108ms\tremaining: 72.1ms\n",
      "60:\tlearn: 14.0669015\ttotal: 110ms\tremaining: 70.2ms\n",
      "61:\tlearn: 14.0548217\ttotal: 112ms\tremaining: 68.4ms\n",
      "62:\tlearn: 14.0052936\ttotal: 113ms\tremaining: 66.5ms\n",
      "63:\tlearn: 13.9621432\ttotal: 115ms\tremaining: 64.7ms\n",
      "64:\tlearn: 13.8703161\ttotal: 117ms\tremaining: 62.9ms\n",
      "65:\tlearn: 13.7777249\ttotal: 119ms\tremaining: 61.1ms\n",
      "66:\tlearn: 13.7600439\ttotal: 120ms\tremaining: 59.3ms\n",
      "67:\tlearn: 13.6568398\ttotal: 122ms\tremaining: 57.5ms\n",
      "68:\tlearn: 13.5878899\ttotal: 124ms\tremaining: 55.7ms\n",
      "69:\tlearn: 13.5268019\ttotal: 126ms\tremaining: 53.8ms\n",
      "70:\tlearn: 13.4595606\ttotal: 127ms\tremaining: 52ms\n",
      "71:\tlearn: 13.4335544\ttotal: 129ms\tremaining: 50.1ms\n",
      "72:\tlearn: 13.3865756\ttotal: 131ms\tremaining: 48.4ms\n",
      "73:\tlearn: 13.3244037\ttotal: 133ms\tremaining: 46.6ms\n",
      "74:\tlearn: 13.3100648\ttotal: 134ms\tremaining: 44.8ms\n",
      "75:\tlearn: 13.2959762\ttotal: 136ms\tremaining: 42.9ms\n",
      "76:\tlearn: 13.2129296\ttotal: 138ms\tremaining: 41.1ms\n",
      "77:\tlearn: 13.1375549\ttotal: 139ms\tremaining: 39.3ms\n",
      "78:\tlearn: 13.0663203\ttotal: 141ms\tremaining: 37.5ms\n",
      "79:\tlearn: 12.9871216\ttotal: 143ms\tremaining: 35.7ms\n",
      "80:\tlearn: 12.9345125\ttotal: 145ms\tremaining: 34ms\n",
      "81:\tlearn: 12.8689423\ttotal: 147ms\tremaining: 32.2ms\n",
      "82:\tlearn: 12.8149771\ttotal: 148ms\tremaining: 30.4ms\n",
      "83:\tlearn: 12.7645057\ttotal: 150ms\tremaining: 28.7ms\n",
      "84:\tlearn: 12.7202922\ttotal: 152ms\tremaining: 26.8ms\n",
      "85:\tlearn: 12.6733758\ttotal: 154ms\tremaining: 25.1ms\n",
      "86:\tlearn: 12.6341361\ttotal: 156ms\tremaining: 23.3ms\n",
      "87:\tlearn: 12.5549369\ttotal: 157ms\tremaining: 21.5ms\n",
      "88:\tlearn: 12.5103415\ttotal: 159ms\tremaining: 19.7ms\n",
      "89:\tlearn: 12.4392132\ttotal: 161ms\tremaining: 17.9ms\n",
      "90:\tlearn: 12.3968371\ttotal: 163ms\tremaining: 16.1ms\n",
      "91:\tlearn: 12.3485536\ttotal: 164ms\tremaining: 14.3ms\n",
      "92:\tlearn: 12.2949172\ttotal: 166ms\tremaining: 12.5ms\n",
      "93:\tlearn: 12.2617342\ttotal: 168ms\tremaining: 10.7ms\n",
      "94:\tlearn: 12.2409839\ttotal: 170ms\tremaining: 8.93ms\n",
      "95:\tlearn: 12.1889437\ttotal: 171ms\tremaining: 7.14ms\n",
      "96:\tlearn: 12.1403768\ttotal: 173ms\tremaining: 5.35ms\n",
      "97:\tlearn: 12.0696489\ttotal: 175ms\tremaining: 3.57ms\n",
      "98:\tlearn: 12.0457834\ttotal: 177ms\tremaining: 1.78ms\n",
      "99:\tlearn: 12.0033890\ttotal: 178ms\tremaining: 0us\n",
      "Learning rate set to 0.313857\n",
      "0:\tlearn: 29.1619032\ttotal: 2.05ms\tremaining: 203ms\n",
      "1:\tlearn: 26.7604813\ttotal: 3.99ms\tremaining: 196ms\n",
      "2:\tlearn: 25.0711194\ttotal: 5.95ms\tremaining: 192ms\n",
      "3:\tlearn: 24.2238902\ttotal: 7.93ms\tremaining: 190ms\n",
      "4:\tlearn: 23.3650879\ttotal: 9.72ms\tremaining: 185ms\n",
      "5:\tlearn: 22.6768472\ttotal: 11.7ms\tremaining: 184ms\n",
      "6:\tlearn: 22.1770645\ttotal: 13.7ms\tremaining: 181ms\n",
      "7:\tlearn: 21.7591030\ttotal: 15.6ms\tremaining: 180ms\n",
      "8:\tlearn: 21.5243429\ttotal: 17.6ms\tremaining: 177ms\n",
      "9:\tlearn: 21.2639684\ttotal: 19.5ms\tremaining: 176ms\n",
      "10:\tlearn: 20.9639806\ttotal: 21.5ms\tremaining: 174ms\n",
      "11:\tlearn: 20.8845566\ttotal: 23.4ms\tremaining: 171ms\n",
      "12:\tlearn: 20.7033317\ttotal: 25.2ms\tremaining: 169ms\n",
      "13:\tlearn: 20.1758143\ttotal: 27.2ms\tremaining: 167ms\n",
      "14:\tlearn: 19.9310899\ttotal: 29.1ms\tremaining: 165ms\n",
      "15:\tlearn: 19.8674283\ttotal: 31ms\tremaining: 163ms\n",
      "16:\tlearn: 19.8139831\ttotal: 32.9ms\tremaining: 161ms\n",
      "17:\tlearn: 19.6915855\ttotal: 34.8ms\tremaining: 158ms\n",
      "18:\tlearn: 19.4953697\ttotal: 36.6ms\tremaining: 156ms\n",
      "19:\tlearn: 19.3232672\ttotal: 38.6ms\tremaining: 155ms\n",
      "20:\tlearn: 19.0884796\ttotal: 40.5ms\tremaining: 152ms\n",
      "21:\tlearn: 18.9889149\ttotal: 42.5ms\tremaining: 151ms\n",
      "22:\tlearn: 18.7917207\ttotal: 44.3ms\tremaining: 148ms\n",
      "23:\tlearn: 18.6768908\ttotal: 46.2ms\tremaining: 146ms\n",
      "24:\tlearn: 18.4796637\ttotal: 48.2ms\tremaining: 144ms\n",
      "25:\tlearn: 18.3128983\ttotal: 50.5ms\tremaining: 144ms\n",
      "26:\tlearn: 18.1976195\ttotal: 52.3ms\tremaining: 141ms\n",
      "27:\tlearn: 17.9867208\ttotal: 54.3ms\tremaining: 140ms\n",
      "28:\tlearn: 17.9105753\ttotal: 56ms\tremaining: 137ms\n",
      "29:\tlearn: 17.8081558\ttotal: 57.8ms\tremaining: 135ms\n",
      "30:\tlearn: 17.6593594\ttotal: 59.6ms\tremaining: 133ms\n",
      "31:\tlearn: 17.6174893\ttotal: 61.5ms\tremaining: 131ms\n",
      "32:\tlearn: 17.4851630\ttotal: 63.3ms\tremaining: 129ms\n",
      "33:\tlearn: 17.4646474\ttotal: 65.2ms\tremaining: 127ms\n",
      "34:\tlearn: 17.4229256\ttotal: 67ms\tremaining: 124ms\n",
      "35:\tlearn: 17.2826665\ttotal: 68.9ms\tremaining: 122ms\n",
      "36:\tlearn: 17.1824835\ttotal: 70.8ms\tremaining: 121ms\n",
      "37:\tlearn: 17.1495888\ttotal: 72.6ms\tremaining: 118ms\n",
      "38:\tlearn: 17.1329984\ttotal: 74.5ms\tremaining: 117ms\n",
      "39:\tlearn: 17.0613980\ttotal: 76.4ms\tremaining: 115ms\n",
      "40:\tlearn: 16.9725677\ttotal: 78.1ms\tremaining: 112ms\n",
      "41:\tlearn: 16.8477602\ttotal: 80.1ms\tremaining: 111ms\n",
      "42:\tlearn: 16.8358221\ttotal: 81.8ms\tremaining: 108ms\n",
      "43:\tlearn: 16.7509165\ttotal: 83.7ms\tremaining: 107ms\n",
      "44:\tlearn: 16.6767501\ttotal: 85.6ms\tremaining: 105ms\n",
      "45:\tlearn: 16.5420891\ttotal: 87.5ms\tremaining: 103ms\n",
      "46:\tlearn: 16.4628186\ttotal: 89.4ms\tremaining: 101ms\n",
      "47:\tlearn: 16.4169836\ttotal: 91.3ms\tremaining: 98.9ms\n",
      "48:\tlearn: 16.3426230\ttotal: 93.2ms\tremaining: 97ms\n",
      "49:\tlearn: 16.2428165\ttotal: 99.3ms\tremaining: 99.3ms\n",
      "50:\tlearn: 16.1817615\ttotal: 101ms\tremaining: 97.2ms\n",
      "51:\tlearn: 16.0923669\ttotal: 103ms\tremaining: 95.1ms\n",
      "52:\tlearn: 15.9911381\ttotal: 105ms\tremaining: 93.2ms\n",
      "53:\tlearn: 15.8841295\ttotal: 107ms\tremaining: 91.2ms\n",
      "54:\tlearn: 15.8001064\ttotal: 109ms\tremaining: 89.3ms\n",
      "55:\tlearn: 15.7052986\ttotal: 111ms\tremaining: 87.3ms\n",
      "56:\tlearn: 15.6538220\ttotal: 113ms\tremaining: 85.1ms\n",
      "57:\tlearn: 15.6392474\ttotal: 115ms\tremaining: 83.1ms\n",
      "58:\tlearn: 15.5636403\ttotal: 117ms\tremaining: 81.2ms\n",
      "59:\tlearn: 15.4673429\ttotal: 119ms\tremaining: 79.1ms\n",
      "60:\tlearn: 15.4262159\ttotal: 120ms\tremaining: 77ms\n",
      "61:\tlearn: 15.4059539\ttotal: 122ms\tremaining: 75ms\n",
      "62:\tlearn: 15.3080443\ttotal: 124ms\tremaining: 73ms\n",
      "63:\tlearn: 15.2553891\ttotal: 126ms\tremaining: 70.9ms\n",
      "64:\tlearn: 15.1867220\ttotal: 128ms\tremaining: 69ms\n",
      "65:\tlearn: 15.1630423\ttotal: 130ms\tremaining: 67ms\n",
      "66:\tlearn: 15.0815862\ttotal: 132ms\tremaining: 64.9ms\n",
      "67:\tlearn: 15.0287867\ttotal: 134ms\tremaining: 62.9ms\n",
      "68:\tlearn: 14.9448051\ttotal: 136ms\tremaining: 60.9ms\n",
      "69:\tlearn: 14.9026777\ttotal: 137ms\tremaining: 58.8ms\n",
      "70:\tlearn: 14.8586443\ttotal: 139ms\tremaining: 56.8ms\n",
      "71:\tlearn: 14.7975202\ttotal: 141ms\tremaining: 54.8ms\n",
      "72:\tlearn: 14.7439436\ttotal: 143ms\tremaining: 52.8ms\n",
      "73:\tlearn: 14.7091751\ttotal: 145ms\tremaining: 50.8ms\n",
      "74:\tlearn: 14.6659512\ttotal: 146ms\tremaining: 48.8ms\n",
      "75:\tlearn: 14.6153446\ttotal: 148ms\tremaining: 46.8ms\n",
      "76:\tlearn: 14.5231192\ttotal: 150ms\tremaining: 44.9ms\n",
      "77:\tlearn: 14.5131366\ttotal: 152ms\tremaining: 42.9ms\n",
      "78:\tlearn: 14.4474366\ttotal: 154ms\tremaining: 41ms\n",
      "79:\tlearn: 14.4256492\ttotal: 156ms\tremaining: 38.9ms\n",
      "80:\tlearn: 14.3483177\ttotal: 158ms\tremaining: 37ms\n",
      "81:\tlearn: 14.3252182\ttotal: 159ms\tremaining: 35ms\n",
      "82:\tlearn: 14.2867093\ttotal: 161ms\tremaining: 33ms\n",
      "83:\tlearn: 14.2133102\ttotal: 163ms\tremaining: 31.1ms\n",
      "84:\tlearn: 14.1883463\ttotal: 165ms\tremaining: 29.1ms\n",
      "85:\tlearn: 14.1772603\ttotal: 167ms\tremaining: 27.2ms\n",
      "86:\tlearn: 14.1605893\ttotal: 169ms\tremaining: 25.2ms\n",
      "87:\tlearn: 14.1333134\ttotal: 170ms\tremaining: 23.2ms\n",
      "88:\tlearn: 14.0542160\ttotal: 172ms\tremaining: 21.3ms\n",
      "89:\tlearn: 14.0268842\ttotal: 174ms\tremaining: 19.4ms\n",
      "90:\tlearn: 13.9503001\ttotal: 176ms\tremaining: 17.4ms\n",
      "91:\tlearn: 13.8818198\ttotal: 178ms\tremaining: 15.5ms\n",
      "92:\tlearn: 13.8232517\ttotal: 180ms\tremaining: 13.6ms\n",
      "93:\tlearn: 13.7223847\ttotal: 182ms\tremaining: 11.6ms\n",
      "94:\tlearn: 13.6507711\ttotal: 184ms\tremaining: 9.69ms\n",
      "95:\tlearn: 13.5938188\ttotal: 186ms\tremaining: 7.75ms\n",
      "96:\tlearn: 13.5835911\ttotal: 188ms\tremaining: 5.81ms\n",
      "97:\tlearn: 13.5339182\ttotal: 190ms\tremaining: 3.87ms\n",
      "98:\tlearn: 13.4996780\ttotal: 197ms\tremaining: 1.99ms\n",
      "99:\tlearn: 13.4464806\ttotal: 199ms\tremaining: 0us\n",
      "Learning rate set to 0.323023\n",
      "0:\tlearn: 30.3803857\ttotal: 2.19ms\tremaining: 217ms\n",
      "1:\tlearn: 27.3390005\ttotal: 4.39ms\tremaining: 215ms\n",
      "2:\tlearn: 25.7780808\ttotal: 6.31ms\tremaining: 204ms\n",
      "3:\tlearn: 24.5766593\ttotal: 8.36ms\tremaining: 201ms\n",
      "4:\tlearn: 23.9018427\ttotal: 10.3ms\tremaining: 196ms\n",
      "5:\tlearn: 23.3597092\ttotal: 12.3ms\tremaining: 193ms\n",
      "6:\tlearn: 23.0415625\ttotal: 14.3ms\tremaining: 190ms\n",
      "7:\tlearn: 22.6721213\ttotal: 16.3ms\tremaining: 187ms\n",
      "8:\tlearn: 22.1913500\ttotal: 18.3ms\tremaining: 185ms\n",
      "9:\tlearn: 21.8912152\ttotal: 20.3ms\tremaining: 183ms\n",
      "10:\tlearn: 21.6189045\ttotal: 22.3ms\tremaining: 181ms\n",
      "11:\tlearn: 21.3813406\ttotal: 24.4ms\tremaining: 179ms\n",
      "12:\tlearn: 21.2530512\ttotal: 26.4ms\tremaining: 176ms\n",
      "13:\tlearn: 20.9572776\ttotal: 28.4ms\tremaining: 175ms\n",
      "14:\tlearn: 20.6164337\ttotal: 30.5ms\tremaining: 173ms\n",
      "15:\tlearn: 20.4666462\ttotal: 32.5ms\tremaining: 170ms\n",
      "16:\tlearn: 20.3822759\ttotal: 34.5ms\tremaining: 168ms\n",
      "17:\tlearn: 20.2930429\ttotal: 36.4ms\tremaining: 166ms\n",
      "18:\tlearn: 20.1051994\ttotal: 38.5ms\tremaining: 164ms\n",
      "19:\tlearn: 20.0225957\ttotal: 40.4ms\tremaining: 162ms\n",
      "20:\tlearn: 19.7406056\ttotal: 42.5ms\tremaining: 160ms\n",
      "21:\tlearn: 19.6482627\ttotal: 44.5ms\tremaining: 158ms\n",
      "22:\tlearn: 19.5381148\ttotal: 46.5ms\tremaining: 156ms\n",
      "23:\tlearn: 19.4288056\ttotal: 48.5ms\tremaining: 154ms\n",
      "24:\tlearn: 19.3024670\ttotal: 50.5ms\tremaining: 152ms\n",
      "25:\tlearn: 19.2057287\ttotal: 52.5ms\tremaining: 150ms\n",
      "26:\tlearn: 19.0053049\ttotal: 54.5ms\tremaining: 147ms\n",
      "27:\tlearn: 18.8564504\ttotal: 56.5ms\tremaining: 145ms\n",
      "28:\tlearn: 18.7390068\ttotal: 58.7ms\tremaining: 144ms\n",
      "29:\tlearn: 18.6413253\ttotal: 60.7ms\tremaining: 142ms\n",
      "30:\tlearn: 18.5855482\ttotal: 62.6ms\tremaining: 139ms\n",
      "31:\tlearn: 18.4622517\ttotal: 64.7ms\tremaining: 137ms\n",
      "32:\tlearn: 18.3774230\ttotal: 66.8ms\tremaining: 136ms\n",
      "33:\tlearn: 18.3590925\ttotal: 68.6ms\tremaining: 133ms\n",
      "34:\tlearn: 18.2772308\ttotal: 70.7ms\tremaining: 131ms\n",
      "35:\tlearn: 18.1956312\ttotal: 72.6ms\tremaining: 129ms\n",
      "36:\tlearn: 18.1536834\ttotal: 74.6ms\tremaining: 127ms\n",
      "37:\tlearn: 18.0643539\ttotal: 76.6ms\tremaining: 125ms\n",
      "38:\tlearn: 18.0106372\ttotal: 78.6ms\tremaining: 123ms\n",
      "39:\tlearn: 17.9591756\ttotal: 80.6ms\tremaining: 121ms\n",
      "40:\tlearn: 17.8554686\ttotal: 82.6ms\tremaining: 119ms\n",
      "41:\tlearn: 17.7628469\ttotal: 84.8ms\tremaining: 117ms\n",
      "42:\tlearn: 17.5953264\ttotal: 86.8ms\tremaining: 115ms\n",
      "43:\tlearn: 17.4774613\ttotal: 88.8ms\tremaining: 113ms\n",
      "44:\tlearn: 17.3644911\ttotal: 90.8ms\tremaining: 111ms\n",
      "45:\tlearn: 17.2739520\ttotal: 92.8ms\tremaining: 109ms\n",
      "46:\tlearn: 17.2303136\ttotal: 94.9ms\tremaining: 107ms\n",
      "47:\tlearn: 17.1319688\ttotal: 97.6ms\tremaining: 106ms\n",
      "48:\tlearn: 16.9874596\ttotal: 99.9ms\tremaining: 104ms\n",
      "49:\tlearn: 16.9495601\ttotal: 102ms\tremaining: 102ms\n",
      "50:\tlearn: 16.8678670\ttotal: 104ms\tremaining: 99.7ms\n",
      "51:\tlearn: 16.8192402\ttotal: 106ms\tremaining: 97.6ms\n",
      "52:\tlearn: 16.7870213\ttotal: 108ms\tremaining: 95.5ms\n",
      "53:\tlearn: 16.7371080\ttotal: 110ms\tremaining: 93.4ms\n",
      "54:\tlearn: 16.6344641\ttotal: 112ms\tremaining: 91.4ms\n",
      "55:\tlearn: 16.6195229\ttotal: 114ms\tremaining: 89.2ms\n",
      "56:\tlearn: 16.5547294\ttotal: 116ms\tremaining: 87.3ms\n",
      "57:\tlearn: 16.4932644\ttotal: 118ms\tremaining: 85.1ms\n",
      "58:\tlearn: 16.4035408\ttotal: 120ms\tremaining: 83.2ms\n",
      "59:\tlearn: 16.3698392\ttotal: 122ms\tremaining: 81.2ms\n",
      "60:\tlearn: 16.2780955\ttotal: 124ms\tremaining: 79.1ms\n",
      "61:\tlearn: 16.2497665\ttotal: 126ms\tremaining: 77.1ms\n",
      "62:\tlearn: 16.2106532\ttotal: 128ms\tremaining: 75ms\n",
      "63:\tlearn: 16.1326964\ttotal: 130ms\tremaining: 72.9ms\n",
      "64:\tlearn: 16.1109283\ttotal: 132ms\tremaining: 70.9ms\n",
      "65:\tlearn: 16.1002602\ttotal: 133ms\tremaining: 68.7ms\n",
      "66:\tlearn: 16.0389137\ttotal: 135ms\tremaining: 66.7ms\n",
      "67:\tlearn: 15.9845921\ttotal: 137ms\tremaining: 64.7ms\n",
      "68:\tlearn: 15.9472799\ttotal: 139ms\tremaining: 62.6ms\n",
      "69:\tlearn: 15.8905994\ttotal: 141ms\tremaining: 60.6ms\n",
      "70:\tlearn: 15.8015129\ttotal: 143ms\tremaining: 58.5ms\n",
      "71:\tlearn: 15.7442395\ttotal: 145ms\tremaining: 56.5ms\n",
      "72:\tlearn: 15.7256584\ttotal: 147ms\tremaining: 54.5ms\n",
      "73:\tlearn: 15.6892351\ttotal: 149ms\tremaining: 52.5ms\n",
      "74:\tlearn: 15.5783640\ttotal: 152ms\tremaining: 50.7ms\n",
      "75:\tlearn: 15.5373588\ttotal: 154ms\tremaining: 48.8ms\n",
      "76:\tlearn: 15.5021983\ttotal: 156ms\tremaining: 46.7ms\n",
      "77:\tlearn: 15.4421788\ttotal: 158ms\tremaining: 44.7ms\n",
      "78:\tlearn: 15.3864215\ttotal: 160ms\tremaining: 42.7ms\n",
      "79:\tlearn: 15.3350761\ttotal: 162ms\tremaining: 40.6ms\n",
      "80:\tlearn: 15.2941899\ttotal: 165ms\tremaining: 38.7ms\n",
      "81:\tlearn: 15.2679245\ttotal: 167ms\tremaining: 36.7ms\n",
      "82:\tlearn: 15.2260651\ttotal: 170ms\tremaining: 34.8ms\n",
      "83:\tlearn: 15.2054445\ttotal: 172ms\tremaining: 32.7ms\n",
      "84:\tlearn: 15.1652866\ttotal: 174ms\tremaining: 30.7ms\n",
      "85:\tlearn: 15.0881766\ttotal: 176ms\tremaining: 28.6ms\n",
      "86:\tlearn: 15.0548425\ttotal: 178ms\tremaining: 26.6ms\n",
      "87:\tlearn: 14.9928461\ttotal: 188ms\tremaining: 25.6ms\n",
      "88:\tlearn: 14.9248003\ttotal: 190ms\tremaining: 23.5ms\n",
      "89:\tlearn: 14.9153157\ttotal: 192ms\tremaining: 21.3ms\n",
      "90:\tlearn: 14.8555784\ttotal: 194ms\tremaining: 19.2ms\n",
      "91:\tlearn: 14.8212410\ttotal: 196ms\tremaining: 17ms\n",
      "92:\tlearn: 14.7880254\ttotal: 198ms\tremaining: 14.9ms\n",
      "93:\tlearn: 14.7528474\ttotal: 200ms\tremaining: 12.8ms\n",
      "94:\tlearn: 14.7018433\ttotal: 202ms\tremaining: 10.6ms\n",
      "95:\tlearn: 14.6382016\ttotal: 204ms\tremaining: 8.5ms\n",
      "96:\tlearn: 14.6017531\ttotal: 206ms\tremaining: 6.37ms\n",
      "97:\tlearn: 14.5562845\ttotal: 208ms\tremaining: 4.24ms\n",
      "98:\tlearn: 14.5110075\ttotal: 210ms\tremaining: 2.12ms\n",
      "99:\tlearn: 14.4948745\ttotal: 212ms\tremaining: 0us\n"
     ]
    },
    {
     "data": {
      "text/plain": [
       "-25.530010083725724"
      ]
     },
     "execution_count": 20,
     "metadata": {},
     "output_type": "execute_result"
    }
   ],
   "source": [
    "model_cb = CatBoostRegressor(loss_function=\"RMSE\", iterations=100)\n",
    "scores_cb = cross_val_score(model_cb, features_train, target_train, cv=tssv, scoring='neg_root_mean_squared_error')\n",
    "scores_cb.mean()"
   ]
  },
  {
   "cell_type": "markdown",
   "metadata": {},
   "source": [
    "The CatBoost algorith outperforms Linear Regression with an RMSE of -25.53, yielding superior result"
   ]
  },
  {
   "cell_type": "markdown",
   "metadata": {},
   "source": [
    "## Testing"
   ]
  },
  {
   "cell_type": "markdown",
   "metadata": {},
   "source": [
    "**Random Forest**\n",
    "\n",
    "We can employ GridSearchCV to identify the optimal combination of hyperparameters for the Random Forest algorithm."
   ]
  },
  {
   "cell_type": "code",
   "execution_count": 21,
   "metadata": {},
   "outputs": [
    {
     "data": {
      "text/plain": [
       "{'max_depth': 7,\n",
       " 'max_features': 'auto',\n",
       " 'min_samples_split': 2,\n",
       " 'n_estimators': 20}"
      ]
     },
     "execution_count": 21,
     "metadata": {},
     "output_type": "execute_result"
    }
   ],
   "source": [
    "rf = RandomForestRegressor()\n",
    "param_grid = { 'n_estimators': [5,10, 20],\n",
    "               'max_features': ['auto', 'sqrt'],\n",
    "               'max_depth': [3,4,5,6,7],\n",
    "               'min_samples_split': [2,3,4,5]\n",
    "               }\n",
    "\n",
    "CV_rfc = GridSearchCV(estimator=rf, param_grid=param_grid, cv= tssv)\n",
    "CV_rfc.fit(features_train, target_train)\n",
    "CV_rfc.best_params_"
   ]
  },
  {
   "cell_type": "markdown",
   "metadata": {},
   "source": [
    "And assess the model using the discovered set of hyperparameters."
   ]
  },
  {
   "cell_type": "code",
   "execution_count": 22,
   "metadata": {},
   "outputs": [
    {
     "data": {
      "text/plain": [
       "-27.05890895412414"
      ]
     },
     "execution_count": 22,
     "metadata": {},
     "output_type": "execute_result"
    }
   ],
   "source": [
    "rf1 = RandomForestRegressor(max_depth =7,max_features='auto',min_samples_split=2,n_estimators=10)\n",
    "scores_rf1 = cross_val_score(rf1, features_train, target_train, cv=tssv, scoring='neg_root_mean_squared_error')\n",
    "scores_rf1.mean()"
   ]
  },
  {
   "cell_type": "markdown",
   "metadata": {},
   "source": [
    "The performance of Random Forest surpasses that of Linear Regression, yet it falls short in comparison to CatBoost, as indicated by the results."
   ]
  },
  {
   "cell_type": "markdown",
   "metadata": {},
   "source": [
    "<div class=\"alert alert-success\">\n",
    "<b>Reviewer's comment</b>\n",
    "\n",
    "Excellent, you tried a few different models and did some hyperparameter tuning using cross-validation appopriate for time series\n",
    "\n",
    "</div>"
   ]
  },
  {
   "cell_type": "markdown",
   "metadata": {},
   "source": [
    "Given that CatBoost demonstrated the most superior performance, it is prudent to proceed with fitting the model and subsequently evaluating its efficacy on the testing dataset."
   ]
  },
  {
   "cell_type": "code",
   "execution_count": 23,
   "metadata": {},
   "outputs": [
    {
     "name": "stdout",
     "output_type": "stream",
     "text": [
      "Learning rate set to 0.330983\n",
      "0:\tlearn: 32.9650523\ttotal: 2.56ms\tremaining: 253ms\n",
      "99:\tlearn: 15.6535188\ttotal: 224ms\tremaining: 0us\n"
     ]
    },
    {
     "data": {
      "text/plain": [
       "46.671260259070806"
      ]
     },
     "execution_count": 23,
     "metadata": {},
     "output_type": "execute_result"
    }
   ],
   "source": [
    "catboost = CatBoostRegressor(loss_function=\"RMSE\", iterations=100)\n",
    "catboost.fit(features_train, target_train, verbose = 100)\n",
    "pred = catboost.predict(features_test)\n",
    "rmse = (mean_squared_error(target_test,pred))**0.5\n",
    "rmse"
   ]
  },
  {
   "cell_type": "markdown",
   "metadata": {},
   "source": [
    "The training set satisfies the criteria as the RMSE value is 46.67."
   ]
  },
  {
   "cell_type": "markdown",
   "metadata": {},
   "source": [
    "<div class=\"alert alert-success\">\n",
    "<b>Reviewer's comment</b>\n",
    "\n",
    "The final model was evaluated on the test set and it beats the RMSE threshold, well done!\n",
    "\n",
    "</div>"
   ]
  },
  {
   "cell_type": "markdown",
   "metadata": {},
   "source": [
    "## Conclusion"
   ]
  },
  {
   "cell_type": "markdown",
   "metadata": {},
   "source": [
    "After conducting various model trainings, it has been determined that CatBoost is the optimal prediction algorithm for SweetLift Taxi company, yielding an RMSE of 46.67 on the testing set. However, a concern arises as the dataset only includes data from March to August. It is important to assess whether CatBoost will maintain the same level of efficiency during the winter months. Additionally, it is worth investigating whether the number of passengers at this particular airport is influenced by the season. This consideration becomes particularly relevant if the airport serves as a resort location and experiences reduced operations during the winter season."
   ]
  },
  {
   "cell_type": "markdown",
   "metadata": {},
   "source": [
    "<div class=\"alert alert-success\">\n",
    "<b>Reviewer's comment</b>\n",
    "\n",
    "Nice work!\n",
    "\n",
    "</div>"
   ]
  },
  {
   "cell_type": "markdown",
   "metadata": {},
   "source": [
    "# Review checklist"
   ]
  },
  {
   "cell_type": "markdown",
   "metadata": {},
   "source": [
    "- [x]  Jupyter Notebook is open\n",
    "- [x]  The code is error-free\n",
    "- [x]  The cells with the code have been arranged in order of execution\n",
    "- [x]  The data has been downloaded and prepared\n",
    "- [x]  The data has been analyzed\n",
    "- [x]  The model has been trained and hyperparameters have been selected\n",
    "- [x]  The models have been evaluated. Conclusion has been provided\n",
    "- [x] *RMSE* for the test set is not more than 48"
   ]
  }
 ],
 "metadata": {
  "kernelspec": {
   "display_name": "Python 3 (ipykernel)",
   "language": "python",
   "name": "python3"
  },
  "language_info": {
   "codemirror_mode": {
    "name": "ipython",
    "version": 3
   },
   "file_extension": ".py",
   "mimetype": "text/x-python",
   "name": "python",
   "nbconvert_exporter": "python",
   "pygments_lexer": "ipython3",
   "version": "3.9.5"
  },
  "toc": {
   "base_numbering": 1,
   "nav_menu": {},
   "number_sections": true,
   "sideBar": true,
   "skip_h1_title": true,
   "title_cell": "Table of Contents",
   "title_sidebar": "Contents",
   "toc_cell": false,
   "toc_position": {},
   "toc_section_display": true,
   "toc_window_display": false
  }
 },
 "nbformat": 4,
 "nbformat_minor": 2
}
