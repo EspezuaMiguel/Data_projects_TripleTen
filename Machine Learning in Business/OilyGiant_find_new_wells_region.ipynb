{
 "cells": [
  {
   "cell_type": "markdown",
   "metadata": {},
   "source": [
    "<div class=\"alert alert-success\">\n",
    "<b>Reviewer's comment V3</b>\n",
    "\n",
    "The project is now accepted! Good luck on the next sprint!\n",
    "    \n",
    "</div>"
   ]
  },
  {
   "cell_type": "markdown",
   "metadata": {},
   "source": [
    "**Sprint 9**\n",
    "\n",
    "Course Project\n",
    "\n",
    "By Miguel Polanco"
   ]
  },
  {
   "cell_type": "markdown",
   "metadata": {},
   "source": [
    "## **Project description**\n",
    "\n",
    "You work for the OilyGiant mining company. Your task is to find the best place for a new well.\n",
    "\n",
    "Steps to choose the location:\n",
    "\n",
    "\n",
    "\n",
    "* Collect the oil well parameters in the selected region: oil quality and volume of reserves;\n",
    "* Build a model for predicting the volume of reserves in the new wells;\n",
    "* Pick the oil wells with the highest estimated values;\n",
    "* Pick the region with the highest total profit for the selected oil wells.\n",
    "\n",
    "You have data on oil samples from three regions. Parameters of each oil well in the region are already known. Build a model that will help to pick the region with the highest profit margin. Analyze potential profit and risks using the **Bootstrapping** technique.\n",
    "\n",
    "\n",
    "## **Project instructions**\n",
    "\n",
    "\n",
    "\n",
    "1. Download and prepare the data. Explain the procedure.\n",
    "2. Train and test the model for each region: \\\n",
    " 2.1. Split the data into a training set and validation set at a ratio of 75:25. \\\n",
    " 2.2. Train the model and make predictions for the validation set. \\\n",
    " 2.3. Save the predictions and correct answers for the validation set. \\\n",
    " 2.4. Print the average volume of predicted reserves and model _RMSE. \\\n",
    " 2.5. Analyze the results.\n",
    "3. Prepare for profit calculation: \\\n",
    " 3.1. Store all key values for calculations in separate variables. \\\n",
    " 3.2. Calculate the volume of reserves sufficient for developing a new well without losses. Compare the obtained value with the average volume of reserves in each region. \\\n",
    " 3.3. Provide the findings about the preparation for profit calculation step.\n",
    "4. Write a function to calculate profit from a set of selected oil wells and model predictions: \\\n",
    " 4.1. Pick the wells with the highest values of predictions. \\\n",
    " 4.2. Summarize the target volume of reserves in accordance with these predictions \\\n",
    " 4.3. Provide findings: suggest a region for oil wells' development and justify the choice. Calculate the profit for the obtained volume of reserves.\n",
    "5. Calculate risks and profit for each region: \\\n",
    " 5.1. Use the bootstrapping technique with 1000 samples to find the distribution of profit. \\\n",
    " 5.2. Find average profit, 95% confidence interval and risk of losses. Loss is negative profit, calculate it as a probability and then express as a percentage. \\\n",
    " 5.3. Provide findings: suggest a region for development of oil wells and justify the choice."
   ]
  },
  {
   "cell_type": "markdown",
   "metadata": {},
   "source": [
    "### Download and prepare the data. Explain the procedure."
   ]
  },
  {
   "cell_type": "markdown",
   "metadata": {},
   "source": [
    "#### Import libraires"
   ]
  },
  {
   "cell_type": "code",
   "execution_count": 1,
   "metadata": {},
   "outputs": [],
   "source": [
    "import pandas as pd\n",
    "import numpy as np\n",
    "from sklearn.model_selection import train_test_split\n",
    "from sklearn.linear_model import LinearRegression\n",
    "from sklearn.metrics import mean_squared_error\n",
    "from sklearn.metrics import r2_score\n",
    "from scipy.stats import bootstrap"
   ]
  },
  {
   "cell_type": "code",
   "execution_count": 2,
   "metadata": {},
   "outputs": [],
   "source": [
    "urls_geo_0 = 'https://practicum-content.s3.us-west-1.amazonaws.com/datasets/geo_data_0.csv'\n",
    "urls_geo_1 = 'https://practicum-content.s3.us-west-1.amazonaws.com/datasets/geo_data_1.csv'\n",
    "urls_geo_2 = 'https://practicum-content.s3.us-west-1.amazonaws.com/datasets/geo_data_2.csv'\n"
   ]
  },
  {
   "cell_type": "markdown",
   "metadata": {},
   "source": [
    "#### Import datasetd\n",
    "\n",
    "Load the datasets, display first five rows, display summary information for each datafrane, check duplicates for all rows and base in id column, remove duplicates base in id column and check the dataframe again."
   ]
  },
  {
   "cell_type": "code",
   "execution_count": 3,
   "metadata": {},
   "outputs": [],
   "source": [
    "geo_0 =  pd.read_csv(urls_geo_0)"
   ]
  },
  {
   "cell_type": "code",
   "execution_count": 4,
   "metadata": {},
   "outputs": [
    {
     "data": {
      "text/plain": [
       "'Show first 5th rows of data set:'"
      ]
     },
     "metadata": {},
     "output_type": "display_data"
    },
    {
     "data": {
      "text/html": [
       "<div>\n",
       "<style scoped>\n",
       "    .dataframe tbody tr th:only-of-type {\n",
       "        vertical-align: middle;\n",
       "    }\n",
       "\n",
       "    .dataframe tbody tr th {\n",
       "        vertical-align: top;\n",
       "    }\n",
       "\n",
       "    .dataframe thead th {\n",
       "        text-align: right;\n",
       "    }\n",
       "</style>\n",
       "<table border=\"1\" class=\"dataframe\">\n",
       "  <thead>\n",
       "    <tr style=\"text-align: right;\">\n",
       "      <th></th>\n",
       "      <th>id</th>\n",
       "      <th>f0</th>\n",
       "      <th>f1</th>\n",
       "      <th>f2</th>\n",
       "      <th>product</th>\n",
       "    </tr>\n",
       "  </thead>\n",
       "  <tbody>\n",
       "    <tr>\n",
       "      <th>0</th>\n",
       "      <td>txEyH</td>\n",
       "      <td>0.705745</td>\n",
       "      <td>-0.497823</td>\n",
       "      <td>1.221170</td>\n",
       "      <td>105.280062</td>\n",
       "    </tr>\n",
       "    <tr>\n",
       "      <th>1</th>\n",
       "      <td>2acmU</td>\n",
       "      <td>1.334711</td>\n",
       "      <td>-0.340164</td>\n",
       "      <td>4.365080</td>\n",
       "      <td>73.037750</td>\n",
       "    </tr>\n",
       "    <tr>\n",
       "      <th>2</th>\n",
       "      <td>409Wp</td>\n",
       "      <td>1.022732</td>\n",
       "      <td>0.151990</td>\n",
       "      <td>1.419926</td>\n",
       "      <td>85.265647</td>\n",
       "    </tr>\n",
       "    <tr>\n",
       "      <th>3</th>\n",
       "      <td>iJLyR</td>\n",
       "      <td>-0.032172</td>\n",
       "      <td>0.139033</td>\n",
       "      <td>2.978566</td>\n",
       "      <td>168.620776</td>\n",
       "    </tr>\n",
       "    <tr>\n",
       "      <th>4</th>\n",
       "      <td>Xdl7t</td>\n",
       "      <td>1.988431</td>\n",
       "      <td>0.155413</td>\n",
       "      <td>4.751769</td>\n",
       "      <td>154.036647</td>\n",
       "    </tr>\n",
       "  </tbody>\n",
       "</table>\n",
       "</div>"
      ],
      "text/plain": [
       "      id        f0        f1        f2     product\n",
       "0  txEyH  0.705745 -0.497823  1.221170  105.280062\n",
       "1  2acmU  1.334711 -0.340164  4.365080   73.037750\n",
       "2  409Wp  1.022732  0.151990  1.419926   85.265647\n",
       "3  iJLyR -0.032172  0.139033  2.978566  168.620776\n",
       "4  Xdl7t  1.988431  0.155413  4.751769  154.036647"
      ]
     },
     "metadata": {},
     "output_type": "display_data"
    },
    {
     "name": "stdout",
     "output_type": "stream",
     "text": [
      "Summary of the dataframe.: \n",
      "\n",
      "<class 'pandas.core.frame.DataFrame'>\n",
      "RangeIndex: 100000 entries, 0 to 99999\n",
      "Data columns (total 5 columns):\n",
      " #   Column   Non-Null Count   Dtype  \n",
      "---  ------   --------------   -----  \n",
      " 0   id       100000 non-null  object \n",
      " 1   f0       100000 non-null  float64\n",
      " 2   f1       100000 non-null  float64\n",
      " 3   f2       100000 non-null  float64\n",
      " 4   product  100000 non-null  float64\n",
      "dtypes: float64(4), object(1)\n",
      "memory usage: 3.8+ MB\n",
      "None\n",
      "Count the rows duplicates in the dataframe: \n",
      " 0\n",
      "Count the rows duplicates in 'id's coloumn: \n",
      " 10\n"
     ]
    }
   ],
   "source": [
    "display(\"Show first 5th rows of data set:\",geo_0[:5])\n",
    "# The info function in Pandas is displays a summary of the dataframe. It displays column names, data types, the number of non-null values, and memory usage.\n",
    "print('Summary of the dataframe.: \\n')\n",
    "print(geo_0.info())\n",
    "print('Count the rows duplicates in the dataframe: \\n',geo_0.duplicated().sum())\n",
    "print('Count the rows duplicates in \\'id\\'s coloumn: \\n',geo_0.duplicated(subset=['id']).sum())"
   ]
  },
  {
   "cell_type": "code",
   "execution_count": 5,
   "metadata": {},
   "outputs": [
    {
     "name": "stdout",
     "output_type": "stream",
     "text": [
      "          id        f0        f1         f2     product\n",
      "66136  74z30  1.084962 -0.312358   6.990771  127.643327\n",
      "64022  74z30  0.741456  0.459229   5.153109  140.771492\n",
      "51970  A5aEY -0.180335  0.935548  -2.094773   33.020205\n",
      "3389   A5aEY -0.039949  0.156872   0.209861   89.249364\n",
      "69163  AGS9W -0.933795  0.116194  -3.655896   19.230453\n",
      "42529  AGS9W  1.454747 -0.479651   0.683380  126.370504\n",
      "931    HZww2  0.755284  0.368511   1.863211   30.681774\n",
      "7530   HZww2  1.061194 -0.373969  10.430210  158.828695\n",
      "63593  QcMuo  0.635635 -0.473422   0.862670   64.578675\n",
      "1949   QcMuo  0.506563 -0.323775  -2.215583   75.496502\n",
      "75715  Tdehs  0.112079  0.430296   3.218993   60.964018\n",
      "21426  Tdehs  0.829407  0.298807  -0.049563   96.035308\n",
      "92341  TtcGQ  0.110711  1.022689   0.911381  101.318008\n",
      "60140  TtcGQ  0.569276 -0.104876   6.440215   85.350186\n",
      "89582  bsk9y  0.398908 -0.400253  10.122376  163.433078\n",
      "97785  bsk9y  0.378429  0.005837   0.160827  160.637302\n",
      "41724  bxg6G -0.823752  0.546319   3.630479   93.007798\n",
      "1364   bxg6G  0.411645  0.856830  -3.653440   73.604260\n",
      "16633  fiKDv  0.157341  1.028359   5.585586   95.817889\n",
      "90815  fiKDv  0.049883  0.841313   6.394613  137.346586\n"
     ]
    }
   ],
   "source": [
    "print(geo_0[geo_0.duplicated(subset=['id'], keep=False) == True].sort_values('id'))"
   ]
  },
  {
   "cell_type": "code",
   "execution_count": 6,
   "metadata": {},
   "outputs": [],
   "source": [
    "geo_0 = geo_0.drop_duplicates(subset=['id'], keep=False)\n"
   ]
  },
  {
   "cell_type": "code",
   "execution_count": 7,
   "metadata": {},
   "outputs": [
    {
     "data": {
      "text/html": [
       "<div>\n",
       "<style scoped>\n",
       "    .dataframe tbody tr th:only-of-type {\n",
       "        vertical-align: middle;\n",
       "    }\n",
       "\n",
       "    .dataframe tbody tr th {\n",
       "        vertical-align: top;\n",
       "    }\n",
       "\n",
       "    .dataframe thead th {\n",
       "        text-align: right;\n",
       "    }\n",
       "</style>\n",
       "<table border=\"1\" class=\"dataframe\">\n",
       "  <thead>\n",
       "    <tr style=\"text-align: right;\">\n",
       "      <th></th>\n",
       "      <th>id</th>\n",
       "      <th>f0</th>\n",
       "      <th>f1</th>\n",
       "      <th>f2</th>\n",
       "      <th>product</th>\n",
       "    </tr>\n",
       "  </thead>\n",
       "  <tbody>\n",
       "    <tr>\n",
       "      <th>0</th>\n",
       "      <td>txEyH</td>\n",
       "      <td>0.705745</td>\n",
       "      <td>-0.497823</td>\n",
       "      <td>1.221170</td>\n",
       "      <td>105.280062</td>\n",
       "    </tr>\n",
       "    <tr>\n",
       "      <th>1</th>\n",
       "      <td>2acmU</td>\n",
       "      <td>1.334711</td>\n",
       "      <td>-0.340164</td>\n",
       "      <td>4.365080</td>\n",
       "      <td>73.037750</td>\n",
       "    </tr>\n",
       "    <tr>\n",
       "      <th>2</th>\n",
       "      <td>409Wp</td>\n",
       "      <td>1.022732</td>\n",
       "      <td>0.151990</td>\n",
       "      <td>1.419926</td>\n",
       "      <td>85.265647</td>\n",
       "    </tr>\n",
       "    <tr>\n",
       "      <th>3</th>\n",
       "      <td>iJLyR</td>\n",
       "      <td>-0.032172</td>\n",
       "      <td>0.139033</td>\n",
       "      <td>2.978566</td>\n",
       "      <td>168.620776</td>\n",
       "    </tr>\n",
       "    <tr>\n",
       "      <th>4</th>\n",
       "      <td>Xdl7t</td>\n",
       "      <td>1.988431</td>\n",
       "      <td>0.155413</td>\n",
       "      <td>4.751769</td>\n",
       "      <td>154.036647</td>\n",
       "    </tr>\n",
       "  </tbody>\n",
       "</table>\n",
       "</div>"
      ],
      "text/plain": [
       "      id        f0        f1        f2     product\n",
       "0  txEyH  0.705745 -0.497823  1.221170  105.280062\n",
       "1  2acmU  1.334711 -0.340164  4.365080   73.037750\n",
       "2  409Wp  1.022732  0.151990  1.419926   85.265647\n",
       "3  iJLyR -0.032172  0.139033  2.978566  168.620776\n",
       "4  Xdl7t  1.988431  0.155413  4.751769  154.036647"
      ]
     },
     "metadata": {},
     "output_type": "display_data"
    },
    {
     "name": "stdout",
     "output_type": "stream",
     "text": [
      "<class 'pandas.core.frame.DataFrame'>\n",
      "Int64Index: 99980 entries, 0 to 99999\n",
      "Data columns (total 5 columns):\n",
      " #   Column   Non-Null Count  Dtype  \n",
      "---  ------   --------------  -----  \n",
      " 0   id       99980 non-null  object \n",
      " 1   f0       99980 non-null  float64\n",
      " 2   f1       99980 non-null  float64\n",
      " 3   f2       99980 non-null  float64\n",
      " 4   product  99980 non-null  float64\n",
      "dtypes: float64(4), object(1)\n",
      "memory usage: 4.6+ MB\n",
      "Count the rows duplicates in 'id's coloumn: \n",
      " 0\n"
     ]
    }
   ],
   "source": [
    "display(geo_0[:5])\n",
    "geo_0.info()\n",
    "print('Count the rows duplicates in \\'id\\'s coloumn: \\n',geo_0.duplicated(subset=['id']).sum())"
   ]
  },
  {
   "cell_type": "code",
   "execution_count": 9,
   "metadata": {},
   "outputs": [
    {
     "data": {
      "text/html": [
       "<div>\n",
       "<style scoped>\n",
       "    .dataframe tbody tr th:only-of-type {\n",
       "        vertical-align: middle;\n",
       "    }\n",
       "\n",
       "    .dataframe tbody tr th {\n",
       "        vertical-align: top;\n",
       "    }\n",
       "\n",
       "    .dataframe thead th {\n",
       "        text-align: right;\n",
       "    }\n",
       "</style>\n",
       "<table border=\"1\" class=\"dataframe\">\n",
       "  <thead>\n",
       "    <tr style=\"text-align: right;\">\n",
       "      <th></th>\n",
       "      <th>id</th>\n",
       "      <th>f0</th>\n",
       "      <th>f1</th>\n",
       "      <th>f2</th>\n",
       "      <th>product</th>\n",
       "    </tr>\n",
       "  </thead>\n",
       "  <tbody>\n",
       "    <tr>\n",
       "      <th>0</th>\n",
       "      <td>txEyH</td>\n",
       "      <td>0.705745</td>\n",
       "      <td>-0.497823</td>\n",
       "      <td>1.221170</td>\n",
       "      <td>105.280062</td>\n",
       "    </tr>\n",
       "    <tr>\n",
       "      <th>1</th>\n",
       "      <td>2acmU</td>\n",
       "      <td>1.334711</td>\n",
       "      <td>-0.340164</td>\n",
       "      <td>4.365080</td>\n",
       "      <td>73.037750</td>\n",
       "    </tr>\n",
       "    <tr>\n",
       "      <th>2</th>\n",
       "      <td>409Wp</td>\n",
       "      <td>1.022732</td>\n",
       "      <td>0.151990</td>\n",
       "      <td>1.419926</td>\n",
       "      <td>85.265647</td>\n",
       "    </tr>\n",
       "    <tr>\n",
       "      <th>3</th>\n",
       "      <td>iJLyR</td>\n",
       "      <td>-0.032172</td>\n",
       "      <td>0.139033</td>\n",
       "      <td>2.978566</td>\n",
       "      <td>168.620776</td>\n",
       "    </tr>\n",
       "    <tr>\n",
       "      <th>4</th>\n",
       "      <td>Xdl7t</td>\n",
       "      <td>1.988431</td>\n",
       "      <td>0.155413</td>\n",
       "      <td>4.751769</td>\n",
       "      <td>154.036647</td>\n",
       "    </tr>\n",
       "  </tbody>\n",
       "</table>\n",
       "</div>"
      ],
      "text/plain": [
       "      id        f0        f1        f2     product\n",
       "0  txEyH  0.705745 -0.497823  1.221170  105.280062\n",
       "1  2acmU  1.334711 -0.340164  4.365080   73.037750\n",
       "2  409Wp  1.022732  0.151990  1.419926   85.265647\n",
       "3  iJLyR -0.032172  0.139033  2.978566  168.620776\n",
       "4  Xdl7t  1.988431  0.155413  4.751769  154.036647"
      ]
     },
     "metadata": {},
     "output_type": "display_data"
    },
    {
     "name": "stdout",
     "output_type": "stream",
     "text": [
      "<class 'pandas.core.frame.DataFrame'>\n",
      "Int64Index: 99980 entries, 0 to 99999\n",
      "Data columns (total 5 columns):\n",
      " #   Column   Non-Null Count  Dtype  \n",
      "---  ------   --------------  -----  \n",
      " 0   id       99980 non-null  object \n",
      " 1   f0       99980 non-null  float64\n",
      " 2   f1       99980 non-null  float64\n",
      " 3   f2       99980 non-null  float64\n",
      " 4   product  99980 non-null  float64\n",
      "dtypes: float64(4), object(1)\n",
      "memory usage: 4.6+ MB\n",
      "Count the rows duplicates in 'id's coloumn: \n",
      " 0\n"
     ]
    }
   ],
   "source": [
    "display(geo_0[:5])\n",
    "geo_0.info()\n",
    "print('Count the rows duplicates in \\'id\\'s coloumn: \\n',geo_0.duplicated(subset=['id']).sum())"
   ]
  },
  {
   "cell_type": "code",
   "execution_count": 10,
   "metadata": {},
   "outputs": [],
   "source": [
    "geo_1 =  pd.read_csv(urls_geo_1)"
   ]
  },
  {
   "cell_type": "code",
   "execution_count": 11,
   "metadata": {},
   "outputs": [
    {
     "data": {
      "text/plain": [
       "'Show first 5th rows of data set:'"
      ]
     },
     "metadata": {},
     "output_type": "display_data"
    },
    {
     "data": {
      "text/html": [
       "<div>\n",
       "<style scoped>\n",
       "    .dataframe tbody tr th:only-of-type {\n",
       "        vertical-align: middle;\n",
       "    }\n",
       "\n",
       "    .dataframe tbody tr th {\n",
       "        vertical-align: top;\n",
       "    }\n",
       "\n",
       "    .dataframe thead th {\n",
       "        text-align: right;\n",
       "    }\n",
       "</style>\n",
       "<table border=\"1\" class=\"dataframe\">\n",
       "  <thead>\n",
       "    <tr style=\"text-align: right;\">\n",
       "      <th></th>\n",
       "      <th>id</th>\n",
       "      <th>f0</th>\n",
       "      <th>f1</th>\n",
       "      <th>f2</th>\n",
       "      <th>product</th>\n",
       "    </tr>\n",
       "  </thead>\n",
       "  <tbody>\n",
       "    <tr>\n",
       "      <th>0</th>\n",
       "      <td>kBEdx</td>\n",
       "      <td>-15.001348</td>\n",
       "      <td>-8.276000</td>\n",
       "      <td>-0.005876</td>\n",
       "      <td>3.179103</td>\n",
       "    </tr>\n",
       "    <tr>\n",
       "      <th>1</th>\n",
       "      <td>62mP7</td>\n",
       "      <td>14.272088</td>\n",
       "      <td>-3.475083</td>\n",
       "      <td>0.999183</td>\n",
       "      <td>26.953261</td>\n",
       "    </tr>\n",
       "    <tr>\n",
       "      <th>2</th>\n",
       "      <td>vyE1P</td>\n",
       "      <td>6.263187</td>\n",
       "      <td>-5.948386</td>\n",
       "      <td>5.001160</td>\n",
       "      <td>134.766305</td>\n",
       "    </tr>\n",
       "    <tr>\n",
       "      <th>3</th>\n",
       "      <td>KcrkZ</td>\n",
       "      <td>-13.081196</td>\n",
       "      <td>-11.506057</td>\n",
       "      <td>4.999415</td>\n",
       "      <td>137.945408</td>\n",
       "    </tr>\n",
       "    <tr>\n",
       "      <th>4</th>\n",
       "      <td>AHL4O</td>\n",
       "      <td>12.702195</td>\n",
       "      <td>-8.147433</td>\n",
       "      <td>5.004363</td>\n",
       "      <td>134.766305</td>\n",
       "    </tr>\n",
       "  </tbody>\n",
       "</table>\n",
       "</div>"
      ],
      "text/plain": [
       "      id         f0         f1        f2     product\n",
       "0  kBEdx -15.001348  -8.276000 -0.005876    3.179103\n",
       "1  62mP7  14.272088  -3.475083  0.999183   26.953261\n",
       "2  vyE1P   6.263187  -5.948386  5.001160  134.766305\n",
       "3  KcrkZ -13.081196 -11.506057  4.999415  137.945408\n",
       "4  AHL4O  12.702195  -8.147433  5.004363  134.766305"
      ]
     },
     "metadata": {},
     "output_type": "display_data"
    },
    {
     "name": "stdout",
     "output_type": "stream",
     "text": [
      "Summary of the dataframe.: \n",
      "\n",
      "<class 'pandas.core.frame.DataFrame'>\n",
      "RangeIndex: 100000 entries, 0 to 99999\n",
      "Data columns (total 5 columns):\n",
      " #   Column   Non-Null Count   Dtype  \n",
      "---  ------   --------------   -----  \n",
      " 0   id       100000 non-null  object \n",
      " 1   f0       100000 non-null  float64\n",
      " 2   f1       100000 non-null  float64\n",
      " 3   f2       100000 non-null  float64\n",
      " 4   product  100000 non-null  float64\n",
      "dtypes: float64(4), object(1)\n",
      "memory usage: 3.8+ MB\n",
      "None\n",
      "Count the rows duplicates in the dataframe: \n",
      " 0\n",
      "Count the rows duplicates in 'id's coloumn: \n",
      " 4\n"
     ]
    }
   ],
   "source": [
    "display(\"Show first 5th rows of data set:\",geo_1[:5])\n",
    "# The info function in Pandas is displays a summary of the dataframe. It displays column names, data types, the number of non-null values, and memory usage.\n",
    "print('Summary of the dataframe.: \\n')\n",
    "print(geo_1.info())\n",
    "print('Count the rows duplicates in the dataframe: \\n',geo_1.duplicated().sum())\n",
    "print('Count the rows duplicates in \\'id\\'s coloumn: \\n',geo_1.duplicated(subset=['id']).sum())"
   ]
  },
  {
   "cell_type": "code",
   "execution_count": 12,
   "metadata": {},
   "outputs": [
    {
     "name": "stdout",
     "output_type": "stream",
     "text": [
      "          id         f0         f1        f2     product\n",
      "5849   5ltQ6  -3.435401 -12.296043  1.999796   57.085625\n",
      "84461  5ltQ6  18.213839   2.191999  3.993869  107.813044\n",
      "1305   LHZR0  11.170835  -1.945066  3.002872   80.859783\n",
      "41906  LHZR0  -8.989672  -4.286607  2.009139   57.085625\n",
      "2721   bfPNe  -9.494442  -5.463692  4.006042  110.992147\n",
      "82178  bfPNe  -6.202799  -4.820045  2.995107   84.038886\n",
      "47591  wt4Uk  -9.091098  -8.109279 -0.002314    3.179103\n",
      "82873  wt4Uk  10.259972  -9.376355  4.994297  134.766305\n"
     ]
    }
   ],
   "source": [
    "print(geo_1[geo_1.duplicated(subset=['id'], keep=False) == True].sort_values('id'))"
   ]
  },
  {
   "cell_type": "code",
   "execution_count": 13,
   "metadata": {},
   "outputs": [],
   "source": [
    "geo_1 = geo_1.drop_duplicates(subset=['id'], keep=False)"
   ]
  },
  {
   "cell_type": "code",
   "execution_count": 14,
   "metadata": {},
   "outputs": [],
   "source": [
    "#encoder1 = OrdinalEncoder()\n",
    "#geo_1 = pd.DataFrame(encoder1.fit_transform(geo_1), columns=geo_1.columns)"
   ]
  },
  {
   "cell_type": "code",
   "execution_count": 15,
   "metadata": {},
   "outputs": [
    {
     "data": {
      "text/html": [
       "<div>\n",
       "<style scoped>\n",
       "    .dataframe tbody tr th:only-of-type {\n",
       "        vertical-align: middle;\n",
       "    }\n",
       "\n",
       "    .dataframe tbody tr th {\n",
       "        vertical-align: top;\n",
       "    }\n",
       "\n",
       "    .dataframe thead th {\n",
       "        text-align: right;\n",
       "    }\n",
       "</style>\n",
       "<table border=\"1\" class=\"dataframe\">\n",
       "  <thead>\n",
       "    <tr style=\"text-align: right;\">\n",
       "      <th></th>\n",
       "      <th>id</th>\n",
       "      <th>f0</th>\n",
       "      <th>f1</th>\n",
       "      <th>f2</th>\n",
       "      <th>product</th>\n",
       "    </tr>\n",
       "  </thead>\n",
       "  <tbody>\n",
       "    <tr>\n",
       "      <th>0</th>\n",
       "      <td>kBEdx</td>\n",
       "      <td>-15.001348</td>\n",
       "      <td>-8.276000</td>\n",
       "      <td>-0.005876</td>\n",
       "      <td>3.179103</td>\n",
       "    </tr>\n",
       "    <tr>\n",
       "      <th>1</th>\n",
       "      <td>62mP7</td>\n",
       "      <td>14.272088</td>\n",
       "      <td>-3.475083</td>\n",
       "      <td>0.999183</td>\n",
       "      <td>26.953261</td>\n",
       "    </tr>\n",
       "    <tr>\n",
       "      <th>2</th>\n",
       "      <td>vyE1P</td>\n",
       "      <td>6.263187</td>\n",
       "      <td>-5.948386</td>\n",
       "      <td>5.001160</td>\n",
       "      <td>134.766305</td>\n",
       "    </tr>\n",
       "    <tr>\n",
       "      <th>3</th>\n",
       "      <td>KcrkZ</td>\n",
       "      <td>-13.081196</td>\n",
       "      <td>-11.506057</td>\n",
       "      <td>4.999415</td>\n",
       "      <td>137.945408</td>\n",
       "    </tr>\n",
       "    <tr>\n",
       "      <th>4</th>\n",
       "      <td>AHL4O</td>\n",
       "      <td>12.702195</td>\n",
       "      <td>-8.147433</td>\n",
       "      <td>5.004363</td>\n",
       "      <td>134.766305</td>\n",
       "    </tr>\n",
       "  </tbody>\n",
       "</table>\n",
       "</div>"
      ],
      "text/plain": [
       "      id         f0         f1        f2     product\n",
       "0  kBEdx -15.001348  -8.276000 -0.005876    3.179103\n",
       "1  62mP7  14.272088  -3.475083  0.999183   26.953261\n",
       "2  vyE1P   6.263187  -5.948386  5.001160  134.766305\n",
       "3  KcrkZ -13.081196 -11.506057  4.999415  137.945408\n",
       "4  AHL4O  12.702195  -8.147433  5.004363  134.766305"
      ]
     },
     "metadata": {},
     "output_type": "display_data"
    },
    {
     "name": "stdout",
     "output_type": "stream",
     "text": [
      "<class 'pandas.core.frame.DataFrame'>\n",
      "Int64Index: 99992 entries, 0 to 99999\n",
      "Data columns (total 5 columns):\n",
      " #   Column   Non-Null Count  Dtype  \n",
      "---  ------   --------------  -----  \n",
      " 0   id       99992 non-null  object \n",
      " 1   f0       99992 non-null  float64\n",
      " 2   f1       99992 non-null  float64\n",
      " 3   f2       99992 non-null  float64\n",
      " 4   product  99992 non-null  float64\n",
      "dtypes: float64(4), object(1)\n",
      "memory usage: 4.6+ MB\n",
      "Count the rows duplicates in 'id's coloumn: \n",
      " 0\n"
     ]
    }
   ],
   "source": [
    "display(geo_1[:5])\n",
    "geo_1.info()\n",
    "print('Count the rows duplicates in \\'id\\'s coloumn: \\n',geo_1.duplicated(subset=['id']).sum())"
   ]
  },
  {
   "cell_type": "code",
   "execution_count": 16,
   "metadata": {},
   "outputs": [],
   "source": [
    "geo_2 =  pd.read_csv(urls_geo_2)"
   ]
  },
  {
   "cell_type": "code",
   "execution_count": 17,
   "metadata": {},
   "outputs": [
    {
     "data": {
      "text/plain": [
       "'Show first 5th rows of data set:'"
      ]
     },
     "metadata": {},
     "output_type": "display_data"
    },
    {
     "data": {
      "text/html": [
       "<div>\n",
       "<style scoped>\n",
       "    .dataframe tbody tr th:only-of-type {\n",
       "        vertical-align: middle;\n",
       "    }\n",
       "\n",
       "    .dataframe tbody tr th {\n",
       "        vertical-align: top;\n",
       "    }\n",
       "\n",
       "    .dataframe thead th {\n",
       "        text-align: right;\n",
       "    }\n",
       "</style>\n",
       "<table border=\"1\" class=\"dataframe\">\n",
       "  <thead>\n",
       "    <tr style=\"text-align: right;\">\n",
       "      <th></th>\n",
       "      <th>id</th>\n",
       "      <th>f0</th>\n",
       "      <th>f1</th>\n",
       "      <th>f2</th>\n",
       "      <th>product</th>\n",
       "    </tr>\n",
       "  </thead>\n",
       "  <tbody>\n",
       "    <tr>\n",
       "      <th>0</th>\n",
       "      <td>fwXo0</td>\n",
       "      <td>-1.146987</td>\n",
       "      <td>0.963328</td>\n",
       "      <td>-0.828965</td>\n",
       "      <td>27.758673</td>\n",
       "    </tr>\n",
       "    <tr>\n",
       "      <th>1</th>\n",
       "      <td>WJtFt</td>\n",
       "      <td>0.262778</td>\n",
       "      <td>0.269839</td>\n",
       "      <td>-2.530187</td>\n",
       "      <td>56.069697</td>\n",
       "    </tr>\n",
       "    <tr>\n",
       "      <th>2</th>\n",
       "      <td>ovLUW</td>\n",
       "      <td>0.194587</td>\n",
       "      <td>0.289035</td>\n",
       "      <td>-5.586433</td>\n",
       "      <td>62.871910</td>\n",
       "    </tr>\n",
       "    <tr>\n",
       "      <th>3</th>\n",
       "      <td>q6cA6</td>\n",
       "      <td>2.236060</td>\n",
       "      <td>-0.553760</td>\n",
       "      <td>0.930038</td>\n",
       "      <td>114.572842</td>\n",
       "    </tr>\n",
       "    <tr>\n",
       "      <th>4</th>\n",
       "      <td>WPMUX</td>\n",
       "      <td>-0.515993</td>\n",
       "      <td>1.716266</td>\n",
       "      <td>5.899011</td>\n",
       "      <td>149.600746</td>\n",
       "    </tr>\n",
       "  </tbody>\n",
       "</table>\n",
       "</div>"
      ],
      "text/plain": [
       "      id        f0        f1        f2     product\n",
       "0  fwXo0 -1.146987  0.963328 -0.828965   27.758673\n",
       "1  WJtFt  0.262778  0.269839 -2.530187   56.069697\n",
       "2  ovLUW  0.194587  0.289035 -5.586433   62.871910\n",
       "3  q6cA6  2.236060 -0.553760  0.930038  114.572842\n",
       "4  WPMUX -0.515993  1.716266  5.899011  149.600746"
      ]
     },
     "metadata": {},
     "output_type": "display_data"
    },
    {
     "name": "stdout",
     "output_type": "stream",
     "text": [
      "Summary of the dataframe.: \n",
      "\n",
      "<class 'pandas.core.frame.DataFrame'>\n",
      "RangeIndex: 100000 entries, 0 to 99999\n",
      "Data columns (total 5 columns):\n",
      " #   Column   Non-Null Count   Dtype  \n",
      "---  ------   --------------   -----  \n",
      " 0   id       100000 non-null  object \n",
      " 1   f0       100000 non-null  float64\n",
      " 2   f1       100000 non-null  float64\n",
      " 3   f2       100000 non-null  float64\n",
      " 4   product  100000 non-null  float64\n",
      "dtypes: float64(4), object(1)\n",
      "memory usage: 3.8+ MB\n",
      "None\n",
      "Count the rows duplicates in the dataframe: \n",
      " 0\n",
      "Count the rows duplicates in 'id's coloumn: \n",
      " 4\n"
     ]
    }
   ],
   "source": [
    "display(\"Show first 5th rows of data set:\",geo_2[:5])\n",
    "# The info function in Pandas is displays a summary of the dataframe. It displays column names, data types, the number of non-null values, and memory usage.\n",
    "print('Summary of the dataframe.: \\n')\n",
    "print(geo_2.info())\n",
    "print('Count the rows duplicates in the dataframe: \\n',geo_2.duplicated().sum())\n",
    "print('Count the rows duplicates in \\'id\\'s coloumn: \\n',geo_2.duplicated(subset=['id']).sum())"
   ]
  },
  {
   "cell_type": "code",
   "execution_count": 18,
   "metadata": {},
   "outputs": [
    {
     "name": "stdout",
     "output_type": "stream",
     "text": [
      "          id        f0        f1        f2     product\n",
      "45404  KUPhW  0.231846 -1.698941  4.990775   11.716299\n",
      "55967  KUPhW  1.211150  3.176408  5.543540  132.831802\n",
      "11449  VF7Jo  2.122656 -0.858275  5.746001  181.716817\n",
      "49564  VF7Jo -0.883115  0.560537  0.723601  136.233420\n",
      "44378  Vcm5J -1.229484 -2.439204  1.222909  137.968290\n",
      "95090  Vcm5J  2.587702  1.986875  2.482245   92.327572\n",
      "28039  xCHr8  1.633027  0.368135 -2.378367    6.120525\n",
      "43233  xCHr8 -0.847066  2.101796  5.597130  184.388641\n"
     ]
    }
   ],
   "source": [
    "print(geo_2[geo_2.duplicated(subset=['id'], keep=False) == True].sort_values('id'))"
   ]
  },
  {
   "cell_type": "code",
   "execution_count": 19,
   "metadata": {},
   "outputs": [],
   "source": [
    "geo_2 = geo_2.drop_duplicates(subset=['id'], keep=False)"
   ]
  },
  {
   "cell_type": "code",
   "execution_count": 20,
   "metadata": {},
   "outputs": [],
   "source": [
    "#encoder2 = OrdinalEncoder()\n",
    "#geo_2 = pd.DataFrame(encoder2.fit_transform(geo_2), columns=geo_2.columns)"
   ]
  },
  {
   "cell_type": "code",
   "execution_count": 21,
   "metadata": {},
   "outputs": [
    {
     "data": {
      "text/html": [
       "<div>\n",
       "<style scoped>\n",
       "    .dataframe tbody tr th:only-of-type {\n",
       "        vertical-align: middle;\n",
       "    }\n",
       "\n",
       "    .dataframe tbody tr th {\n",
       "        vertical-align: top;\n",
       "    }\n",
       "\n",
       "    .dataframe thead th {\n",
       "        text-align: right;\n",
       "    }\n",
       "</style>\n",
       "<table border=\"1\" class=\"dataframe\">\n",
       "  <thead>\n",
       "    <tr style=\"text-align: right;\">\n",
       "      <th></th>\n",
       "      <th>id</th>\n",
       "      <th>f0</th>\n",
       "      <th>f1</th>\n",
       "      <th>f2</th>\n",
       "      <th>product</th>\n",
       "    </tr>\n",
       "  </thead>\n",
       "  <tbody>\n",
       "    <tr>\n",
       "      <th>0</th>\n",
       "      <td>fwXo0</td>\n",
       "      <td>-1.146987</td>\n",
       "      <td>0.963328</td>\n",
       "      <td>-0.828965</td>\n",
       "      <td>27.758673</td>\n",
       "    </tr>\n",
       "    <tr>\n",
       "      <th>1</th>\n",
       "      <td>WJtFt</td>\n",
       "      <td>0.262778</td>\n",
       "      <td>0.269839</td>\n",
       "      <td>-2.530187</td>\n",
       "      <td>56.069697</td>\n",
       "    </tr>\n",
       "    <tr>\n",
       "      <th>2</th>\n",
       "      <td>ovLUW</td>\n",
       "      <td>0.194587</td>\n",
       "      <td>0.289035</td>\n",
       "      <td>-5.586433</td>\n",
       "      <td>62.871910</td>\n",
       "    </tr>\n",
       "    <tr>\n",
       "      <th>3</th>\n",
       "      <td>q6cA6</td>\n",
       "      <td>2.236060</td>\n",
       "      <td>-0.553760</td>\n",
       "      <td>0.930038</td>\n",
       "      <td>114.572842</td>\n",
       "    </tr>\n",
       "    <tr>\n",
       "      <th>4</th>\n",
       "      <td>WPMUX</td>\n",
       "      <td>-0.515993</td>\n",
       "      <td>1.716266</td>\n",
       "      <td>5.899011</td>\n",
       "      <td>149.600746</td>\n",
       "    </tr>\n",
       "  </tbody>\n",
       "</table>\n",
       "</div>"
      ],
      "text/plain": [
       "      id        f0        f1        f2     product\n",
       "0  fwXo0 -1.146987  0.963328 -0.828965   27.758673\n",
       "1  WJtFt  0.262778  0.269839 -2.530187   56.069697\n",
       "2  ovLUW  0.194587  0.289035 -5.586433   62.871910\n",
       "3  q6cA6  2.236060 -0.553760  0.930038  114.572842\n",
       "4  WPMUX -0.515993  1.716266  5.899011  149.600746"
      ]
     },
     "metadata": {},
     "output_type": "display_data"
    },
    {
     "name": "stdout",
     "output_type": "stream",
     "text": [
      "<class 'pandas.core.frame.DataFrame'>\n",
      "Int64Index: 99992 entries, 0 to 99999\n",
      "Data columns (total 5 columns):\n",
      " #   Column   Non-Null Count  Dtype  \n",
      "---  ------   --------------  -----  \n",
      " 0   id       99992 non-null  object \n",
      " 1   f0       99992 non-null  float64\n",
      " 2   f1       99992 non-null  float64\n",
      " 3   f2       99992 non-null  float64\n",
      " 4   product  99992 non-null  float64\n",
      "dtypes: float64(4), object(1)\n",
      "memory usage: 4.6+ MB\n",
      "Count the rows duplicates in 'id's coloumn: \n",
      " 0\n"
     ]
    }
   ],
   "source": [
    "display(geo_2[:5])\n",
    "geo_2.info()\n",
    "print('Count the rows duplicates in \\'id\\'s coloumn: \\n',geo_2.duplicated(subset=['id']).sum())"
   ]
  },
  {
   "cell_type": "markdown",
   "metadata": {},
   "source": [
    "<div class=\"alert alert-success\">\n",
    "<b>Reviewer's comment</b>\n",
    "\n",
    "The data was loaded and inspected\n",
    "\n",
    "</div>"
   ]
  },
  {
   "cell_type": "markdown",
   "metadata": {},
   "source": [
    "### Train and test the model for each region:"
   ]
  },
  {
   "cell_type": "markdown",
   "metadata": {},
   "source": [
    "merge on list the dataframe"
   ]
  },
  {
   "cell_type": "code",
   "execution_count": 22,
   "metadata": {},
   "outputs": [],
   "source": [
    "data = [geo_0,geo_1,geo_2]"
   ]
  },
  {
   "cell_type": "code",
   "execution_count": 23,
   "metadata": {},
   "outputs": [
    {
     "name": "stdout",
     "output_type": "stream",
     "text": [
      "Region 0: Average predicted volume:         92.4238, RMSE:         37.7169\n",
      "Region 1: Average predicted volume:         68.9831, RMSE:          0.8915\n",
      "Region 2: Average predicted volume:         95.1162, RMSE:         39.9755\n"
     ]
    }
   ],
   "source": [
    "region_averages = []\n",
    "region_rmse = []\n",
    "targets_valid = []\n",
    "predictions_list = []\n",
    "\n",
    "for i, region in enumerate(data):\n",
    "    # 2.1. Split the data into a training set and validation set at a ratio of 75:25\n",
    "    features = region.drop(['id', 'product'], axis=1)\n",
    "    target = region['product']\n",
    "    features_train, features_valid, target_train, target_valid = train_test_split(features, target, test_size=0.25, random_state=12345)\n",
    "\n",
    "    # # 2.2. Train the model and make predictions for the validation set\n",
    "    model = LinearRegression()\n",
    "    model.fit(features_train, target_train)\n",
    "    predictions = model.predict(features_valid)\n",
    "\n",
    "    # 2.3. Save the predictions and correct answers for the validation set\n",
    "    targets_valid.append(target_valid)\n",
    "    predictions_list.append(pd.Series(predictions, index=target_valid.index))\n",
    "\n",
    "    # 2.4. Calculate the average volume of predicted reserves and model RMSE\n",
    "    rmse = mean_squared_error(target_valid, predictions, squared=False)\n",
    "    avg_predicted_volume = predictions.mean()\n",
    "\n",
    "    # Save region averages and RMSE to their respective lists\n",
    "    region_averages.append(avg_predicted_volume)\n",
    "    region_rmse.append(rmse)\n",
    "\n",
    "    print(f\"Region {i}: Average predicted volume: {avg_predicted_volume:15.4f}, RMSE: {rmse:15.4f}\")\n"
   ]
  },
  {
   "cell_type": "markdown",
   "metadata": {},
   "source": [
    "This code will save the predictions and correct answers to two list variables\\\n",
    " region_averages and region_rmse, respectively. You can then load these files later to evaluate the model's\n",
    " performance."
   ]
  },
  {
   "cell_type": "markdown",
   "metadata": {},
   "source": [
    "2.5. Analyze the results."
   ]
  },
  {
   "cell_type": "markdown",
   "metadata": {},
   "source": [
    "RMSE of region 1 is lower value indicate the better prediction."
   ]
  },
  {
   "cell_type": "markdown",
   "metadata": {},
   "source": [
    "<div class=\"alert alert-success\">\n",
    "<b>Reviewer's comment</b>\n",
    "\n",
    "The data for each region was split into train and validation sets, the models were trained and evaluated correctly\n",
    "\n",
    "</div>"
   ]
  },
  {
   "cell_type": "markdown",
   "metadata": {},
   "source": [
    "### Prepare for profit calculation:\n",
    " 3.1. Store all key values for calculations in separate variables. \\\n",
    " 3.2. Calculate the volume of reserves sufficient for developing a new well without losses. Compare the obtained value with the average volume of reserves in each region. \\\n",
    " 3.3. Provide the findings about the preparation for profit calculation step."
   ]
  },
  {
   "cell_type": "code",
   "execution_count": 24,
   "metadata": {},
   "outputs": [],
   "source": [
    "# 3.1. Store all key values for calculations in separate variables\n",
    "BUDGET = 100000000\n",
    "REVENUE_PER_THOUSAND_BARRELS = 4500\n",
    "WELLS_FOR_DEVELOPMENT = 200\n"
   ]
  },
  {
   "cell_type": "markdown",
   "metadata": {},
   "source": [
    "3.2. Calculate the volume of reserves sufficient for developing a new well without losses"
   ]
  },
  {
   "cell_type": "code",
   "execution_count": 25,
   "metadata": {},
   "outputs": [
    {
     "name": "stdout",
     "output_type": "stream",
     "text": [
      "Break-even volume (thousand barrels): 111.11111111111111\n"
     ]
    }
   ],
   "source": [
    "break_even_volume = BUDGET / (WELLS_FOR_DEVELOPMENT * REVENUE_PER_THOUSAND_BARRELS)\n",
    "print(\"Break-even volume (thousand barrels):\", break_even_volume)"
   ]
  },
  {
   "cell_type": "markdown",
   "metadata": {},
   "source": [
    "<div class=\"alert alert-success\">\n",
    "<b>Reviewer's comment</b>\n",
    "\n",
    "Calculation is correct!\n",
    "\n",
    "</div>"
   ]
  },
  {
   "cell_type": "markdown",
   "metadata": {},
   "source": [
    "3.3. Provide the findings about the preparation for profit calculation step."
   ]
  },
  {
   "cell_type": "code",
   "execution_count": 26,
   "metadata": {},
   "outputs": [
    {
     "name": "stdout",
     "output_type": "stream",
     "text": [
      "Break-even volume (thousand barrels): 111.11111111111111\n",
      "Region 0:\n",
      "  Average predicted volume (thousand barrels): 92.42\n",
      "  The average predicted volume in Region 0 is 18.69 thousand barrels below the break-even volume.\n",
      "Region 1:\n",
      "  Average predicted volume (thousand barrels): 68.98\n",
      "  The average predicted volume in Region 1 is 42.13 thousand barrels below the break-even volume.\n",
      "Region 2:\n",
      "  Average predicted volume (thousand barrels): 95.12\n",
      "  The average predicted volume in Region 2 is 15.99 thousand barrels below the break-even volume.\n"
     ]
    }
   ],
   "source": [
    "# 3.3. Provide the findings about the preparation for profit calculation step\n",
    "# Summarize the findings\n",
    "print(\"Break-even volume (thousand barrels):\", break_even_volume)\n",
    "\n",
    "for i, avg in enumerate(region_averages):\n",
    "    print(f\"Region {i}:\")\n",
    "    print(f\"  Average predicted volume (thousand barrels): {avg:.2f}\")\n",
    "    difference = avg - break_even_volume\n",
    "    if difference >= 0:\n",
    "        print(f\"  The average predicted volume in Region {i} is {abs(difference):.2f} thousand barrels above the break-even volume.\")\n",
    "    else:\n",
    "        print(f\"  The average predicted volume in Region {i} is {abs(difference):.2f} thousand barrels below the break-even volume.\")\n"
   ]
  },
  {
   "cell_type": "code",
   "execution_count": 27,
   "metadata": {},
   "outputs": [
    {
     "data": {
      "image/png": "[encoded data removed]",
      "text/plain": [
       "<Figure size 432x288 with 1 Axes>"
      ]
     },
     "metadata": {
      "needs_background": "light"
     },
     "output_type": "display_data"
    }
   ],
   "source": [
    "import matplotlib.pyplot as plt\n",
    "\n",
    "regions = ['Region 0', 'Region 1', 'Region 2']\n",
    "plt.bar(regions, region_averages, label='Average Predicted Volume')\n",
    "plt.axhline(y=break_even_volume, color='r', linestyle='--', label='Break-even Volume')\n",
    "\n",
    "plt.xlabel('Regions')\n",
    "plt.ylabel('Volume (thousand barrels)')\n",
    "plt.title('Average Predicted Volume vs. Break-even Volume')\n",
    "plt.legend()\n",
    "plt.show()"
   ]
  },
  {
   "cell_type": "markdown",
   "metadata": {},
   "source": [
    "The chart above illustrates the gap of volume between Break even and average predicted, however the region 1 is 42.13k barrels below, in comparison the region 0 and 2 19k barriels and 16k  barrels, this chart helps to predetermine the region1 is potential region with less possibilities next location.\n",
    "\n",
    "However, region 2 with 95K barrels is the highest average predicted volume. And close to break-even level.\n"
   ]
  },
  {
   "cell_type": "markdown",
   "metadata": {},
   "source": [
    "### Write a function to calculate profit from a set of selected oil wells and model predictions:\n",
    " 4.1. Pick the wells with the highest values of predictions.\\\n",
    " 4.2. Summarize the target volume of reserves in accordance with these predictions\\\n",
    " 4.3. Provide findings: suggest a region for oil wells' development and justify the choice. Calculate the profit for the obtained volume of reserves."
   ]
  },
  {
   "cell_type": "code",
   "execution_count": 28,
   "metadata": {},
   "outputs": [
    {
     "name": "stdout",
     "output_type": "stream",
     "text": [
      "Region 0: Profit: 31360260.57 USD\n",
      "Region 1: Profit: 24150866.97 USD\n",
      "Region 2: Profit: 24659457.92 USD\n"
     ]
    }
   ],
   "source": [
    "def calculate_profits_for_regions(targets, predictions_list, count):\n",
    "    profits = {}\n",
    "\n",
    "    for i, (target, predictions) in enumerate(zip(targets, predictions_list)):\n",
    "        top_wells = predictions.sort_values(ascending=False).head(count).index\n",
    "        total_reserves = target.loc[top_wells].sum()\n",
    "        profit = total_reserves * REVENUE_PER_THOUSAND_BARRELS - BUDGET\n",
    "        profits[i] = profit\n",
    "\n",
    "    return profits\n",
    "\n",
    "def calculate_profit(target, predictions, count):\n",
    "    \n",
    "    top_wells = predictions.sort_values(ascending=False).head(count).index\n",
    "    total_reserves = target.loc[top_wells].sum()\n",
    "    \n",
    "    profit = total_reserves * REVENUE_PER_THOUSAND_BARRELS - BUDGET\n",
    "    \n",
    "    return profit, total_reserves * REVENUE_PER_THOUSAND_BARRELS # profit and revenue\n",
    "\n",
    "# Calculate the profits for each region\n",
    "region_profits = calculate_profits_for_regions(targets_valid, predictions_list, WELLS_FOR_DEVELOPMENT)\n",
    "\n",
    "# Print the profits for each region\n",
    "for i, profit in region_profits.items():\n",
    "    print(f\"Region {i}: Profit: {profit:11.2f} USD\")\n",
    "    "
   ]
  },
  {
   "cell_type": "markdown",
   "metadata": {},
   "source": [
    "<div class=\"alert alert-success\">\n",
    "<b>Reviewer's comment</b>\n",
    "\n",
    "The function for profit calculation is correct\n",
    "\n",
    "</div>"
   ]
  },
  {
   "cell_type": "code",
   "execution_count": 29,
   "metadata": {},
   "outputs": [
    {
     "name": "stdout",
     "output_type": "stream",
     "text": [
      "\n",
      "The region with the highest profit is Region 0 with a profit of 31360260.57 USD.\n"
     ]
    }
   ],
   "source": [
    "# Find the region with the highest profit\n",
    "best_region_index = np.argmax(region_profits)\n",
    "print(f\"\\nThe region with the highest profit is Region {best_region_index} with a profit of {region_profits[best_region_index]:.2f} USD.\")"
   ]
  },
  {
   "cell_type": "code",
   "execution_count": 30,
   "metadata": {},
   "outputs": [
    {
     "data": {
      "image/png": "[encoded data removed]",
      "text/plain": [
       "<Figure size 432x288 with 1 Axes>"
      ]
     },
     "metadata": {
      "needs_background": "light"
     },
     "output_type": "display_data"
    }
   ],
   "source": [
    "\n",
    "# Set up the figure and axis\n",
    "fig, ax = plt.subplots()\n",
    "\n",
    "# Define the x and y values\n",
    "regions = list(region_profits.keys())\n",
    "profits = list(region_profits.values())\n",
    "\n",
    "# Create a bar chart\n",
    "ax.bar(regions, profits, color=['blue', 'orange', 'green'], width=0.7)\n",
    "\n",
    "# Customize the chart\n",
    "ax.set_xticks(regions)\n",
    "ax.set_xticklabels([f\"Region {i}\" for i in regions])\n",
    "ax.set_ylabel('Profit (USD)')\n",
    "ax.set_title('Profits for Each Region')\n",
    "\n",
    "ax.grid(axis='y')\n",
    "xmin, xmax = ax.get_xlim()\n",
    "ax.set(xlim=(xmin, xmax), axisbelow=True);\n",
    "# Display the chart\n",
    "plt.show()"
   ]
  },
  {
   "cell_type": "markdown",
   "metadata": {},
   "source": [
    "The bar chart above indicated the profit by region, where region 0 is highest then region 1 and 2. This result after applying the code of calculated profit. "
   ]
  },
  {
   "cell_type": "markdown",
   "metadata": {},
   "source": [
    "### Calculate risks and profit for each region:\n",
    " 5.1. Use the bootstrapping technique with 1000 samples to find the distribution of profit.\\\n",
    " 5.2. Find average profit, 95% confidence interval and risk of losses. Loss is negative profit, calculate it as a probability and then express as a percentage.\\\n",
    " 5.3. Provide findings: suggest a region for development of oil wells and justify the choice."
   ]
  },
  {
   "cell_type": "code",
   "execution_count": 31,
   "metadata": {},
   "outputs": [],
   "source": [
    "def bootstrap_profit(target, predictions, n_samples=1000):\n",
    "    np.random.seed(12345)\n",
    "    profit_samples = []\n",
    "    revenue_samples = []\n",
    "    for _ in range(n_samples):\n",
    "        target_subsample = target.sample(n=500, replace=True)\n",
    "        predictions_subsample = predictions.loc[target_subsample.index]\n",
    "        \n",
    "        profit,revenue = calculate_profit(target_subsample, predictions_subsample, WELLS_FOR_DEVELOPMENT)\n",
    "        profit_samples.append(profit)\n",
    "        revenue_samples.append(revenue)\n",
    "    return pd.Series(profit_samples), pd.Series(revenue_samples)\n"
   ]
  },
  {
   "cell_type": "code",
   "execution_count": 32,
   "metadata": {},
   "outputs": [],
   "source": [
    "# Perform bootstrapping for each region\n",
    "bootstrap_profits = []\n",
    "for target_valid, predictions in zip(targets_valid, predictions_list):\n",
    "    profit_samples,return_samples = bootstrap_profit(target_valid, predictions)\n",
    "    bootstrap_profits.append(profit_samples)"
   ]
  },
  {
   "cell_type": "code",
   "execution_count": 36,
   "metadata": {},
   "outputs": [],
   "source": [
    "def calculate_statistics(profit_samples):\n",
    "    mean_profit = profit_samples.mean()\n",
    "    lower = profit_samples.quantile(0.05)\n",
    "    upper = profit_samples.quantile(0.95)\n",
    "    \n",
    "    risk_of_losses = profit_samples[profit_samples<=0].count() / len(profit_samples) * 100\n",
    "    return mean_profit, lower, upper,risk_of_losses\n"
   ]
  },
  {
   "cell_type": "markdown",
   "metadata": {},
   "source": [
    "<div class=\"alert alert-success\">\n",
    "<b>Reviewer's comment V3</b>\n",
    "\n",
    "Ok, great!\n",
    "\n",
    "</div>"
   ]
  },
  {
   "cell_type": "code",
   "execution_count": 37,
   "metadata": {},
   "outputs": [
    {
     "name": "stdout",
     "output_type": "stream",
     "text": [
      "Region 0:\n",
      "  Average profit: 6329210.98 USD\n",
      "  95% confidence interval: (1402631.22, 11549059.16)\n",
      "  Risk of losses: 2.00%\n",
      "Region 1:\n",
      "  Average profit: 6836507.78 USD\n",
      "  95% confidence interval: (2550015.61, 11227825.33)\n",
      "  Risk of losses: 0.70%\n",
      "Region 2:\n",
      "  Average profit: 5290364.67 USD\n",
      "  95% confidence interval: (75557.14, 10464735.77)\n",
      "  Risk of losses: 4.40%\n"
     ]
    }
   ],
   "source": [
    "# Calculate the required statistics\n",
    "statistics = []\n",
    "for profit_samples in bootstrap_profits:\n",
    "    #print(profit_samples)\n",
    "    stats = calculate_statistics(profit_samples)\n",
    "    statistics.append(stats)\n",
    "\n",
    "region_stats = []\n",
    "# Print the statistics for each region\n",
    "for i, (mean_profit, lower, upper,risk_of_losses) in enumerate(statistics):\n",
    "    region_stat = {\n",
    "        'mean_profit': mean_profit,\n",
    "        'lower_ci': lower,\n",
    "        'upper_ci': upper,\n",
    "        'risk_of_losses': risk_of_losses\n",
    "    }\n",
    "    region_stats.append(region_stat)\n",
    "\n",
    "    print(f\"Region {i}:\")\n",
    "    print(f\"  Average profit: {mean_profit:.2f} USD\")\n",
    "    print(f\"  95% confidence interval: ({lower:.2f}, {upper:.2f})\")\n",
    "    print(f\"  Risk of losses: {risk_of_losses:.2f}%\")\n"
   ]
  },
  {
   "cell_type": "code",
   "execution_count": 60,
   "metadata": {},
   "outputs": [
    {
     "data": {
      "image/png": "[encoded data removed]",
      "text/plain": [
       "<Figure size 432x288 with 1 Axes>"
      ]
     },
     "metadata": {
      "needs_background": "light"
     },
     "output_type": "display_data"
    }
   ],
   "source": [
    "    \n",
    "plt.boxplot(bootstrap_profits , notch=False, vert=False, labels=['Region 0', 'Region 1', 'Region 2'])\n",
    "plt.title('Profits by regions')    \n",
    "plt.xlabel('Average profit')\n",
    "\n",
    "plt.show()"
   ]
  },
  {
   "cell_type": "markdown",
   "metadata": {},
   "source": [
    "the boxplot indicate the region 1 is with high median and interquartile range is lower in comparison with other region."
   ]
  },
  {
   "cell_type": "markdown",
   "metadata": {},
   "source": [
    "<div class=\"alert alert-success\">\n",
    "<b>Reviewer's comment V3</b>\n",
    "\n",
    "Nice visualization!\n",
    "\n",
    "</div>"
   ]
  },
  {
   "cell_type": "code",
   "execution_count": 38,
   "metadata": {},
   "outputs": [
    {
     "data": {
      "image/png": "[encoded data removed]",
      "text/plain": [
       "<Figure size 720x360 with 1 Axes>"
      ]
     },
     "metadata": {
      "needs_background": "light"
     },
     "output_type": "display_data"
    },
    {
     "data": {
      "image/png": "[encoded data removed]",
      "text/plain": [
       "<Figure size 720x360 with 1 Axes>"
      ]
     },
     "metadata": {
      "needs_background": "light"
     },
     "output_type": "display_data"
    },
    {
     "data": {
      "image/png": "[encoded data removed]",
      "text/plain": [
       "<Figure size 720x360 with 1 Axes>"
      ]
     },
     "metadata": {
      "needs_background": "light"
     },
     "output_type": "display_data"
    }
   ],
   "source": [
    "import matplotlib.pyplot as plt\n",
    "\n",
    "# Set up the data\n",
    "regions = [0, 1, 2]\n",
    "average_profits = [stat[\"mean_profit\"] for stat in region_stats]\n",
    "lower_cis = [stat[\"lower_ci\"] for stat in region_stats]\n",
    "upper_cis = [stat[\"upper_ci\"] for stat in region_stats]\n",
    "risk_of_losses = [stat[\"risk_of_losses\"] for stat in region_stats]\n",
    "\n",
    "# Create a bar chart for average profit\n",
    "plt.figure(figsize=(10, 5))\n",
    "plt.bar(regions, average_profits)\n",
    "plt.xticks(regions, [f\"Region {i}\" for i in regions])\n",
    "plt.ylabel(\"Average Profit (USD)\")\n",
    "plt.title(\"Average Profit for Each Region\")\n",
    "plt.show()\n",
    "\n",
    "# Set up the data\n",
    "regions = [0, 1, 2]\n",
    "average_profits = [stat[\"mean_profit\"] for stat in region_stats]\n",
    "confidence_intervals = [(stat[\"upper_ci\"] - stat[\"lower_ci\"]) for stat in region_stats]\n",
    "\n",
    "# Create a bar chart for confidence intervals\n",
    "plt.figure(figsize=(10, 5))\n",
    "plt.bar(regions, confidence_intervals)\n",
    "plt.xticks(regions, [f\"Region {i}\" for i in regions])\n",
    "plt.ylabel(\"Confidence Interval Range (USD)\")\n",
    "plt.title(\"95% Confidence Interval Range for Each Region\")\n",
    "plt.show()\n",
    "\n",
    "# Create a bar chart for risk of losses\n",
    "plt.figure(figsize=(10, 5))\n",
    "plt.bar(regions, risk_of_losses)\n",
    "plt.xticks(regions, [f\"Region {i}\" for i in regions])\n",
    "plt.ylabel(\"Risk of Losses (%)\")\n",
    "plt.title(\"Risk of Losses for Each Region\")\n",
    "plt.show()"
   ]
  },
  {
   "cell_type": "markdown",
   "metadata": {},
   "source": [
    "Region 1, gives better profit in comparison with other regions, and confidence interval range is lower. however will be choice region 1 for the next investment will be better profitable. The risk of losses is similar for all regions. Perhaps region1 is greater than other regions."
   ]
  },
  {
   "cell_type": "markdown",
   "metadata": {},
   "source": [
    "<div class=\"alert alert-success\">\n",
    "<b>Reviewer's comment V3</b>\n",
    "\n",
    "Region choice is correct and justified!\n",
    "\n",
    "</div>"
   ]
  }
 ],
 "metadata": {
  "kernelspec": {
   "display_name": "Python 3 (ipykernel)",
   "language": "python",
   "name": "python3"
  },
  "language_info": {
   "codemirror_mode": {
    "name": "ipython",
    "version": 3
   },
   "file_extension": ".py",
   "mimetype": "text/x-python",
   "name": "python",
   "nbconvert_exporter": "python",
   "pygments_lexer": "ipython3",
   "version": "3.9.5"
  },
  "toc": {
   "base_numbering": 1,
   "nav_menu": {},
   "number_sections": true,
   "sideBar": true,
   "skip_h1_title": true,
   "title_cell": "Table of Contents",
   "title_sidebar": "Contents",
   "toc_cell": false,
   "toc_position": {},
   "toc_section_display": true,
   "toc_window_display": false
  }
 },
 "nbformat": 4,
 "nbformat_minor": 2
}
