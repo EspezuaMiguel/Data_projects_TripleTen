{
 "cells": [
  {
   "cell_type": "markdown",
   "id": "535c9218",
   "metadata": {},
   "source": [
    "<div class=\"alert alert-success\">\n",
    "<b>Review summary, v. 3</b> \n",
    "    \n",
    "Miguel, thank you for the updates. Excellent job. All critical comments fixed. \n",
    "    \n",
    "The project is complete, congratulations.\n",
    "    \n",
    "    \n",
    "Good luck to you with the next projects."
   ]
  },
  {
   "cell_type": "markdown",
   "id": "4c77bbe8",
   "metadata": {},
   "source": [
    "# Project description\n",
    " \n",
    " from raw dataset of **Instacart**, will take multiple data sets where we record information about the client perform, the product ordered by customer and information of the product.\n",
    "\n",
    "The project purpose is to take those dataset and preprocessing, remove duplicates and edit the missing values. used the relationship between the dataset then will be processing and analyzing this data.\n",
    "\n",
    "The five dataset files were in csv format, the information included are record of orders from client, product information, product ordered, location of the product classified by departments and aisle.\n"
   ]
  },
  {
   "cell_type": "markdown",
   "id": "c25a4f45",
   "metadata": {},
   "source": [
    "Load Libraries, Pandas, Numpy, matplotlib"
   ]
  },
  {
   "cell_type": "code",
   "execution_count": 1,
   "id": "fbf1adab",
   "metadata": {},
   "outputs": [],
   "source": [
    "import pandas as pd\n",
    "import numpy as np\n",
    "import matplotlib.pyplot as plt # moved v. 1"
   ]
  },
  {
   "cell_type": "code",
   "execution_count": 2,
   "id": "ad36396d",
   "metadata": {},
   "outputs": [
    {
     "name": "stdout",
     "output_type": "stream",
     "text": [
      "<class 'pandas.core.frame.DataFrame'>\n",
      "RangeIndex: 478967 entries, 0 to 478966\n",
      "Data columns (total 6 columns):\n",
      " #   Column                  Non-Null Count   Dtype  \n",
      "---  ------                  --------------   -----  \n",
      " 0   order_id                478967 non-null  int64  \n",
      " 1   user_id                 478967 non-null  int64  \n",
      " 2   order_number            478967 non-null  int64  \n",
      " 3   order_dow               478967 non-null  int64  \n",
      " 4   order_hour_of_day       478967 non-null  int64  \n",
      " 5   days_since_prior_order  450148 non-null  float64\n",
      "dtypes: float64(1), int64(5)\n",
      "memory usage: 21.9 MB\n"
     ]
    },
    {
     "data": {
      "text/html": [
       "<div>\n",
       "<style scoped>\n",
       "    .dataframe tbody tr th:only-of-type {\n",
       "        vertical-align: middle;\n",
       "    }\n",
       "\n",
       "    .dataframe tbody tr th {\n",
       "        vertical-align: top;\n",
       "    }\n",
       "\n",
       "    .dataframe thead th {\n",
       "        text-align: right;\n",
       "    }\n",
       "</style>\n",
       "<table border=\"1\" class=\"dataframe\">\n",
       "  <thead>\n",
       "    <tr style=\"text-align: right;\">\n",
       "      <th></th>\n",
       "      <th>order_id</th>\n",
       "      <th>user_id</th>\n",
       "      <th>order_number</th>\n",
       "      <th>order_dow</th>\n",
       "      <th>order_hour_of_day</th>\n",
       "      <th>days_since_prior_order</th>\n",
       "    </tr>\n",
       "  </thead>\n",
       "  <tbody>\n",
       "    <tr>\n",
       "      <th>0</th>\n",
       "      <td>1515936</td>\n",
       "      <td>183418</td>\n",
       "      <td>11</td>\n",
       "      <td>6</td>\n",
       "      <td>13</td>\n",
       "      <td>30.0</td>\n",
       "    </tr>\n",
       "    <tr>\n",
       "      <th>1</th>\n",
       "      <td>1690866</td>\n",
       "      <td>163593</td>\n",
       "      <td>5</td>\n",
       "      <td>5</td>\n",
       "      <td>12</td>\n",
       "      <td>9.0</td>\n",
       "    </tr>\n",
       "    <tr>\n",
       "      <th>2</th>\n",
       "      <td>1454967</td>\n",
       "      <td>39980</td>\n",
       "      <td>4</td>\n",
       "      <td>5</td>\n",
       "      <td>19</td>\n",
       "      <td>2.0</td>\n",
       "    </tr>\n",
       "    <tr>\n",
       "      <th>3</th>\n",
       "      <td>1768857</td>\n",
       "      <td>82516</td>\n",
       "      <td>56</td>\n",
       "      <td>0</td>\n",
       "      <td>20</td>\n",
       "      <td>10.0</td>\n",
       "    </tr>\n",
       "    <tr>\n",
       "      <th>4</th>\n",
       "      <td>3007858</td>\n",
       "      <td>196724</td>\n",
       "      <td>2</td>\n",
       "      <td>4</td>\n",
       "      <td>12</td>\n",
       "      <td>17.0</td>\n",
       "    </tr>\n",
       "  </tbody>\n",
       "</table>\n",
       "</div>"
      ],
      "text/plain": [
       "   order_id  user_id  order_number  order_dow  order_hour_of_day  \\\n",
       "0   1515936   183418            11          6                 13   \n",
       "1   1690866   163593             5          5                 12   \n",
       "2   1454967    39980             4          5                 19   \n",
       "3   1768857    82516            56          0                 20   \n",
       "4   3007858   196724             2          4                 12   \n",
       "\n",
       "   days_since_prior_order  \n",
       "0                    30.0  \n",
       "1                     9.0  \n",
       "2                     2.0  \n",
       "3                    10.0  \n",
       "4                    17.0  "
      ]
     },
     "metadata": {},
     "output_type": "display_data"
    }
   ],
   "source": [
    "df_orders = pd.read_csv('/datasets/instacart_orders.csv', sep=';')\n",
    "df_orders.info(show_counts=True)\n",
    "display(df_orders[:5])"
   ]
  },
  {
   "cell_type": "code",
   "execution_count": 3,
   "id": "ad6a1efa",
   "metadata": {},
   "outputs": [
    {
     "name": "stdout",
     "output_type": "stream",
     "text": [
      "<class 'pandas.core.frame.DataFrame'>\n",
      "RangeIndex: 49694 entries, 0 to 49693\n",
      "Data columns (total 4 columns):\n",
      " #   Column         Non-Null Count  Dtype \n",
      "---  ------         --------------  ----- \n",
      " 0   product_id     49694 non-null  int64 \n",
      " 1   product_name   48436 non-null  object\n",
      " 2   aisle_id       49694 non-null  int64 \n",
      " 3   department_id  49694 non-null  int64 \n",
      "dtypes: int64(3), object(1)\n",
      "memory usage: 1.5+ MB\n",
      "\n"
     ]
    },
    {
     "data": {
      "text/html": [
       "<div>\n",
       "<style scoped>\n",
       "    .dataframe tbody tr th:only-of-type {\n",
       "        vertical-align: middle;\n",
       "    }\n",
       "\n",
       "    .dataframe tbody tr th {\n",
       "        vertical-align: top;\n",
       "    }\n",
       "\n",
       "    .dataframe thead th {\n",
       "        text-align: right;\n",
       "    }\n",
       "</style>\n",
       "<table border=\"1\" class=\"dataframe\">\n",
       "  <thead>\n",
       "    <tr style=\"text-align: right;\">\n",
       "      <th></th>\n",
       "      <th>product_id</th>\n",
       "      <th>product_name</th>\n",
       "      <th>aisle_id</th>\n",
       "      <th>department_id</th>\n",
       "    </tr>\n",
       "  </thead>\n",
       "  <tbody>\n",
       "    <tr>\n",
       "      <th>0</th>\n",
       "      <td>1</td>\n",
       "      <td>Chocolate Sandwich Cookies</td>\n",
       "      <td>61</td>\n",
       "      <td>19</td>\n",
       "    </tr>\n",
       "    <tr>\n",
       "      <th>1</th>\n",
       "      <td>2</td>\n",
       "      <td>All-Seasons Salt</td>\n",
       "      <td>104</td>\n",
       "      <td>13</td>\n",
       "    </tr>\n",
       "    <tr>\n",
       "      <th>2</th>\n",
       "      <td>3</td>\n",
       "      <td>Robust Golden Unsweetened Oolong Tea</td>\n",
       "      <td>94</td>\n",
       "      <td>7</td>\n",
       "    </tr>\n",
       "    <tr>\n",
       "      <th>3</th>\n",
       "      <td>4</td>\n",
       "      <td>Smart Ones Classic Favorites Mini Rigatoni Wit...</td>\n",
       "      <td>38</td>\n",
       "      <td>1</td>\n",
       "    </tr>\n",
       "    <tr>\n",
       "      <th>4</th>\n",
       "      <td>5</td>\n",
       "      <td>Green Chile Anytime Sauce</td>\n",
       "      <td>5</td>\n",
       "      <td>13</td>\n",
       "    </tr>\n",
       "  </tbody>\n",
       "</table>\n",
       "</div>"
      ],
      "text/plain": [
       "   product_id                                       product_name  aisle_id  \\\n",
       "0           1                         Chocolate Sandwich Cookies        61   \n",
       "1           2                                   All-Seasons Salt       104   \n",
       "2           3               Robust Golden Unsweetened Oolong Tea        94   \n",
       "3           4  Smart Ones Classic Favorites Mini Rigatoni Wit...        38   \n",
       "4           5                          Green Chile Anytime Sauce         5   \n",
       "\n",
       "   department_id  \n",
       "0             19  \n",
       "1             13  \n",
       "2              7  \n",
       "3              1  \n",
       "4             13  "
      ]
     },
     "metadata": {},
     "output_type": "display_data"
    }
   ],
   "source": [
    "df_products = pd.read_csv('/datasets/products.csv', sep=';')\n",
    "df_products.info(show_counts=True)\n",
    "print()\n",
    "display(df_products[:5])"
   ]
  },
  {
   "cell_type": "code",
   "execution_count": 4,
   "id": "5130e05e",
   "metadata": {},
   "outputs": [
    {
     "name": "stdout",
     "output_type": "stream",
     "text": [
      "<class 'pandas.core.frame.DataFrame'>\n",
      "RangeIndex: 134 entries, 0 to 133\n",
      "Data columns (total 2 columns):\n",
      " #   Column    Non-Null Count  Dtype \n",
      "---  ------    --------------  ----- \n",
      " 0   aisle_id  134 non-null    int64 \n",
      " 1   aisle     134 non-null    object\n",
      "dtypes: int64(1), object(1)\n",
      "memory usage: 2.2+ KB\n",
      "\n"
     ]
    },
    {
     "data": {
      "text/html": [
       "<div>\n",
       "<style scoped>\n",
       "    .dataframe tbody tr th:only-of-type {\n",
       "        vertical-align: middle;\n",
       "    }\n",
       "\n",
       "    .dataframe tbody tr th {\n",
       "        vertical-align: top;\n",
       "    }\n",
       "\n",
       "    .dataframe thead th {\n",
       "        text-align: right;\n",
       "    }\n",
       "</style>\n",
       "<table border=\"1\" class=\"dataframe\">\n",
       "  <thead>\n",
       "    <tr style=\"text-align: right;\">\n",
       "      <th></th>\n",
       "      <th>aisle_id</th>\n",
       "      <th>aisle</th>\n",
       "    </tr>\n",
       "  </thead>\n",
       "  <tbody>\n",
       "    <tr>\n",
       "      <th>0</th>\n",
       "      <td>1</td>\n",
       "      <td>prepared soups salads</td>\n",
       "    </tr>\n",
       "    <tr>\n",
       "      <th>1</th>\n",
       "      <td>2</td>\n",
       "      <td>specialty cheeses</td>\n",
       "    </tr>\n",
       "    <tr>\n",
       "      <th>2</th>\n",
       "      <td>3</td>\n",
       "      <td>energy granola bars</td>\n",
       "    </tr>\n",
       "    <tr>\n",
       "      <th>3</th>\n",
       "      <td>4</td>\n",
       "      <td>instant foods</td>\n",
       "    </tr>\n",
       "    <tr>\n",
       "      <th>4</th>\n",
       "      <td>5</td>\n",
       "      <td>marinades meat preparation</td>\n",
       "    </tr>\n",
       "  </tbody>\n",
       "</table>\n",
       "</div>"
      ],
      "text/plain": [
       "   aisle_id                       aisle\n",
       "0         1       prepared soups salads\n",
       "1         2           specialty cheeses\n",
       "2         3         energy granola bars\n",
       "3         4               instant foods\n",
       "4         5  marinades meat preparation"
      ]
     },
     "metadata": {},
     "output_type": "display_data"
    }
   ],
   "source": [
    "df_aisles = pd.read_csv('/datasets/aisles.csv', sep=';')\n",
    "df_aisles.info(show_counts=True)\n",
    "print()\n",
    "display(df_aisles[:5])"
   ]
  },
  {
   "cell_type": "code",
   "execution_count": 5,
   "id": "d8370c05",
   "metadata": {},
   "outputs": [
    {
     "name": "stdout",
     "output_type": "stream",
     "text": [
      "<class 'pandas.core.frame.DataFrame'>\n",
      "RangeIndex: 49694 entries, 0 to 49693\n",
      "Data columns (total 4 columns):\n",
      " #   Column         Non-Null Count  Dtype \n",
      "---  ------         --------------  ----- \n",
      " 0   product_id     49694 non-null  int64 \n",
      " 1   product_name   48436 non-null  object\n",
      " 2   aisle_id       49694 non-null  int64 \n",
      " 3   department_id  49694 non-null  int64 \n",
      "dtypes: int64(3), object(1)\n",
      "memory usage: 1.5+ MB\n",
      "\n"
     ]
    },
    {
     "data": {
      "text/html": [
       "<div>\n",
       "<style scoped>\n",
       "    .dataframe tbody tr th:only-of-type {\n",
       "        vertical-align: middle;\n",
       "    }\n",
       "\n",
       "    .dataframe tbody tr th {\n",
       "        vertical-align: top;\n",
       "    }\n",
       "\n",
       "    .dataframe thead th {\n",
       "        text-align: right;\n",
       "    }\n",
       "</style>\n",
       "<table border=\"1\" class=\"dataframe\">\n",
       "  <thead>\n",
       "    <tr style=\"text-align: right;\">\n",
       "      <th></th>\n",
       "      <th>product_id</th>\n",
       "      <th>product_name</th>\n",
       "      <th>aisle_id</th>\n",
       "      <th>department_id</th>\n",
       "    </tr>\n",
       "  </thead>\n",
       "  <tbody>\n",
       "    <tr>\n",
       "      <th>0</th>\n",
       "      <td>1</td>\n",
       "      <td>Chocolate Sandwich Cookies</td>\n",
       "      <td>61</td>\n",
       "      <td>19</td>\n",
       "    </tr>\n",
       "    <tr>\n",
       "      <th>1</th>\n",
       "      <td>2</td>\n",
       "      <td>All-Seasons Salt</td>\n",
       "      <td>104</td>\n",
       "      <td>13</td>\n",
       "    </tr>\n",
       "    <tr>\n",
       "      <th>2</th>\n",
       "      <td>3</td>\n",
       "      <td>Robust Golden Unsweetened Oolong Tea</td>\n",
       "      <td>94</td>\n",
       "      <td>7</td>\n",
       "    </tr>\n",
       "    <tr>\n",
       "      <th>3</th>\n",
       "      <td>4</td>\n",
       "      <td>Smart Ones Classic Favorites Mini Rigatoni Wit...</td>\n",
       "      <td>38</td>\n",
       "      <td>1</td>\n",
       "    </tr>\n",
       "    <tr>\n",
       "      <th>4</th>\n",
       "      <td>5</td>\n",
       "      <td>Green Chile Anytime Sauce</td>\n",
       "      <td>5</td>\n",
       "      <td>13</td>\n",
       "    </tr>\n",
       "  </tbody>\n",
       "</table>\n",
       "</div>"
      ],
      "text/plain": [
       "   product_id                                       product_name  aisle_id  \\\n",
       "0           1                         Chocolate Sandwich Cookies        61   \n",
       "1           2                                   All-Seasons Salt       104   \n",
       "2           3               Robust Golden Unsweetened Oolong Tea        94   \n",
       "3           4  Smart Ones Classic Favorites Mini Rigatoni Wit...        38   \n",
       "4           5                          Green Chile Anytime Sauce         5   \n",
       "\n",
       "   department_id  \n",
       "0             19  \n",
       "1             13  \n",
       "2              7  \n",
       "3              1  \n",
       "4             13  "
      ]
     },
     "metadata": {},
     "output_type": "display_data"
    }
   ],
   "source": [
    "df_products = pd.read_csv('/datasets/products.csv', sep=';')\n",
    "df_products.info(show_counts=True)\n",
    "print()\n",
    "display(df_products[:5])"
   ]
  },
  {
   "cell_type": "code",
   "execution_count": 6,
   "id": "59e2090f",
   "metadata": {},
   "outputs": [
    {
     "name": "stdout",
     "output_type": "stream",
     "text": [
      "<class 'pandas.core.frame.DataFrame'>\n",
      "RangeIndex: 21 entries, 0 to 20\n",
      "Data columns (total 2 columns):\n",
      " #   Column         Non-Null Count  Dtype \n",
      "---  ------         --------------  ----- \n",
      " 0   department_id  21 non-null     int64 \n",
      " 1   department     21 non-null     object\n",
      "dtypes: int64(1), object(1)\n",
      "memory usage: 464.0+ bytes\n",
      "\n"
     ]
    },
    {
     "data": {
      "text/html": [
       "<div>\n",
       "<style scoped>\n",
       "    .dataframe tbody tr th:only-of-type {\n",
       "        vertical-align: middle;\n",
       "    }\n",
       "\n",
       "    .dataframe tbody tr th {\n",
       "        vertical-align: top;\n",
       "    }\n",
       "\n",
       "    .dataframe thead th {\n",
       "        text-align: right;\n",
       "    }\n",
       "</style>\n",
       "<table border=\"1\" class=\"dataframe\">\n",
       "  <thead>\n",
       "    <tr style=\"text-align: right;\">\n",
       "      <th></th>\n",
       "      <th>department_id</th>\n",
       "      <th>department</th>\n",
       "    </tr>\n",
       "  </thead>\n",
       "  <tbody>\n",
       "    <tr>\n",
       "      <th>0</th>\n",
       "      <td>1</td>\n",
       "      <td>frozen</td>\n",
       "    </tr>\n",
       "    <tr>\n",
       "      <th>1</th>\n",
       "      <td>2</td>\n",
       "      <td>other</td>\n",
       "    </tr>\n",
       "    <tr>\n",
       "      <th>2</th>\n",
       "      <td>3</td>\n",
       "      <td>bakery</td>\n",
       "    </tr>\n",
       "    <tr>\n",
       "      <th>3</th>\n",
       "      <td>4</td>\n",
       "      <td>produce</td>\n",
       "    </tr>\n",
       "    <tr>\n",
       "      <th>4</th>\n",
       "      <td>5</td>\n",
       "      <td>alcohol</td>\n",
       "    </tr>\n",
       "  </tbody>\n",
       "</table>\n",
       "</div>"
      ],
      "text/plain": [
       "   department_id department\n",
       "0              1     frozen\n",
       "1              2      other\n",
       "2              3     bakery\n",
       "3              4    produce\n",
       "4              5    alcohol"
      ]
     },
     "metadata": {},
     "output_type": "display_data"
    }
   ],
   "source": [
    "df_departments = pd.read_csv('/datasets/departments.csv', sep=';')\n",
    "df_departments.info(show_counts=True)\n",
    "print()\n",
    "display(df_departments[:5])"
   ]
  },
  {
   "cell_type": "code",
   "execution_count": 7,
   "id": "6fc81694",
   "metadata": {},
   "outputs": [
    {
     "name": "stdout",
     "output_type": "stream",
     "text": [
      "<class 'pandas.core.frame.DataFrame'>\n",
      "RangeIndex: 4545007 entries, 0 to 4545006\n",
      "Data columns (total 4 columns):\n",
      " #   Column             Non-Null Count    Dtype  \n",
      "---  ------             --------------    -----  \n",
      " 0   order_id           4545007 non-null  int64  \n",
      " 1   product_id         4545007 non-null  int64  \n",
      " 2   add_to_cart_order  4544171 non-null  float64\n",
      " 3   reordered          4545007 non-null  int64  \n",
      "dtypes: float64(1), int64(3)\n",
      "memory usage: 138.7 MB\n",
      "\n"
     ]
    },
    {
     "data": {
      "text/html": [
       "<div>\n",
       "<style scoped>\n",
       "    .dataframe tbody tr th:only-of-type {\n",
       "        vertical-align: middle;\n",
       "    }\n",
       "\n",
       "    .dataframe tbody tr th {\n",
       "        vertical-align: top;\n",
       "    }\n",
       "\n",
       "    .dataframe thead th {\n",
       "        text-align: right;\n",
       "    }\n",
       "</style>\n",
       "<table border=\"1\" class=\"dataframe\">\n",
       "  <thead>\n",
       "    <tr style=\"text-align: right;\">\n",
       "      <th></th>\n",
       "      <th>order_id</th>\n",
       "      <th>product_id</th>\n",
       "      <th>add_to_cart_order</th>\n",
       "      <th>reordered</th>\n",
       "    </tr>\n",
       "  </thead>\n",
       "  <tbody>\n",
       "    <tr>\n",
       "      <th>0</th>\n",
       "      <td>2141543</td>\n",
       "      <td>11440</td>\n",
       "      <td>17.0</td>\n",
       "      <td>0</td>\n",
       "    </tr>\n",
       "    <tr>\n",
       "      <th>1</th>\n",
       "      <td>567889</td>\n",
       "      <td>1560</td>\n",
       "      <td>1.0</td>\n",
       "      <td>1</td>\n",
       "    </tr>\n",
       "    <tr>\n",
       "      <th>2</th>\n",
       "      <td>2261212</td>\n",
       "      <td>26683</td>\n",
       "      <td>1.0</td>\n",
       "      <td>1</td>\n",
       "    </tr>\n",
       "    <tr>\n",
       "      <th>3</th>\n",
       "      <td>491251</td>\n",
       "      <td>8670</td>\n",
       "      <td>35.0</td>\n",
       "      <td>1</td>\n",
       "    </tr>\n",
       "    <tr>\n",
       "      <th>4</th>\n",
       "      <td>2571142</td>\n",
       "      <td>1940</td>\n",
       "      <td>5.0</td>\n",
       "      <td>1</td>\n",
       "    </tr>\n",
       "  </tbody>\n",
       "</table>\n",
       "</div>"
      ],
      "text/plain": [
       "   order_id  product_id  add_to_cart_order  reordered\n",
       "0   2141543       11440               17.0          0\n",
       "1    567889        1560                1.0          1\n",
       "2   2261212       26683                1.0          1\n",
       "3    491251        8670               35.0          1\n",
       "4   2571142        1940                5.0          1"
      ]
     },
     "metadata": {},
     "output_type": "display_data"
    }
   ],
   "source": [
    "df_order_products = pd.read_csv('/datasets/order_products.csv', sep=';')\n",
    "df_order_products.info(show_counts=True)\n",
    "print()\n",
    "display(df_order_products[:5])"
   ]
  },
  {
   "cell_type": "markdown",
   "id": "8e29bae6",
   "metadata": {},
   "source": [
    "## Conclusion\n",
    "All csv files are not standad format because the separion were whith ';'.\n",
    "**instacart_orders.csv** include six columns, the column 'days_since_prior_order' indicted missing values.\n",
    "**products.csv** include 4 columns ‘product_name’ missing information\n",
    "\n",
    "**aisles.csv** two columns no missing data\n",
    "\n",
    "**departments.csv**  how 21 departments\n",
    "\n",
    "**Order_products.csv**  the column ‘add_to_cart_order’ show missing values.\n"
   ]
  },
  {
   "cell_type": "markdown",
   "id": "4d79ec14",
   "metadata": {},
   "source": [
    "<div class=\"alert alert-success\"; style=\"border-left: 7px solid green\">\n",
    "<b>✅ Reviewer's comment, v. 1</b> \n",
    "    \n",
    "Great - you've used optimal methods to have a first look at the data."
   ]
  },
  {
   "cell_type": "markdown",
   "id": "07357848-dc64-4156-9cc3-01ff4365226d",
   "metadata": {},
   "source": [
    "## Find and remove duplicate values (and describe why you make your choices)"
   ]
  },
  {
   "cell_type": "markdown",
   "id": "f179f0a9",
   "metadata": {},
   "source": [
    "### `orders` data frame"
   ]
  },
  {
   "cell_type": "code",
   "execution_count": 8,
   "id": "b99297a5-405a-463d-8535-9adc3da4ad74",
   "metadata": {},
   "outputs": [
    {
     "data": {
      "text/html": [
       "<div>\n",
       "<style scoped>\n",
       "    .dataframe tbody tr th:only-of-type {\n",
       "        vertical-align: middle;\n",
       "    }\n",
       "\n",
       "    .dataframe tbody tr th {\n",
       "        vertical-align: top;\n",
       "    }\n",
       "\n",
       "    .dataframe thead th {\n",
       "        text-align: right;\n",
       "    }\n",
       "</style>\n",
       "<table border=\"1\" class=\"dataframe\">\n",
       "  <thead>\n",
       "    <tr style=\"text-align: right;\">\n",
       "      <th></th>\n",
       "      <th>order_id</th>\n",
       "      <th>user_id</th>\n",
       "      <th>order_number</th>\n",
       "      <th>order_dow</th>\n",
       "      <th>order_hour_of_day</th>\n",
       "      <th>days_since_prior_order</th>\n",
       "    </tr>\n",
       "  </thead>\n",
       "  <tbody>\n",
       "    <tr>\n",
       "      <th>145574</th>\n",
       "      <td>794638</td>\n",
       "      <td>50898</td>\n",
       "      <td>24</td>\n",
       "      <td>3</td>\n",
       "      <td>2</td>\n",
       "      <td>2.0</td>\n",
       "    </tr>\n",
       "    <tr>\n",
       "      <th>223105</th>\n",
       "      <td>2160484</td>\n",
       "      <td>107525</td>\n",
       "      <td>16</td>\n",
       "      <td>3</td>\n",
       "      <td>2</td>\n",
       "      <td>30.0</td>\n",
       "    </tr>\n",
       "    <tr>\n",
       "      <th>230807</th>\n",
       "      <td>1918001</td>\n",
       "      <td>188546</td>\n",
       "      <td>14</td>\n",
       "      <td>3</td>\n",
       "      <td>2</td>\n",
       "      <td>16.0</td>\n",
       "    </tr>\n",
       "    <tr>\n",
       "      <th>266232</th>\n",
       "      <td>1782114</td>\n",
       "      <td>106752</td>\n",
       "      <td>1</td>\n",
       "      <td>3</td>\n",
       "      <td>2</td>\n",
       "      <td>NaN</td>\n",
       "    </tr>\n",
       "    <tr>\n",
       "      <th>273805</th>\n",
       "      <td>1112182</td>\n",
       "      <td>202304</td>\n",
       "      <td>84</td>\n",
       "      <td>3</td>\n",
       "      <td>2</td>\n",
       "      <td>6.0</td>\n",
       "    </tr>\n",
       "    <tr>\n",
       "      <th>284038</th>\n",
       "      <td>2845099</td>\n",
       "      <td>31189</td>\n",
       "      <td>11</td>\n",
       "      <td>3</td>\n",
       "      <td>2</td>\n",
       "      <td>7.0</td>\n",
       "    </tr>\n",
       "    <tr>\n",
       "      <th>311713</th>\n",
       "      <td>1021560</td>\n",
       "      <td>53767</td>\n",
       "      <td>3</td>\n",
       "      <td>3</td>\n",
       "      <td>2</td>\n",
       "      <td>9.0</td>\n",
       "    </tr>\n",
       "    <tr>\n",
       "      <th>321100</th>\n",
       "      <td>408114</td>\n",
       "      <td>68324</td>\n",
       "      <td>4</td>\n",
       "      <td>3</td>\n",
       "      <td>2</td>\n",
       "      <td>18.0</td>\n",
       "    </tr>\n",
       "    <tr>\n",
       "      <th>323900</th>\n",
       "      <td>1919531</td>\n",
       "      <td>191501</td>\n",
       "      <td>32</td>\n",
       "      <td>3</td>\n",
       "      <td>2</td>\n",
       "      <td>7.0</td>\n",
       "    </tr>\n",
       "    <tr>\n",
       "      <th>345917</th>\n",
       "      <td>2232988</td>\n",
       "      <td>82565</td>\n",
       "      <td>1</td>\n",
       "      <td>3</td>\n",
       "      <td>2</td>\n",
       "      <td>NaN</td>\n",
       "    </tr>\n",
       "    <tr>\n",
       "      <th>371905</th>\n",
       "      <td>391768</td>\n",
       "      <td>57671</td>\n",
       "      <td>19</td>\n",
       "      <td>3</td>\n",
       "      <td>2</td>\n",
       "      <td>10.0</td>\n",
       "    </tr>\n",
       "    <tr>\n",
       "      <th>394347</th>\n",
       "      <td>467134</td>\n",
       "      <td>63189</td>\n",
       "      <td>21</td>\n",
       "      <td>3</td>\n",
       "      <td>2</td>\n",
       "      <td>2.0</td>\n",
       "    </tr>\n",
       "    <tr>\n",
       "      <th>411408</th>\n",
       "      <td>1286742</td>\n",
       "      <td>183220</td>\n",
       "      <td>48</td>\n",
       "      <td>3</td>\n",
       "      <td>2</td>\n",
       "      <td>4.0</td>\n",
       "    </tr>\n",
       "    <tr>\n",
       "      <th>415163</th>\n",
       "      <td>2282673</td>\n",
       "      <td>86751</td>\n",
       "      <td>49</td>\n",
       "      <td>3</td>\n",
       "      <td>2</td>\n",
       "      <td>2.0</td>\n",
       "    </tr>\n",
       "    <tr>\n",
       "      <th>441599</th>\n",
       "      <td>2125197</td>\n",
       "      <td>14050</td>\n",
       "      <td>48</td>\n",
       "      <td>3</td>\n",
       "      <td>2</td>\n",
       "      <td>3.0</td>\n",
       "    </tr>\n",
       "  </tbody>\n",
       "</table>\n",
       "</div>"
      ],
      "text/plain": [
       "        order_id  user_id  order_number  order_dow  order_hour_of_day  \\\n",
       "145574    794638    50898            24          3                  2   \n",
       "223105   2160484   107525            16          3                  2   \n",
       "230807   1918001   188546            14          3                  2   \n",
       "266232   1782114   106752             1          3                  2   \n",
       "273805   1112182   202304            84          3                  2   \n",
       "284038   2845099    31189            11          3                  2   \n",
       "311713   1021560    53767             3          3                  2   \n",
       "321100    408114    68324             4          3                  2   \n",
       "323900   1919531   191501            32          3                  2   \n",
       "345917   2232988    82565             1          3                  2   \n",
       "371905    391768    57671            19          3                  2   \n",
       "394347    467134    63189            21          3                  2   \n",
       "411408   1286742   183220            48          3                  2   \n",
       "415163   2282673    86751            49          3                  2   \n",
       "441599   2125197    14050            48          3                  2   \n",
       "\n",
       "        days_since_prior_order  \n",
       "145574                     2.0  \n",
       "223105                    30.0  \n",
       "230807                    16.0  \n",
       "266232                     NaN  \n",
       "273805                     6.0  \n",
       "284038                     7.0  \n",
       "311713                     9.0  \n",
       "321100                    18.0  \n",
       "323900                     7.0  \n",
       "345917                     NaN  \n",
       "371905                    10.0  \n",
       "394347                     2.0  \n",
       "411408                     4.0  \n",
       "415163                     2.0  \n",
       "441599                     3.0  "
      ]
     },
     "metadata": {},
     "output_type": "display_data"
    },
    {
     "name": "stdout",
     "output_type": "stream",
     "text": [
      "\n",
      "Total number duplicated : 15\n"
     ]
    }
   ],
   "source": [
    "# Check for duplicated orders\n",
    "display(df_orders[df_orders.duplicated()])\n",
    "print()\n",
    "print('Total number duplicated :',df_orders.duplicated().sum())"
   ]
  },
  {
   "cell_type": "code",
   "execution_count": 9,
   "id": "0d44de5d",
   "metadata": {},
   "outputs": [
    {
     "data": {
      "text/html": [
       "<div>\n",
       "<style scoped>\n",
       "    .dataframe tbody tr th:only-of-type {\n",
       "        vertical-align: middle;\n",
       "    }\n",
       "\n",
       "    .dataframe tbody tr th {\n",
       "        vertical-align: top;\n",
       "    }\n",
       "\n",
       "    .dataframe thead th {\n",
       "        text-align: right;\n",
       "    }\n",
       "</style>\n",
       "<table border=\"1\" class=\"dataframe\">\n",
       "  <thead>\n",
       "    <tr style=\"text-align: right;\">\n",
       "      <th></th>\n",
       "      <th>order_id</th>\n",
       "      <th>user_id</th>\n",
       "      <th>order_number</th>\n",
       "      <th>order_dow</th>\n",
       "      <th>order_hour_of_day</th>\n",
       "      <th>days_since_prior_order</th>\n",
       "    </tr>\n",
       "  </thead>\n",
       "  <tbody>\n",
       "    <tr>\n",
       "      <th>4838</th>\n",
       "      <td>2766110</td>\n",
       "      <td>162084</td>\n",
       "      <td>41</td>\n",
       "      <td>3</td>\n",
       "      <td>2</td>\n",
       "      <td>16.0</td>\n",
       "    </tr>\n",
       "    <tr>\n",
       "      <th>5156</th>\n",
       "      <td>2190225</td>\n",
       "      <td>138285</td>\n",
       "      <td>18</td>\n",
       "      <td>3</td>\n",
       "      <td>2</td>\n",
       "      <td>11.0</td>\n",
       "    </tr>\n",
       "    <tr>\n",
       "      <th>15506</th>\n",
       "      <td>553049</td>\n",
       "      <td>58599</td>\n",
       "      <td>13</td>\n",
       "      <td>3</td>\n",
       "      <td>2</td>\n",
       "      <td>7.0</td>\n",
       "    </tr>\n",
       "    <tr>\n",
       "      <th>18420</th>\n",
       "      <td>382357</td>\n",
       "      <td>120200</td>\n",
       "      <td>19</td>\n",
       "      <td>3</td>\n",
       "      <td>2</td>\n",
       "      <td>11.0</td>\n",
       "    </tr>\n",
       "    <tr>\n",
       "      <th>24691</th>\n",
       "      <td>690242</td>\n",
       "      <td>77357</td>\n",
       "      <td>2</td>\n",
       "      <td>3</td>\n",
       "      <td>2</td>\n",
       "      <td>9.0</td>\n",
       "    </tr>\n",
       "    <tr>\n",
       "      <th>...</th>\n",
       "      <td>...</td>\n",
       "      <td>...</td>\n",
       "      <td>...</td>\n",
       "      <td>...</td>\n",
       "      <td>...</td>\n",
       "      <td>...</td>\n",
       "    </tr>\n",
       "    <tr>\n",
       "      <th>457013</th>\n",
       "      <td>3384021</td>\n",
       "      <td>14881</td>\n",
       "      <td>6</td>\n",
       "      <td>3</td>\n",
       "      <td>2</td>\n",
       "      <td>30.0</td>\n",
       "    </tr>\n",
       "    <tr>\n",
       "      <th>458816</th>\n",
       "      <td>910166</td>\n",
       "      <td>164782</td>\n",
       "      <td>18</td>\n",
       "      <td>3</td>\n",
       "      <td>2</td>\n",
       "      <td>4.0</td>\n",
       "    </tr>\n",
       "    <tr>\n",
       "      <th>459635</th>\n",
       "      <td>1680532</td>\n",
       "      <td>106435</td>\n",
       "      <td>6</td>\n",
       "      <td>3</td>\n",
       "      <td>2</td>\n",
       "      <td>21.0</td>\n",
       "    </tr>\n",
       "    <tr>\n",
       "      <th>468324</th>\n",
       "      <td>222962</td>\n",
       "      <td>54979</td>\n",
       "      <td>59</td>\n",
       "      <td>3</td>\n",
       "      <td>2</td>\n",
       "      <td>3.0</td>\n",
       "    </tr>\n",
       "    <tr>\n",
       "      <th>477526</th>\n",
       "      <td>2592344</td>\n",
       "      <td>46860</td>\n",
       "      <td>38</td>\n",
       "      <td>3</td>\n",
       "      <td>2</td>\n",
       "      <td>3.0</td>\n",
       "    </tr>\n",
       "  </tbody>\n",
       "</table>\n",
       "<p>121 rows × 6 columns</p>\n",
       "</div>"
      ],
      "text/plain": [
       "        order_id  user_id  order_number  order_dow  order_hour_of_day  \\\n",
       "4838     2766110   162084            41          3                  2   \n",
       "5156     2190225   138285            18          3                  2   \n",
       "15506     553049    58599            13          3                  2   \n",
       "18420     382357   120200            19          3                  2   \n",
       "24691     690242    77357             2          3                  2   \n",
       "...          ...      ...           ...        ...                ...   \n",
       "457013   3384021    14881             6          3                  2   \n",
       "458816    910166   164782            18          3                  2   \n",
       "459635   1680532   106435             6          3                  2   \n",
       "468324    222962    54979            59          3                  2   \n",
       "477526   2592344    46860            38          3                  2   \n",
       "\n",
       "        days_since_prior_order  \n",
       "4838                      16.0  \n",
       "5156                      11.0  \n",
       "15506                      7.0  \n",
       "18420                     11.0  \n",
       "24691                      9.0  \n",
       "...                        ...  \n",
       "457013                    30.0  \n",
       "458816                     4.0  \n",
       "459635                    21.0  \n",
       "468324                     3.0  \n",
       "477526                     3.0  \n",
       "\n",
       "[121 rows x 6 columns]"
      ]
     },
     "metadata": {},
     "output_type": "display_data"
    },
    {
     "name": "stdout",
     "output_type": "stream",
     "text": [
      "\n",
      "15\n"
     ]
    }
   ],
   "source": [
    "# Check for all orders placed Wednesday at 2:00 AM\n",
    "\n",
    "display(df_orders[(df_orders['order_dow'] == 3) & (df_orders['order_hour_of_day'] == 2)])\n",
    "print()\n",
    "print(df_orders[(df_orders['order_dow'] == 3) & (df_orders['order_hour_of_day'] == 2)].duplicated().sum())\n"
   ]
  },
  {
   "cell_type": "code",
   "execution_count": 10,
   "id": "480563c7",
   "metadata": {},
   "outputs": [],
   "source": [
    "# Remove duplicate orders\n",
    "df_orders = df_orders.drop_duplicates()"
   ]
  },
  {
   "cell_type": "code",
   "execution_count": 11,
   "id": "0b2396a2",
   "metadata": {},
   "outputs": [
    {
     "data": {
      "text/plain": [
       "order_id  user_id  order_number  order_dow  order_hour_of_day  days_since_prior_order\n",
       "4         178520   36            1          9                  7.0                       1\n",
       "2278863   97255    4             5          18                 30.0                      1\n",
       "2278985   93596    11            5          13                 23.0                      1\n",
       "2278978   72281    21            3          16                 7.0                       1\n",
       "2278962   188803   4             5          14                 0.0                       1\n",
       "                                                                                        ..\n",
       "1141845   153218   2             3          8                  6.0                       1\n",
       "1141835   120105   16            4          10                 15.0                      1\n",
       "1141834   92229    8             5          14                 26.0                      1\n",
       "1141833   26712    27            3          13                 6.0                       1\n",
       "3421079   108687   6             1          13                 0.0                       1\n",
       "Length: 450135, dtype: int64"
      ]
     },
     "metadata": {},
     "output_type": "display_data"
    },
    {
     "name": "stdout",
     "output_type": "stream",
     "text": [
      "\n",
      "0\n"
     ]
    }
   ],
   "source": [
    "# Double check for duplicate rows\n",
    "display(df_orders.value_counts())\n",
    "print()\n",
    "print(df_orders.duplicated().sum())"
   ]
  },
  {
   "cell_type": "code",
   "execution_count": 12,
   "id": "f6113ef1",
   "metadata": {},
   "outputs": [
    {
     "name": "stdout",
     "output_type": "stream",
     "text": [
      "1048576    1\n",
      "3203100    1\n",
      "3168267    1\n",
      "1073164    1\n",
      "1079311    1\n",
      "2129936    1\n",
      "402526     1\n",
      "2136083    1\n",
      "40980      1\n",
      "325216     1\n",
      "Name: order_id, dtype: int64\n"
     ]
    }
   ],
   "source": [
    "# Double check for duplicate order IDs only\n",
    "dup_order_id = df_orders['order_id'].value_counts()\n",
    "\n",
    "print(dup_order_id.sort_values(ascending=False).head(10))"
   ]
  },
  {
   "cell_type": "markdown",
   "id": "5e8905ae",
   "metadata": {},
   "source": [
    "use the duplicated() and sum() method to find the total of the dataframe\n",
    "\n",
    "use multiple condition to check duplicate orders on Wednesday at 2 am\n",
    " With the drop_duplicates() method I eliminated the duplicates in the dataframe\n",
    "second verification that there will be no duplicates using value_counts() and duplicated() and sum() method\n",
    "\n",
    "Finally, order the data in the 'order_id' column in descending order after applying the value_counts() method.\n",
    "\n",
    "The result shows that they are all unique values"
   ]
  },
  {
   "cell_type": "markdown",
   "id": "3b6e7c55",
   "metadata": {},
   "source": [
    "<div class=\"alert alert-success\"; style=\"border-left: 7px solid green\">\n",
    "<b>✅ Reviewer's comment, v. 1</b> \n",
    "    \n",
    "Well done - you've completed all the necessary checks and transformations and wrote a conclusion."
   ]
  },
  {
   "cell_type": "markdown",
   "id": "45e6bc46",
   "metadata": {},
   "source": [
    "### `products` data frame"
   ]
  },
  {
   "cell_type": "code",
   "execution_count": 13,
   "id": "5f526b5b-8175-46fa-a0fd-441767d50e64",
   "metadata": {},
   "outputs": [
    {
     "name": "stdout",
     "output_type": "stream",
     "text": [
      "Empty DataFrame\n",
      "Columns: [product_id, product_name, aisle_id, department_id]\n",
      "Index: []\n",
      "\n",
      "Total number duplicated : 0\n"
     ]
    }
   ],
   "source": [
    "# Check for fully duplicate rows\n",
    "print(df_products[df_products.duplicated()])\n",
    "print()\n",
    "print('Total number duplicated :',df_products.duplicated().sum())"
   ]
  },
  {
   "cell_type": "code",
   "execution_count": 14,
   "id": "88daa4f4",
   "metadata": {},
   "outputs": [
    {
     "name": "stdout",
     "output_type": "stream",
     "text": [
      "Total number duplicated by product Id: 0\n"
     ]
    }
   ],
   "source": [
    "# Check for just duplicate product IDs\n",
    "#print(df_products.head())\n",
    "print('Total number duplicated by product Id:',df_products['product_id'].duplicated().sum())"
   ]
  },
  {
   "cell_type": "code",
   "execution_count": 15,
   "id": "c773f0bf",
   "metadata": {},
   "outputs": [
    {
     "name": "stdout",
     "output_type": "stream",
     "text": [
      "1361\n"
     ]
    }
   ],
   "source": [
    "# Check for just duplicate product names (convert names to lowercase to compare better)\n",
    "print(df_products['product_name'].str.lower().duplicated().sum())"
   ]
  },
  {
   "cell_type": "code",
   "execution_count": 16,
   "id": "01efd02e",
   "metadata": {},
   "outputs": [
    {
     "name": "stdout",
     "output_type": "stream",
     "text": [
      "1258\n"
     ]
    }
   ],
   "source": [
    "# Check for duplicate product names that aren't missing\n",
    "print(df_products['product_name'].isna().sum())"
   ]
  },
  {
   "cell_type": "code",
   "execution_count": 17,
   "id": "2d82ca52",
   "metadata": {},
   "outputs": [
    {
     "data": {
      "text/html": [
       "<div>\n",
       "<style scoped>\n",
       "    .dataframe tbody tr th:only-of-type {\n",
       "        vertical-align: middle;\n",
       "    }\n",
       "\n",
       "    .dataframe tbody tr th {\n",
       "        vertical-align: top;\n",
       "    }\n",
       "\n",
       "    .dataframe thead th {\n",
       "        text-align: right;\n",
       "    }\n",
       "</style>\n",
       "<table border=\"1\" class=\"dataframe\">\n",
       "  <thead>\n",
       "    <tr style=\"text-align: right;\">\n",
       "      <th></th>\n",
       "      <th>product_id</th>\n",
       "      <th>product_name</th>\n",
       "      <th>aisle_id</th>\n",
       "      <th>department_id</th>\n",
       "    </tr>\n",
       "  </thead>\n",
       "  <tbody>\n",
       "    <tr>\n",
       "      <th>2058</th>\n",
       "      <td>2059</td>\n",
       "      <td>Biotin 1000 Mcg</td>\n",
       "      <td>47</td>\n",
       "      <td>11</td>\n",
       "    </tr>\n",
       "    <tr>\n",
       "      <th>5455</th>\n",
       "      <td>5456</td>\n",
       "      <td>Green Tea With Ginseng and Honey</td>\n",
       "      <td>96</td>\n",
       "      <td>20</td>\n",
       "    </tr>\n",
       "    <tr>\n",
       "      <th>5558</th>\n",
       "      <td>5559</td>\n",
       "      <td>Cream Of Mushroom Soup</td>\n",
       "      <td>69</td>\n",
       "      <td>15</td>\n",
       "    </tr>\n",
       "    <tr>\n",
       "      <th>7558</th>\n",
       "      <td>7559</td>\n",
       "      <td>Cinnamon Rolls with Icing</td>\n",
       "      <td>105</td>\n",
       "      <td>13</td>\n",
       "    </tr>\n",
       "    <tr>\n",
       "      <th>9037</th>\n",
       "      <td>9038</td>\n",
       "      <td>American Cheese slices</td>\n",
       "      <td>21</td>\n",
       "      <td>16</td>\n",
       "    </tr>\n",
       "    <tr>\n",
       "      <th>...</th>\n",
       "      <td>...</td>\n",
       "      <td>...</td>\n",
       "      <td>...</td>\n",
       "      <td>...</td>\n",
       "    </tr>\n",
       "    <tr>\n",
       "      <th>49689</th>\n",
       "      <td>49690</td>\n",
       "      <td>HIGH PERFORMANCE ENERGY DRINK</td>\n",
       "      <td>64</td>\n",
       "      <td>7</td>\n",
       "    </tr>\n",
       "    <tr>\n",
       "      <th>49690</th>\n",
       "      <td>49691</td>\n",
       "      <td>ORIGINAL PANCAKE &amp; WAFFLE MIX</td>\n",
       "      <td>130</td>\n",
       "      <td>14</td>\n",
       "    </tr>\n",
       "    <tr>\n",
       "      <th>49691</th>\n",
       "      <td>49692</td>\n",
       "      <td>ORGANIC INSTANT OATMEAL LIGHT MAPLE BROWN SUGAR</td>\n",
       "      <td>130</td>\n",
       "      <td>14</td>\n",
       "    </tr>\n",
       "    <tr>\n",
       "      <th>49692</th>\n",
       "      <td>49693</td>\n",
       "      <td>SPRING WATER BODY WASH</td>\n",
       "      <td>127</td>\n",
       "      <td>11</td>\n",
       "    </tr>\n",
       "    <tr>\n",
       "      <th>49693</th>\n",
       "      <td>49694</td>\n",
       "      <td>BURRITO- STEAK &amp; CHEESE</td>\n",
       "      <td>38</td>\n",
       "      <td>1</td>\n",
       "    </tr>\n",
       "  </tbody>\n",
       "</table>\n",
       "<p>104 rows × 4 columns</p>\n",
       "</div>"
      ],
      "text/plain": [
       "       product_id                                     product_name  aisle_id  \\\n",
       "2058         2059                                  Biotin 1000 Mcg        47   \n",
       "5455         5456                 Green Tea With Ginseng and Honey        96   \n",
       "5558         5559                           Cream Of Mushroom Soup        69   \n",
       "7558         7559                        Cinnamon Rolls with Icing       105   \n",
       "9037         9038                           American Cheese slices        21   \n",
       "...           ...                                              ...       ...   \n",
       "49689       49690                    HIGH PERFORMANCE ENERGY DRINK        64   \n",
       "49690       49691                    ORIGINAL PANCAKE & WAFFLE MIX       130   \n",
       "49691       49692  ORGANIC INSTANT OATMEAL LIGHT MAPLE BROWN SUGAR       130   \n",
       "49692       49693                           SPRING WATER BODY WASH       127   \n",
       "49693       49694                          BURRITO- STEAK & CHEESE        38   \n",
       "\n",
       "       department_id  \n",
       "2058              11  \n",
       "5455              20  \n",
       "5558              15  \n",
       "7558              13  \n",
       "9037              16  \n",
       "...              ...  \n",
       "49689              7  \n",
       "49690             14  \n",
       "49691             14  \n",
       "49692             11  \n",
       "49693              1  \n",
       "\n",
       "[104 rows x 4 columns]"
      ]
     },
     "execution_count": 17,
     "metadata": {},
     "output_type": "execute_result"
    }
   ],
   "source": [
    "#Added by the reviewer\n",
    "\n",
    "# Check for duplicate product names that aren't missing\n",
    "df_products[df_products['product_name'].notna() & df_products['product_name'].str.lower().duplicated()]"
   ]
  },
  {
   "cell_type": "markdown",
   "id": "34bafd2e",
   "metadata": {},
   "source": [
    "Comment: Please, explain more about this observation.  how could change to blue color\n",
    "\n",
    "<div class=\"alert alert-success\"; style=\"border-left: 7px solid green\">\n",
    "<b>✅ Reviewer's comment, v. 3</b> \n",
    "    \n",
    "✔️ You may step on the blue cell below and write inside it. You may copy the code inside it to make a similar cell highlighted with blue.\n",
    "    \n",
    "The explanation for what we see here that most of the duplicates were containing nulls in product name. And only 104 had the product name not missing.\n",
    "    \n",
    "<a class=\"tocSkip\"></a><s>\n",
    "\n"
   ]
  },
  {
   "cell_type": "markdown",
   "id": "9a4d6317",
   "metadata": {},
   "source": [
    "<div class=\"alert alert-success\"; style=\"border-left: 7px solid green\">\n",
    "<b>✅ Reviewer's comment, v. 1</b> \n",
    "    \n",
    "All the rest you did very well here."
   ]
  },
  {
   "cell_type": "markdown",
   "id": "9da8d293",
   "metadata": {},
   "source": [
    "no duplicate rows were found, we tried only with the 'product_id' column and there were no duplicates, we also tried to verify if there were duplicates in the 'product_name' column if duplicates were found (1361) which (1258) are missing information in that column. Before removing duplicates, it requires filling in the missing information."
   ]
  },
  {
   "cell_type": "markdown",
   "id": "60f30db1",
   "metadata": {},
   "source": [
    "### `departments` data frame"
   ]
  },
  {
   "cell_type": "code",
   "execution_count": 18,
   "id": "fb410ad4-0fbf-4b80-bb09-23fdea79afe3",
   "metadata": {},
   "outputs": [
    {
     "name": "stdout",
     "output_type": "stream",
     "text": [
      "Total number duplicates : 0\n",
      "\n",
      "<class 'pandas.core.frame.DataFrame'>\n",
      "RangeIndex: 21 entries, 0 to 20\n",
      "Data columns (total 2 columns):\n",
      " #   Column         Non-Null Count  Dtype \n",
      "---  ------         --------------  ----- \n",
      " 0   department_id  21 non-null     int64 \n",
      " 1   department     21 non-null     object\n",
      "dtypes: int64(1), object(1)\n",
      "memory usage: 464.0+ bytes\n",
      "None\n",
      "\n",
      "   department_id department\n",
      "0              1     frozen\n",
      "1              2      other\n",
      "2              3     bakery\n",
      "3              4    produce\n",
      "4              5    alcohol\n"
     ]
    }
   ],
   "source": [
    "# Check for fullly duplicate rows\n",
    "print('Total number duplicates :',df_departments.duplicated().sum())\n",
    "print()\n",
    "print(df_departments.info())\n",
    "print()\n",
    "print(df_departments.head())"
   ]
  },
  {
   "cell_type": "code",
   "execution_count": 19,
   "id": "332b12bb",
   "metadata": {},
   "outputs": [
    {
     "name": "stdout",
     "output_type": "stream",
     "text": [
      "'department_id' number duplicates : 0\n",
      "\n",
      "'department' number duplicates : 0\n"
     ]
    }
   ],
   "source": [
    "print('\\'department_id\\' number duplicates :',df_departments['department_id'].duplicated().sum())\n",
    "print()\n",
    "print('\\'department\\' number duplicates :',df_departments['department'].str.lower().duplicated().sum())"
   ]
  },
  {
   "cell_type": "markdown",
   "id": "bd30d78e",
   "metadata": {},
   "source": [
    "21 row include on the dataframe, was testing for duplicated row the result show negative.\n",
    "also was testing by departament column the conclution no duplicate below these dataframe"
   ]
  },
  {
   "cell_type": "markdown",
   "id": "889349c1",
   "metadata": {},
   "source": [
    "### `aisles` data frame"
   ]
  },
  {
   "cell_type": "code",
   "execution_count": 20,
   "id": "9da89fb9-4679-40f5-ad0d-c34df753a3f8",
   "metadata": {},
   "outputs": [
    {
     "name": "stdout",
     "output_type": "stream",
     "text": [
      "Empty DataFrame\n",
      "Columns: [aisle_id, aisle]\n",
      "Index: []\n",
      "\n",
      "Total number duplicates : 0\n",
      "\n",
      "<class 'pandas.core.frame.DataFrame'>\n",
      "RangeIndex: 134 entries, 0 to 133\n",
      "Data columns (total 2 columns):\n",
      " #   Column    Non-Null Count  Dtype \n",
      "---  ------    --------------  ----- \n",
      " 0   aisle_id  134 non-null    int64 \n",
      " 1   aisle     134 non-null    object\n",
      "dtypes: int64(1), object(1)\n",
      "memory usage: 2.2+ KB\n",
      "None\n",
      "\n",
      "   aisle_id                       aisle\n",
      "0         1       prepared soups salads\n",
      "1         2           specialty cheeses\n",
      "2         3         energy granola bars\n",
      "3         4               instant foods\n",
      "4         5  marinades meat preparation\n"
     ]
    }
   ],
   "source": [
    "# Check for fullly duplicate rows\n",
    "print(df_aisles[df_aisles.duplicated()])\n",
    "print()\n",
    "print('Total number duplicates :',df_aisles.duplicated().sum())\n",
    "print()\n",
    "print(df_aisles.info())\n",
    "print()\n",
    "print(df_aisles.head())"
   ]
  },
  {
   "cell_type": "code",
   "execution_count": 21,
   "id": "da7c2822",
   "metadata": {},
   "outputs": [
    {
     "name": "stdout",
     "output_type": "stream",
     "text": [
      "'aisle_id' number duplicates : 0\n",
      "\n",
      "'aisle' number duplicates : 0\n"
     ]
    }
   ],
   "source": [
    "print('\\'aisle_id\\' number duplicates :',df_aisles['aisle_id'].duplicated().sum())\n",
    "print()\n",
    "print('\\'aisle\\' number duplicates :',df_aisles['aisle'].str.lower().duplicated().sum())"
   ]
  },
  {
   "cell_type": "markdown",
   "id": "ac63826f",
   "metadata": {},
   "source": [
    "<div class=\"alert alert-success\"; style=\"border-left: 7px solid green\">\n",
    "<b>✅ Reviewer's comment, v. 1</b> \n",
    "    \n",
    "OK, you are right there are no duplicates in both dataframes."
   ]
  },
  {
   "cell_type": "markdown",
   "id": "274cd06a",
   "metadata": {},
   "source": [
    "### `order_products` data frame"
   ]
  },
  {
   "cell_type": "code",
   "execution_count": 22,
   "id": "52326689-84a8-4b8f-a881-7c68780f62c9",
   "metadata": {},
   "outputs": [
    {
     "name": "stdout",
     "output_type": "stream",
     "text": [
      "Empty DataFrame\n",
      "Columns: [order_id, product_id, add_to_cart_order, reordered]\n",
      "Index: []\n",
      "\n",
      "Total number duplicates : 0\n",
      "\n",
      "<class 'pandas.core.frame.DataFrame'>\n",
      "RangeIndex: 4545007 entries, 0 to 4545006\n",
      "Data columns (total 4 columns):\n",
      " #   Column             Dtype  \n",
      "---  ------             -----  \n",
      " 0   order_id           int64  \n",
      " 1   product_id         int64  \n",
      " 2   add_to_cart_order  float64\n",
      " 3   reordered          int64  \n",
      "dtypes: float64(1), int64(3)\n",
      "memory usage: 138.7 MB\n",
      "None\n",
      "\n",
      "   order_id  product_id  add_to_cart_order  reordered\n",
      "0   2141543       11440               17.0          0\n",
      "1    567889        1560                1.0          1\n",
      "2   2261212       26683                1.0          1\n",
      "3    491251        8670               35.0          1\n",
      "4   2571142        1940                5.0          1\n"
     ]
    }
   ],
   "source": [
    "# Check for fullly duplicate rows\n",
    "print(df_order_products[df_order_products.duplicated()])\n",
    "print()\n",
    "print('Total number duplicates :',df_order_products.duplicated().sum())\n",
    "print()\n",
    "print(df_order_products.info())\n",
    "print()\n",
    "print(df_order_products.head())"
   ]
  },
  {
   "cell_type": "code",
   "execution_count": 23,
   "id": "7b861391",
   "metadata": {},
   "outputs": [
    {
     "name": "stdout",
     "output_type": "stream",
     "text": [
      "first 10 'Order_id' duplicates : ...\n",
      "61355      127\n",
      "3308010    115\n",
      "2136777    108\n",
      "171934     104\n",
      "1959075     98\n",
      "102236      95\n",
      "1730767     95\n",
      "1800005     92\n",
      "2926893     92\n",
      "1386261     91\n",
      "Name: order_id, dtype: int64\n",
      "first 10 'Product_id' duplicates :...\n",
      "24852    66050\n",
      "13176    53297\n",
      "21137    37039\n",
      "21903    33971\n",
      "47209    29773\n",
      "47766    24689\n",
      "47626    21495\n",
      "16797    20018\n",
      "26209    19690\n",
      "27845    19600\n",
      "Name: product_id, dtype: int64\n"
     ]
    }
   ],
   "source": [
    "# Double check for any other tricky duplicates\n",
    "print('first 10 \\'Order_id\\' duplicates : ...' )\n",
    "print(df_order_products['order_id'].value_counts().head(10))\n",
    "print('first 10 \\'Product_id\\' duplicates :...')\n",
    "print(df_order_products['product_id'].value_counts().head(10))"
   ]
  },
  {
   "cell_type": "code",
   "execution_count": 24,
   "id": "dc6d3fa2",
   "metadata": {},
   "outputs": [
    {
     "name": "stdout",
     "output_type": "stream",
     "text": [
      "0\n"
     ]
    }
   ],
   "source": [
    "print(df_order_products[['order_id', 'product_id']].duplicated().sum())"
   ]
  },
  {
   "cell_type": "markdown",
   "id": "0b890492",
   "metadata": {},
   "source": [
    "Order and Product dataframe indicate include all information regarding product was ordered and product number by order.\n",
    "duplicates test order_id and product_id indicate no duplicates, in order to add product_id value to order_id I multiplicated by 100000 to not make ariment addition just merge both values.\n"
   ]
  },
  {
   "cell_type": "markdown",
   "id": "1e46de76",
   "metadata": {},
   "source": [
    "## Find and remove missing values\n"
   ]
  },
  {
   "cell_type": "markdown",
   "id": "c0aebd78",
   "metadata": {},
   "source": [
    "### `products` data frame"
   ]
  },
  {
   "cell_type": "code",
   "execution_count": 25,
   "id": "fe4a8b0f",
   "metadata": {},
   "outputs": [
    {
     "name": "stdout",
     "output_type": "stream",
     "text": [
      "Total missing values : product_id          0\n",
      "product_name     1258\n",
      "aisle_id            0\n",
      "department_id       0\n",
      "dtype: int64\n"
     ]
    }
   ],
   "source": [
    "# Check for fullly Missing values rows\n",
    "print('Total missing values :',df_products.isna().sum())\n"
   ]
  },
  {
   "cell_type": "code",
   "execution_count": 26,
   "id": "e96167bc",
   "metadata": {},
   "outputs": [
    {
     "name": "stdout",
     "output_type": "stream",
     "text": [
      "Total missing values aisle ID 100 : product_id          0\n",
      "product_name     1258\n",
      "aisle_id            0\n",
      "department_id       0\n",
      "dtype: int64\n"
     ]
    }
   ],
   "source": [
    "# Are all of the missing product names associated with aisle ID 100?\n",
    "print('Total missing values aisle ID 100 :',df_products[df_products['aisle_id']==100].isna().sum())\n"
   ]
  },
  {
   "cell_type": "code",
   "execution_count": 27,
   "id": "8fd0a541",
   "metadata": {},
   "outputs": [
    {
     "name": "stdout",
     "output_type": "stream",
     "text": [
      "Total missing values department ID 21 : product_id       0.0\n",
      "product_name     0.0\n",
      "aisle_id         0.0\n",
      "department_id    0.0\n",
      "dtype: float64\n"
     ]
    }
   ],
   "source": [
    "# Are all of the missing product names associated with department ID 21?\n",
    "print('Total missing values department ID 21 :',df_products[df_products['department_id']==100].isna().sum())"
   ]
  },
  {
   "cell_type": "markdown",
   "id": "28ef27ff",
   "metadata": {},
   "source": [
    "<div class=\"alert alert-success\"; style=\"border-left: 7px solid green\">\n",
    "<b>✅ Reviewer's comment, v. 1</b> \n",
    "    \n",
    "You've performed excellent checks."
   ]
  },
  {
   "cell_type": "code",
   "execution_count": 28,
   "id": "325c3464",
   "metadata": {},
   "outputs": [
    {
     "data": {
      "text/html": [
       "<div>\n",
       "<style scoped>\n",
       "    .dataframe tbody tr th:only-of-type {\n",
       "        vertical-align: middle;\n",
       "    }\n",
       "\n",
       "    .dataframe tbody tr th {\n",
       "        vertical-align: top;\n",
       "    }\n",
       "\n",
       "    .dataframe thead th {\n",
       "        text-align: right;\n",
       "    }\n",
       "</style>\n",
       "<table border=\"1\" class=\"dataframe\">\n",
       "  <thead>\n",
       "    <tr style=\"text-align: right;\">\n",
       "      <th></th>\n",
       "      <th>product_id</th>\n",
       "      <th>product_name</th>\n",
       "      <th>aisle_id</th>\n",
       "      <th>department_id</th>\n",
       "      <th>aisle</th>\n",
       "      <th>department</th>\n",
       "    </tr>\n",
       "  </thead>\n",
       "  <tbody>\n",
       "    <tr>\n",
       "      <th>0</th>\n",
       "      <td>1</td>\n",
       "      <td>Chocolate Sandwich Cookies</td>\n",
       "      <td>61</td>\n",
       "      <td>19</td>\n",
       "      <td>cookies cakes</td>\n",
       "      <td>snacks</td>\n",
       "    </tr>\n",
       "    <tr>\n",
       "      <th>1</th>\n",
       "      <td>2</td>\n",
       "      <td>All-Seasons Salt</td>\n",
       "      <td>104</td>\n",
       "      <td>13</td>\n",
       "      <td>spices seasonings</td>\n",
       "      <td>pantry</td>\n",
       "    </tr>\n",
       "    <tr>\n",
       "      <th>2</th>\n",
       "      <td>3</td>\n",
       "      <td>Robust Golden Unsweetened Oolong Tea</td>\n",
       "      <td>94</td>\n",
       "      <td>7</td>\n",
       "      <td>tea</td>\n",
       "      <td>beverages</td>\n",
       "    </tr>\n",
       "    <tr>\n",
       "      <th>3</th>\n",
       "      <td>4</td>\n",
       "      <td>Smart Ones Classic Favorites Mini Rigatoni Wit...</td>\n",
       "      <td>38</td>\n",
       "      <td>1</td>\n",
       "      <td>frozen meals</td>\n",
       "      <td>frozen</td>\n",
       "    </tr>\n",
       "    <tr>\n",
       "      <th>4</th>\n",
       "      <td>5</td>\n",
       "      <td>Green Chile Anytime Sauce</td>\n",
       "      <td>5</td>\n",
       "      <td>13</td>\n",
       "      <td>marinades meat preparation</td>\n",
       "      <td>pantry</td>\n",
       "    </tr>\n",
       "    <tr>\n",
       "      <th>5</th>\n",
       "      <td>6</td>\n",
       "      <td>Dry Nose Oil</td>\n",
       "      <td>11</td>\n",
       "      <td>11</td>\n",
       "      <td>cold flu allergy</td>\n",
       "      <td>personal care</td>\n",
       "    </tr>\n",
       "    <tr>\n",
       "      <th>6</th>\n",
       "      <td>7</td>\n",
       "      <td>Pure Coconut Water With Orange</td>\n",
       "      <td>98</td>\n",
       "      <td>7</td>\n",
       "      <td>juice nectars</td>\n",
       "      <td>beverages</td>\n",
       "    </tr>\n",
       "    <tr>\n",
       "      <th>7</th>\n",
       "      <td>8</td>\n",
       "      <td>Cut Russet Potatoes Steam N' Mash</td>\n",
       "      <td>116</td>\n",
       "      <td>1</td>\n",
       "      <td>frozen produce</td>\n",
       "      <td>frozen</td>\n",
       "    </tr>\n",
       "    <tr>\n",
       "      <th>8</th>\n",
       "      <td>9</td>\n",
       "      <td>Light Strawberry Blueberry Yogurt</td>\n",
       "      <td>120</td>\n",
       "      <td>16</td>\n",
       "      <td>yogurt</td>\n",
       "      <td>dairy eggs</td>\n",
       "    </tr>\n",
       "    <tr>\n",
       "      <th>9</th>\n",
       "      <td>10</td>\n",
       "      <td>Sparkling Orange Juice &amp; Prickly Pear Beverage</td>\n",
       "      <td>115</td>\n",
       "      <td>7</td>\n",
       "      <td>water seltzer sparkling water</td>\n",
       "      <td>beverages</td>\n",
       "    </tr>\n",
       "  </tbody>\n",
       "</table>\n",
       "</div>"
      ],
      "text/plain": [
       "   product_id                                       product_name  aisle_id  \\\n",
       "0           1                         Chocolate Sandwich Cookies        61   \n",
       "1           2                                   All-Seasons Salt       104   \n",
       "2           3               Robust Golden Unsweetened Oolong Tea        94   \n",
       "3           4  Smart Ones Classic Favorites Mini Rigatoni Wit...        38   \n",
       "4           5                          Green Chile Anytime Sauce         5   \n",
       "5           6                                       Dry Nose Oil        11   \n",
       "6           7                     Pure Coconut Water With Orange        98   \n",
       "7           8                  Cut Russet Potatoes Steam N' Mash       116   \n",
       "8           9                  Light Strawberry Blueberry Yogurt       120   \n",
       "9          10     Sparkling Orange Juice & Prickly Pear Beverage       115   \n",
       "\n",
       "   department_id                          aisle     department  \n",
       "0             19                  cookies cakes         snacks  \n",
       "1             13              spices seasonings         pantry  \n",
       "2              7                            tea      beverages  \n",
       "3              1                   frozen meals         frozen  \n",
       "4             13     marinades meat preparation         pantry  \n",
       "5             11               cold flu allergy  personal care  \n",
       "6              7                  juice nectars      beverages  \n",
       "7              1                 frozen produce         frozen  \n",
       "8             16                         yogurt     dairy eggs  \n",
       "9              7  water seltzer sparkling water      beverages  "
      ]
     },
     "metadata": {},
     "output_type": "display_data"
    },
    {
     "data": {
      "text/html": [
       "<div>\n",
       "<style scoped>\n",
       "    .dataframe tbody tr th:only-of-type {\n",
       "        vertical-align: middle;\n",
       "    }\n",
       "\n",
       "    .dataframe tbody tr th {\n",
       "        vertical-align: top;\n",
       "    }\n",
       "\n",
       "    .dataframe thead th {\n",
       "        text-align: right;\n",
       "    }\n",
       "</style>\n",
       "<table border=\"1\" class=\"dataframe\">\n",
       "  <thead>\n",
       "    <tr style=\"text-align: right;\">\n",
       "      <th></th>\n",
       "      <th>product_name</th>\n",
       "      <th>aisle</th>\n",
       "      <th>department</th>\n",
       "    </tr>\n",
       "  </thead>\n",
       "  <tbody>\n",
       "    <tr>\n",
       "      <th>0</th>\n",
       "      <td>Chocolate Sandwich Cookies</td>\n",
       "      <td>cookies cakes</td>\n",
       "      <td>snacks</td>\n",
       "    </tr>\n",
       "    <tr>\n",
       "      <th>1</th>\n",
       "      <td>All-Seasons Salt</td>\n",
       "      <td>spices seasonings</td>\n",
       "      <td>pantry</td>\n",
       "    </tr>\n",
       "    <tr>\n",
       "      <th>2</th>\n",
       "      <td>Robust Golden Unsweetened Oolong Tea</td>\n",
       "      <td>tea</td>\n",
       "      <td>beverages</td>\n",
       "    </tr>\n",
       "    <tr>\n",
       "      <th>3</th>\n",
       "      <td>Smart Ones Classic Favorites Mini Rigatoni Wit...</td>\n",
       "      <td>frozen meals</td>\n",
       "      <td>frozen</td>\n",
       "    </tr>\n",
       "    <tr>\n",
       "      <th>4</th>\n",
       "      <td>Green Chile Anytime Sauce</td>\n",
       "      <td>marinades meat preparation</td>\n",
       "      <td>pantry</td>\n",
       "    </tr>\n",
       "    <tr>\n",
       "      <th>5</th>\n",
       "      <td>Dry Nose Oil</td>\n",
       "      <td>cold flu allergy</td>\n",
       "      <td>personal care</td>\n",
       "    </tr>\n",
       "    <tr>\n",
       "      <th>6</th>\n",
       "      <td>Pure Coconut Water With Orange</td>\n",
       "      <td>juice nectars</td>\n",
       "      <td>beverages</td>\n",
       "    </tr>\n",
       "    <tr>\n",
       "      <th>7</th>\n",
       "      <td>Cut Russet Potatoes Steam N' Mash</td>\n",
       "      <td>frozen produce</td>\n",
       "      <td>frozen</td>\n",
       "    </tr>\n",
       "    <tr>\n",
       "      <th>8</th>\n",
       "      <td>Light Strawberry Blueberry Yogurt</td>\n",
       "      <td>yogurt</td>\n",
       "      <td>dairy eggs</td>\n",
       "    </tr>\n",
       "    <tr>\n",
       "      <th>9</th>\n",
       "      <td>Sparkling Orange Juice &amp; Prickly Pear Beverage</td>\n",
       "      <td>water seltzer sparkling water</td>\n",
       "      <td>beverages</td>\n",
       "    </tr>\n",
       "    <tr>\n",
       "      <th>10</th>\n",
       "      <td>Peach Mango Juice</td>\n",
       "      <td>refrigerated</td>\n",
       "      <td>beverages</td>\n",
       "    </tr>\n",
       "    <tr>\n",
       "      <th>11</th>\n",
       "      <td>Chocolate Fudge Layer Cake</td>\n",
       "      <td>frozen dessert</td>\n",
       "      <td>frozen</td>\n",
       "    </tr>\n",
       "    <tr>\n",
       "      <th>12</th>\n",
       "      <td>Saline Nasal Mist</td>\n",
       "      <td>cold flu allergy</td>\n",
       "      <td>personal care</td>\n",
       "    </tr>\n",
       "    <tr>\n",
       "      <th>13</th>\n",
       "      <td>Fresh Scent Dishwasher Cleaner</td>\n",
       "      <td>dish detergents</td>\n",
       "      <td>household</td>\n",
       "    </tr>\n",
       "    <tr>\n",
       "      <th>14</th>\n",
       "      <td>Overnight Diapers Size 6</td>\n",
       "      <td>diapers wipes</td>\n",
       "      <td>babies</td>\n",
       "    </tr>\n",
       "    <tr>\n",
       "      <th>15</th>\n",
       "      <td>Mint Chocolate Flavored Syrup</td>\n",
       "      <td>ice cream toppings</td>\n",
       "      <td>snacks</td>\n",
       "    </tr>\n",
       "    <tr>\n",
       "      <th>16</th>\n",
       "      <td>Rendered Duck Fat</td>\n",
       "      <td>poultry counter</td>\n",
       "      <td>meat seafood</td>\n",
       "    </tr>\n",
       "    <tr>\n",
       "      <th>17</th>\n",
       "      <td>Pizza for One Suprema  Frozen Pizza</td>\n",
       "      <td>frozen pizza</td>\n",
       "      <td>frozen</td>\n",
       "    </tr>\n",
       "    <tr>\n",
       "      <th>18</th>\n",
       "      <td>Gluten Free Quinoa Three Cheese &amp; Mushroom Blend</td>\n",
       "      <td>grains rice dried goods</td>\n",
       "      <td>dry goods pasta</td>\n",
       "    </tr>\n",
       "    <tr>\n",
       "      <th>19</th>\n",
       "      <td>Pomegranate Cranberry &amp; Aloe Vera Enrich Drink</td>\n",
       "      <td>juice nectars</td>\n",
       "      <td>beverages</td>\n",
       "    </tr>\n",
       "  </tbody>\n",
       "</table>\n",
       "</div>"
      ],
      "text/plain": [
       "                                         product_name  \\\n",
       "0                          Chocolate Sandwich Cookies   \n",
       "1                                    All-Seasons Salt   \n",
       "2                Robust Golden Unsweetened Oolong Tea   \n",
       "3   Smart Ones Classic Favorites Mini Rigatoni Wit...   \n",
       "4                           Green Chile Anytime Sauce   \n",
       "5                                        Dry Nose Oil   \n",
       "6                      Pure Coconut Water With Orange   \n",
       "7                   Cut Russet Potatoes Steam N' Mash   \n",
       "8                   Light Strawberry Blueberry Yogurt   \n",
       "9      Sparkling Orange Juice & Prickly Pear Beverage   \n",
       "10                                  Peach Mango Juice   \n",
       "11                         Chocolate Fudge Layer Cake   \n",
       "12                                  Saline Nasal Mist   \n",
       "13                     Fresh Scent Dishwasher Cleaner   \n",
       "14                           Overnight Diapers Size 6   \n",
       "15                      Mint Chocolate Flavored Syrup   \n",
       "16                                  Rendered Duck Fat   \n",
       "17                Pizza for One Suprema  Frozen Pizza   \n",
       "18   Gluten Free Quinoa Three Cheese & Mushroom Blend   \n",
       "19     Pomegranate Cranberry & Aloe Vera Enrich Drink   \n",
       "\n",
       "                            aisle       department  \n",
       "0                   cookies cakes           snacks  \n",
       "1               spices seasonings           pantry  \n",
       "2                             tea        beverages  \n",
       "3                    frozen meals           frozen  \n",
       "4      marinades meat preparation           pantry  \n",
       "5                cold flu allergy    personal care  \n",
       "6                   juice nectars        beverages  \n",
       "7                  frozen produce           frozen  \n",
       "8                          yogurt       dairy eggs  \n",
       "9   water seltzer sparkling water        beverages  \n",
       "10                   refrigerated        beverages  \n",
       "11                 frozen dessert           frozen  \n",
       "12               cold flu allergy    personal care  \n",
       "13                dish detergents        household  \n",
       "14                  diapers wipes           babies  \n",
       "15             ice cream toppings           snacks  \n",
       "16                poultry counter     meat seafood  \n",
       "17                   frozen pizza           frozen  \n",
       "18        grains rice dried goods  dry goods pasta  \n",
       "19                  juice nectars        beverages  "
      ]
     },
     "metadata": {},
     "output_type": "display_data"
    }
   ],
   "source": [
    "# What is this ailse and department?\n",
    "# those are integer data type those values associate with others dataframe \n",
    "\n",
    "aisle_depar = df_products.merge(df_aisles, on='aisle_id', how='left')\n",
    "aisle_depar = aisle_depar.merge(df_departments, on='department_id', how='left')\n",
    "\n",
    "\n",
    "display(aisle_depar[:10])\n",
    "\n",
    "display(aisle_depar[:20].drop(['product_id','aisle_id', 'department_id'], axis='columns'))"
   ]
  },
  {
   "cell_type": "code",
   "execution_count": 29,
   "id": "8908630b",
   "metadata": {},
   "outputs": [
    {
     "data": {
      "text/html": [
       "<div>\n",
       "<style scoped>\n",
       "    .dataframe tbody tr th:only-of-type {\n",
       "        vertical-align: middle;\n",
       "    }\n",
       "\n",
       "    .dataframe tbody tr th {\n",
       "        vertical-align: top;\n",
       "    }\n",
       "\n",
       "    .dataframe thead th {\n",
       "        text-align: right;\n",
       "    }\n",
       "</style>\n",
       "<table border=\"1\" class=\"dataframe\">\n",
       "  <thead>\n",
       "    <tr style=\"text-align: right;\">\n",
       "      <th></th>\n",
       "      <th>department_id</th>\n",
       "      <th>department</th>\n",
       "    </tr>\n",
       "  </thead>\n",
       "  <tbody>\n",
       "    <tr>\n",
       "      <th>20</th>\n",
       "      <td>21</td>\n",
       "      <td>missing</td>\n",
       "    </tr>\n",
       "  </tbody>\n",
       "</table>\n",
       "</div>"
      ],
      "text/plain": [
       "    department_id department\n",
       "20             21    missing"
      ]
     },
     "metadata": {},
     "output_type": "display_data"
    }
   ],
   "source": [
    "#To display the name of department 21 you can do the following:\n",
    "#df_departments[df_departments['department_id'] == 21]\n",
    "\n",
    "display(df_departments[df_departments['department_id'] == 21])"
   ]
  },
  {
   "cell_type": "code",
   "execution_count": 30,
   "id": "d4f4f776",
   "metadata": {},
   "outputs": [
    {
     "data": {
      "text/html": [
       "<div>\n",
       "<style scoped>\n",
       "    .dataframe tbody tr th:only-of-type {\n",
       "        vertical-align: middle;\n",
       "    }\n",
       "\n",
       "    .dataframe tbody tr th {\n",
       "        vertical-align: top;\n",
       "    }\n",
       "\n",
       "    .dataframe thead th {\n",
       "        text-align: right;\n",
       "    }\n",
       "</style>\n",
       "<table border=\"1\" class=\"dataframe\">\n",
       "  <thead>\n",
       "    <tr style=\"text-align: right;\">\n",
       "      <th></th>\n",
       "      <th>aisle_id</th>\n",
       "      <th>aisle</th>\n",
       "    </tr>\n",
       "  </thead>\n",
       "  <tbody>\n",
       "    <tr>\n",
       "      <th>99</th>\n",
       "      <td>100</td>\n",
       "      <td>missing</td>\n",
       "    </tr>\n",
       "  </tbody>\n",
       "</table>\n",
       "</div>"
      ],
      "text/plain": [
       "    aisle_id    aisle\n",
       "99       100  missing"
      ]
     },
     "metadata": {},
     "output_type": "display_data"
    }
   ],
   "source": [
    "# Could you please use a similar approach to get the name of aisle with ID 100?\n",
    "display(df_aisles[df_aisles['aisle_id'] == 100])"
   ]
  },
  {
   "cell_type": "code",
   "execution_count": 31,
   "id": "6b295120",
   "metadata": {},
   "outputs": [
    {
     "name": "stdout",
     "output_type": "stream",
     "text": [
      "<class 'pandas.core.frame.DataFrame'>\n",
      "RangeIndex: 49694 entries, 0 to 49693\n",
      "Data columns (total 4 columns):\n",
      " #   Column         Non-Null Count  Dtype \n",
      "---  ------         --------------  ----- \n",
      " 0   product_id     49694 non-null  int64 \n",
      " 1   product_name   49694 non-null  object\n",
      " 2   aisle_id       49694 non-null  int64 \n",
      " 3   department_id  49694 non-null  int64 \n",
      "dtypes: int64(3), object(1)\n",
      "memory usage: 1.5+ MB\n",
      "None\n"
     ]
    }
   ],
   "source": [
    "# Fill missing product names with 'Unknown'\n",
    "df_products = df_products.fillna('Unknown') \n",
    "print(df_products.info())"
   ]
  },
  {
   "cell_type": "markdown",
   "id": "4d709c54",
   "metadata": {},
   "source": [
    "Identifying missing values helps to preprocess the dataset, to avoid wrong calculation, or wrong match information.\n",
    "\n",
    "Cross information between dataframe help to complete information, rather than keep a single table to help manage independent the dataset.\n",
    "\n",
    "Cross information between dataframe help to complete information, rather than keep a single table to help manage independent the dataset.\n",
    "In order to get the product, the aisle and department dataset together will create a copy to keep the product table without any planning edition. Then used consecutive merge after that drop the no necessary columns.\n",
    "\n",
    "We checked the dataframe for the missing values, and found out that 1258 product names were missing. We investigated that all of them were associated with the same department (21) and aisle (100). So we checked what are the department and the aisle and discovered that they names of those department are 'Missing'."
   ]
  },
  {
   "cell_type": "markdown",
   "id": "7eb45c86",
   "metadata": {},
   "source": [
    "### `orders` data frame"
   ]
  },
  {
   "cell_type": "code",
   "execution_count": 32,
   "id": "93e41d96",
   "metadata": {},
   "outputs": [
    {
     "name": "stdout",
     "output_type": "stream",
     "text": [
      "Missing values :\n",
      " order_id                      0\n",
      "user_id                       0\n",
      "order_number                  0\n",
      "order_dow                     0\n",
      "order_hour_of_day             0\n",
      "days_since_prior_order    28817\n",
      "dtype: int64\n",
      "information of dataframe ...\n",
      "<class 'pandas.core.frame.DataFrame'>\n",
      "Int64Index: 478952 entries, 0 to 478966\n",
      "Data columns (total 6 columns):\n",
      " #   Column                  Non-Null Count   Dtype  \n",
      "---  ------                  --------------   -----  \n",
      " 0   order_id                478952 non-null  int64  \n",
      " 1   user_id                 478952 non-null  int64  \n",
      " 2   order_number            478952 non-null  int64  \n",
      " 3   order_dow               478952 non-null  int64  \n",
      " 4   order_hour_of_day       478952 non-null  int64  \n",
      " 5   days_since_prior_order  450135 non-null  float64\n",
      "dtypes: float64(1), int64(5)\n",
      "memory usage: 25.6 MB\n",
      "None\n"
     ]
    }
   ],
   "source": [
    "# Check for fullly Missing values rows\n",
    "print('Missing values :\\n',df_orders.isna().sum())\n",
    "print('information of dataframe ...')\n",
    "print(df_orders.info())"
   ]
  },
  {
   "cell_type": "code",
   "execution_count": 33,
   "id": "166e5a86",
   "metadata": {},
   "outputs": [
    {
     "name": "stdout",
     "output_type": "stream",
     "text": [
      "order_id                      0\n",
      "user_id                       0\n",
      "order_number                  0\n",
      "order_dow                     0\n",
      "order_hour_of_day             0\n",
      "days_since_prior_order    28817\n",
      "dtype: int64\n"
     ]
    }
   ],
   "source": [
    "# Are there any missing values where it's not a customer's first order?\n",
    "print(df_orders[df_orders['order_number'] == 1].isna().sum())"
   ]
  },
  {
   "cell_type": "markdown",
   "id": "4e23d089",
   "metadata": {},
   "source": [
    "Instacart order dataframe are missing values below customer placed their previous order when did the first order."
   ]
  },
  {
   "cell_type": "markdown",
   "id": "6895b946",
   "metadata": {},
   "source": [
    "<div class=\"alert alert-success\"; style=\"border-left: 7px solid green\">\n",
    "<b>✅ Reviewer's comment, v. 1</b> \n",
    "    \n",
    "Yes, you are right, all the missing values are associated with the first customer order, which is valid.\n",
    "    "
   ]
  },
  {
   "cell_type": "markdown",
   "id": "69dc9ca4",
   "metadata": {},
   "source": [
    "### `order_products` data frame"
   ]
  },
  {
   "cell_type": "code",
   "execution_count": 34,
   "id": "b8240253",
   "metadata": {},
   "outputs": [
    {
     "name": "stdout",
     "output_type": "stream",
     "text": [
      "Total missing values : \n",
      " order_id               0\n",
      "product_id             0\n",
      "add_to_cart_order    836\n",
      "reordered              0\n",
      "dtype: int64\n"
     ]
    }
   ],
   "source": [
    "# Check for fullly Missing values rows\n",
    "print('Total missing values : \\n',df_order_products.isna().sum())"
   ]
  },
  {
   "cell_type": "code",
   "execution_count": 35,
   "id": "9a78e5ee",
   "metadata": {},
   "outputs": [
    {
     "name": "stdout",
     "output_type": "stream",
     "text": [
      "                   Min        Max\n",
      "order_id           4.0  3421079.0\n",
      "product_id         1.0    49694.0\n",
      "add_to_cart_order  1.0       64.0\n",
      "reordered          0.0        1.0\n"
     ]
    }
   ],
   "source": [
    "# What are the min and max values in this column?\n",
    "\n",
    "#print([df_order_products.min(),df_order_products.max()])\n",
    "print(pd.concat([df_order_products.min(),df_order_products.max()],axis=1, keys=['Min','Max']))\n"
   ]
  },
  {
   "cell_type": "code",
   "execution_count": 36,
   "id": "918678f5",
   "metadata": {},
   "outputs": [
    {
     "name": "stdout",
     "output_type": "stream",
     "text": [
      "Minimum value for product_id : 1 \n",
      "Maximum value for product_id : 49694\n",
      "Minimum value for add_to_cart_order : 1.0 \n",
      "Maximum value for add_to_cart_order : 64.0\n"
     ]
    }
   ],
   "source": [
    "#print(pd.concat([df_order_products['add_to_cart_order'].min(),df_order_products['add_to_cart_order'].max()], axis=1, keys=['Min','Max']))\n",
    "print('Minimum value for product_id :',df_order_products['product_id'].min(),'\\nMaximum value for product_id :',df_order_products['product_id'].max())\n",
    "print('Minimum value for add_to_cart_order :',df_order_products['add_to_cart_order'].min(),'\\nMaximum value for add_to_cart_order :',df_order_products['add_to_cart_order'].max())"
   ]
  },
  {
   "cell_type": "code",
   "execution_count": 37,
   "id": "ab9d0c2b",
   "metadata": {},
   "outputs": [
    {
     "name": "stdout",
     "output_type": "stream",
     "text": [
      "737      2449164\n",
      "9926     1968313\n",
      "14394    2926893\n",
      "16418    1717990\n",
      "30114    1959075\n",
      "Name: order_id, dtype: int64\n"
     ]
    }
   ],
   "source": [
    "# Save all order IDs with at least one missing value in 'add_to_cart_order'\n",
    "one_missing = df_order_products[df_order_products['add_to_cart_order'].isna()]['order_id']\n",
    "print(one_missing.head())\n"
   ]
  },
  {
   "cell_type": "code",
   "execution_count": 38,
   "id": "54c31695",
   "metadata": {},
   "outputs": [
    {
     "name": "stdout",
     "output_type": "stream",
     "text": [
      "Empty DataFrame\n",
      "Columns: [order_id, product_id, add_to_cart_order, reordered]\n",
      "Index: []\n"
     ]
    }
   ],
   "source": [
    "# Do all orders with missing values have more than 64 products?\n",
    "more64 = df_order_products[(df_order_products['add_to_cart_order'] > 64) & (df_order_products['add_to_cart_order'].isna())]\n",
    "print(more64)"
   ]
  },
  {
   "cell_type": "code",
   "execution_count": 39,
   "id": "151577aa",
   "metadata": {},
   "outputs": [
    {
     "name": "stdout",
     "output_type": "stream",
     "text": [
      "737        2449164\n",
      "9926       1968313\n",
      "14394      2926893\n",
      "16418      1717990\n",
      "30114      1959075\n",
      "            ...   \n",
      "4505662    1800005\n",
      "4511400    1633337\n",
      "4517562     404157\n",
      "4534112    1673227\n",
      "4535739    1832957\n",
      "Name: order_id, Length: 836, dtype: int64\n"
     ]
    },
    {
     "data": {
      "text/html": [
       "<div>\n",
       "<style scoped>\n",
       "    .dataframe tbody tr th:only-of-type {\n",
       "        vertical-align: middle;\n",
       "    }\n",
       "\n",
       "    .dataframe tbody tr th {\n",
       "        vertical-align: top;\n",
       "    }\n",
       "\n",
       "    .dataframe thead th {\n",
       "        text-align: right;\n",
       "    }\n",
       "</style>\n",
       "<table border=\"1\" class=\"dataframe\">\n",
       "  <thead>\n",
       "    <tr style=\"text-align: right;\">\n",
       "      <th></th>\n",
       "      <th>order_id</th>\n",
       "      <th>product_id</th>\n",
       "      <th>add_to_cart_order</th>\n",
       "      <th>reordered</th>\n",
       "    </tr>\n",
       "  </thead>\n",
       "  <tbody>\n",
       "    <tr>\n",
       "      <th>737</th>\n",
       "      <td>2449164</td>\n",
       "      <td>5068</td>\n",
       "      <td>NaN</td>\n",
       "      <td>0</td>\n",
       "    </tr>\n",
       "    <tr>\n",
       "      <th>9926</th>\n",
       "      <td>1968313</td>\n",
       "      <td>43867</td>\n",
       "      <td>NaN</td>\n",
       "      <td>0</td>\n",
       "    </tr>\n",
       "    <tr>\n",
       "      <th>14394</th>\n",
       "      <td>2926893</td>\n",
       "      <td>11688</td>\n",
       "      <td>NaN</td>\n",
       "      <td>0</td>\n",
       "    </tr>\n",
       "    <tr>\n",
       "      <th>16418</th>\n",
       "      <td>1717990</td>\n",
       "      <td>4142</td>\n",
       "      <td>NaN</td>\n",
       "      <td>0</td>\n",
       "    </tr>\n",
       "    <tr>\n",
       "      <th>30114</th>\n",
       "      <td>1959075</td>\n",
       "      <td>42828</td>\n",
       "      <td>NaN</td>\n",
       "      <td>1</td>\n",
       "    </tr>\n",
       "  </tbody>\n",
       "</table>\n",
       "</div>"
      ],
      "text/plain": [
       "       order_id  product_id  add_to_cart_order  reordered\n",
       "737     2449164        5068                NaN          0\n",
       "9926    1968313       43867                NaN          0\n",
       "14394   2926893       11688                NaN          0\n",
       "16418   1717990        4142                NaN          0\n",
       "30114   1959075       42828                NaN          1"
      ]
     },
     "metadata": {},
     "output_type": "display_data"
    }
   ],
   "source": [
    "#Save the IDs of the orders with missing 'add_to_cart_order' to a list.\n",
    "print(df_order_products[df_order_products['add_to_cart_order'].isna()]['order_id'])\n",
    "df_order_missing2 = df_order_products[df_order_products['add_to_cart_order'].isna()]\n",
    "display(df_order_missing2[:5])"
   ]
  },
  {
   "cell_type": "code",
   "execution_count": 40,
   "id": "ae1c0850",
   "metadata": {},
   "outputs": [
    {
     "name": "stdout",
     "output_type": "stream",
     "text": [
      "order_id\n",
      "9310        1\n",
      "747668      1\n",
      "1598369     1\n",
      "1677118     1\n",
      "2170451     1\n",
      "           ..\n",
      "1959075    34\n",
      "171934     40\n",
      "2136777    44\n",
      "3308010    51\n",
      "61355      63\n",
      "Length: 70, dtype: int64\n"
     ]
    }
   ],
   "source": [
    "print(df_order_missing2.groupby('order_id').size().sort_values())"
   ]
  },
  {
   "cell_type": "code",
   "execution_count": 41,
   "id": "fb2ce280",
   "metadata": {},
   "outputs": [
    {
     "name": "stdout",
     "output_type": "stream",
     "text": [
      "order_id\n",
      "9310        65\n",
      "747668      65\n",
      "1598369     65\n",
      "1677118     65\n",
      "2170451     65\n",
      "          ... \n",
      "1959075     98\n",
      "171934     104\n",
      "2136777    108\n",
      "3308010    115\n",
      "61355      127\n",
      "Length: 70, dtype: int64\n"
     ]
    }
   ],
   "source": [
    "#Added by the reviewer \n",
    "\n",
    "# 1.  Save the IDs of the orders with missing add_to_cart_order to a list.\n",
    "missing_order_ids = df_order_products[df_order_products['add_to_cart_order'].isna()]['order_id']\n",
    "\n",
    "# 2. select all the rows attributed to the orders\n",
    "missing_orders_full = df_order_products[df_order_products['order_id'].isin(missing_order_ids)]\n",
    "\n",
    "# 3. Group this new dataframe by order ID and check sizes of those groups - to find the minimum size.\n",
    "print(missing_orders_full.groupby('order_id').size().sort_values())\n"
   ]
  },
  {
   "cell_type": "code",
   "execution_count": 42,
   "id": "7a987d08",
   "metadata": {},
   "outputs": [
    {
     "name": "stdout",
     "output_type": "stream",
     "text": [
      "<class 'pandas.core.frame.DataFrame'>\n",
      "RangeIndex: 4545007 entries, 0 to 4545006\n",
      "Data columns (total 4 columns):\n",
      " #   Column             Dtype  \n",
      "---  ------             -----  \n",
      " 0   order_id           int64  \n",
      " 1   product_id         int64  \n",
      " 2   add_to_cart_order  float64\n",
      " 3   reordered          int64  \n",
      "dtypes: float64(1), int64(3)\n",
      "memory usage: 138.7 MB\n",
      "<class 'pandas.core.frame.DataFrame'>\n",
      "RangeIndex: 4545007 entries, 0 to 4545006\n",
      "Data columns (total 4 columns):\n",
      " #   Column             Dtype\n",
      "---  ------             -----\n",
      " 0   order_id           int64\n",
      " 1   product_id         int64\n",
      " 2   add_to_cart_order  int64\n",
      " 3   reordered          int64\n",
      "dtypes: int64(4)\n",
      "memory usage: 138.7 MB\n"
     ]
    }
   ],
   "source": [
    "# Replace missing values with 999 and convert column to integer type\n",
    "df_order_products.info()\n",
    "df_order_products['add_to_cart_order'] = df_order_products['add_to_cart_order'].fillna(999).astype('int')\n",
    "df_order_products.info()"
   ]
  },
  {
   "cell_type": "markdown",
   "id": "fea4bcc7",
   "metadata": {},
   "source": [
    "The Order_product dataset indicated missing values on ‘add_to_cart_order’ values (836)\n",
    "On the display values minimum and maximum indicate maximum products added in the car is 64.\n",
    "\n",
    "\n",
    "No possible to do all order with more than 64 products\n",
    "\n",
    "\n",
    "I used the astype() method to convert to integer column\n"
   ]
  },
  {
   "cell_type": "markdown",
   "id": "turkish-kidney",
   "metadata": {},
   "source": [
    "# [A] Easy (must complete all to pass)"
   ]
  },
  {
   "cell_type": "code",
   "execution_count": 43,
   "id": "6935e4d6",
   "metadata": {},
   "outputs": [],
   "source": [
    "\n",
    "# import matplotlib.pyplot as plt\n",
    "# move to beginning after v.1"
   ]
  },
  {
   "cell_type": "markdown",
   "id": "short-capability",
   "metadata": {},
   "source": [
    "### [A1] Verify that the `'order_hour_of_day'` and `'order_dow'` values in the `orders` tables are sensible (i.e. `'order_hour_of_day'` ranges from 0 to 23 and `'order_dow'` ranges from 0 to 6)"
   ]
  },
  {
   "cell_type": "code",
   "execution_count": 44,
   "id": "growing-fruit",
   "metadata": {},
   "outputs": [
    {
     "name": "stdout",
     "output_type": "stream",
     "text": [
      "order_hour_of_day\n",
      "0      3180\n",
      "1      1763\n",
      "2       989\n",
      "3       770\n",
      "4       765\n",
      "5      1371\n",
      "6      4215\n",
      "7     13043\n",
      "8     25024\n",
      "9     35896\n",
      "10    40578\n",
      "11    40032\n",
      "12    38034\n",
      "13    39007\n",
      "14    39631\n",
      "15    39789\n",
      "16    38112\n",
      "17    31930\n",
      "18    25510\n",
      "19    19547\n",
      "20    14624\n",
      "21    11019\n",
      "22     8512\n",
      "23     5611\n",
      "Name: order_hour_of_day, dtype: int64\n"
     ]
    }
   ],
   "source": [
    "print(df_orders.groupby('order_hour_of_day')['order_hour_of_day'].count())"
   ]
  },
  {
   "cell_type": "code",
   "execution_count": 45,
   "id": "accessory-malaysia",
   "metadata": {},
   "outputs": [
    {
     "name": "stdout",
     "output_type": "stream",
     "text": [
      "order_dow\n",
      "0    84090\n",
      "1    82185\n",
      "2    65833\n",
      "3    60897\n",
      "4    59810\n",
      "5    63488\n",
      "6    62649\n",
      "Name: order_dow, dtype: int64\n"
     ]
    }
   ],
   "source": [
    "print(df_orders.groupby('order_dow')['order_dow'].count())"
   ]
  },
  {
   "cell_type": "markdown",
   "id": "607426f6",
   "metadata": {},
   "source": [
    "The Column ‘order_hour_of_day’ is recorded when the client summit the order, this record could help to complete the task by grouping and counting the number record for each group.\n",
    "\n",
    "The column ‘order_dow’ records the day of the week from 0 to 6 it is recorded similar to ‘order_hour_of_day’ however we could use the same method to find the number order by day.\n"
   ]
  },
  {
   "cell_type": "markdown",
   "id": "a6743a70",
   "metadata": {},
   "source": [
    "### [A2] What time of day do people shop for groceries?"
   ]
  },
  {
   "cell_type": "code",
   "execution_count": 46,
   "id": "a36cca27",
   "metadata": {},
   "outputs": [
    {
     "data": {
      "image/png": "[encoded data removed]",
      "text/plain": [
       "<Figure size 720x288 with 1 Axes>"
      ]
     },
     "metadata": {
      "needs_background": "light"
     },
     "output_type": "display_data"
    }
   ],
   "source": [
    "# Create a plot that shows how many people place orders for each hour of the day.\n",
    "\n",
    "hoursbyuser = df_orders.groupby('order_hour_of_day')['order_hour_of_day'].count()\n",
    "hoursbyuser.plot(x=hoursbyuser, kind='bar', title='Orders by Hours',\n",
    "               xlabel='Day hours', ylabel='Number of Orders',rot=0, figsize=(10,4)\n",
    "                )\n",
    "\n",
    "plt.show()"
   ]
  },
  {
   "cell_type": "markdown",
   "id": "11270eed",
   "metadata": {},
   "source": [
    "The chart ‘Orders by hours’ indicate that between 9am to 16 hours ar highest orders about 7 timer more compared with lowes time "
   ]
  },
  {
   "cell_type": "markdown",
   "id": "52eef42f",
   "metadata": {},
   "source": [
    "<div class=\"alert alert-success\"; style=\"border-left: 7px solid green\">\n",
    "<b>✅ Reviewer's comment, v. 1</b> \n",
    "    \n",
    "You plotted a flawless chart and your explanation is correct."
   ]
  },
  {
   "cell_type": "markdown",
   "id": "documented-command",
   "metadata": {},
   "source": [
    "### [A3] What day of the week do people shop for groceries?"
   ]
  },
  {
   "cell_type": "code",
   "execution_count": 47,
   "id": "chief-digit",
   "metadata": {},
   "outputs": [
    {
     "data": {
      "image/png": "[encoded data removed]",
      "text/plain": [
       "<Figure size 720x288 with 1 Axes>"
      ]
     },
     "metadata": {
      "needs_background": "light"
     },
     "output_type": "display_data"
    }
   ],
   "source": [
    "# Create a plot that shows what day of the week people shop for groceries.\n",
    "weekbay = df_orders.groupby('order_dow')['order_dow'].count()\n",
    "ax = weekbay.plot(x=weekbay, kind='bar', title='Orders by Hours',\n",
    "               xlabel='Week days', ylabel='Number of Orders',rot=0, figsize=(10,4)\n",
    "                )\n",
    "ax.set_xticklabels(['Sunday','Monday', 'Tuesday','Wednesday', 'Thursday','Friday','Saturday'])\n",
    "\n",
    "plt.show()"
   ]
  },
  {
   "cell_type": "markdown",
   "id": "dominant-lightning",
   "metadata": {},
   "source": [
    "The bar chart indicates that sunday and monday are the highest orders however do not show big differences between days."
   ]
  },
  {
   "cell_type": "markdown",
   "id": "9e176827",
   "metadata": {},
   "source": [
    "<div class=\"alert alert-success\"; style=\"border-left: 7px solid green\">\n",
    "<b>✅ Reviewer's comment, v. 1</b> \n",
    "    \n",
    "You are absolutely right."
   ]
  },
  {
   "cell_type": "markdown",
   "id": "cutting-concert",
   "metadata": {},
   "source": [
    "### [A4] How long do people wait until placing another order?"
   ]
  },
  {
   "cell_type": "code",
   "execution_count": 48,
   "id": "c231f523",
   "metadata": {},
   "outputs": [
    {
     "data": {
      "image/png": "[encoded data removed]",
      "text/plain": [
       "<Figure size 720x288 with 1 Axes>"
      ]
     },
     "metadata": {
      "needs_background": "light"
     },
     "output_type": "display_data"
    }
   ],
   "source": [
    "# Create a plot that shows how long people wait until placing their next order, \n",
    "#  and comment on the minimum and maximum values.\n",
    "waitingdays = df_orders.groupby('days_since_prior_order')['days_since_prior_order'].count()\n",
    "waitingdays.plot(x=waitingdays, kind='bar', title='Orders by Hours',\n",
    "               xlabel='Waiting days', ylabel='Number of Orders',rot=45, figsize=(10,4)\n",
    "                )\n",
    "plt.show()"
   ]
  },
  {
   "cell_type": "markdown",
   "id": "discrete-vertex",
   "metadata": {},
   "source": [
    "On the chart 6 and 7 waiting days, this indicates the mayer client orders weekly however a bigger number who order ones a month or more are more."
   ]
  },
  {
   "cell_type": "markdown",
   "id": "0c83c1e2",
   "metadata": {},
   "source": [
    "<div class=\"alert alert-success\"; style=\"border-left: 7px solid green\">\n",
    "<b>✅ Reviewer's comment, v. 1</b> \n",
    "    \n",
    "Indeed."
   ]
  },
  {
   "cell_type": "markdown",
   "id": "8d926614",
   "metadata": {},
   "source": []
  },
  {
   "cell_type": "markdown",
   "id": "tight-staff",
   "metadata": {},
   "source": [
    "# [B] Medium (must complete all to pass)"
   ]
  },
  {
   "cell_type": "markdown",
   "id": "packed-classic",
   "metadata": {},
   "source": [
    "### [B1] Is there a difference in `'order_hour_of_day'` distributions on Wednesdays and Saturdays? Plot the histograms for both days and describe the differences that you see."
   ]
  },
  {
   "cell_type": "code",
   "execution_count": 49,
   "id": "d89b8403",
   "metadata": {},
   "outputs": [
    {
     "data": {
      "image/png": "[encoded data removed]",
      "text/plain": [
       "<Figure size 720x360 with 1 Axes>"
      ]
     },
     "metadata": {
      "needs_background": "light"
     },
     "output_type": "display_data"
    }
   ],
   "source": [
    "df_orders[df_orders['order_dow'] == 3]['order_hour_of_day'].plot(kind='hist',bins=22, figsize=(10,5),\n",
    "               title='Orders by Hours')\n",
    "df_orders[df_orders['order_dow'] == 6]['order_hour_of_day'].plot(kind='hist',bins=22, alpha=0.6)\n",
    "\n",
    "plt.legend(['Wednesday', 'Saturday'])\n",
    "plt.show()"
   ]
  },
  {
   "cell_type": "markdown",
   "id": "charitable-congo",
   "metadata": {},
   "source": [
    "The column ‘order_dow’ from orders data was recording the week day, from 0 to 6, Wednesday is value 3 and Saturday value 6.\n",
    "Filter the data and take the ‘order_hour_of_day’ then display histogram to compare the values.\n",
    "The histogram indicates similarity between both days in a mount order by hours. Very close correlation.\n"
   ]
  },
  {
   "cell_type": "markdown",
   "id": "e90e67a9",
   "metadata": {},
   "source": [
    "<div class=\"alert alert-success\"; style=\"border-left: 7px solid green\">\n",
    "<b>✅ Reviewer's comment, v. 1</b> \n",
    "    \n",
    "All perfect - you draw a chart that clearly answers the question and provided good interpretation of it."
   ]
  },
  {
   "cell_type": "markdown",
   "id": "e3891143",
   "metadata": {},
   "source": [
    "### [B2] What's the distribution for the number of orders per customer?"
   ]
  },
  {
   "cell_type": "code",
   "execution_count": 50,
   "id": "d8c26c23",
   "metadata": {},
   "outputs": [
    {
     "data": {
      "image/png": "[encoded data removed]",
      "text/plain": [
       "<Figure size 720x288 with 1 Axes>"
      ]
     },
     "metadata": {
      "needs_background": "light"
     },
     "output_type": "display_data"
    }
   ],
   "source": [
    "# Plot the distribution for the number of orders that customers place \n",
    "# (e.g. how many customers placed only 1 order, how many placed only 2, how many only 3, and so on…)\n",
    "\n",
    "number_of_orders = df_orders.groupby('user_id')['order_number'].count()\n",
    "number_of_orders.plot(kind='hist',bins=20, title='Orders Place by custtomers',\n",
    "               rot=45, figsize=(10,4)\n",
    "                )\n",
    "\n",
    "plt.show()  # add after review v.1"
   ]
  },
  {
   "cell_type": "code",
   "execution_count": 51,
   "id": "00e69a66",
   "metadata": {},
   "outputs": [
    {
     "name": "stdout",
     "output_type": "stream",
     "text": [
      "count    157437.000000\n",
      "mean          3.042182\n",
      "std           2.746842\n",
      "min           1.000000\n",
      "25%           1.000000\n",
      "50%           2.000000\n",
      "75%           4.000000\n",
      "max          28.000000\n",
      "Name: order_number, dtype: float64\n"
     ]
    }
   ],
   "source": [
    "# Statistic information\n",
    "print(number_of_orders.describe())"
   ]
  },
  {
   "cell_type": "markdown",
   "id": "d2eff7d5",
   "metadata": {},
   "source": [
    "From 1 to 5 orders were placed for more than 1000 clients."
   ]
  },
  {
   "cell_type": "markdown",
   "id": "29749c6a",
   "metadata": {},
   "source": [
    "<div class=\"alert alert-success\"; style=\"border-left: 7px solid green\">\n",
    "<b>✅ Reviewer's comment, v. 1</b> \n",
    "    \n",
    "Yes, you are right."
   ]
  },
  {
   "cell_type": "markdown",
   "id": "54a0319c",
   "metadata": {},
   "source": [
    "### [B3] What are the top 20 popular products (display their id and name)?"
   ]
  },
  {
   "cell_type": "code",
   "execution_count": 52,
   "id": "universal-facial",
   "metadata": {},
   "outputs": [
    {
     "name": "stdout",
     "output_type": "stream",
     "text": [
      "product_id  product_name            \n",
      "24852       Banana                      66050\n",
      "13176       Bag of Organic Bananas      53297\n",
      "21137       Organic Strawberries        37039\n",
      "21903       Organic Baby Spinach        33971\n",
      "47209       Organic Hass Avocado        29773\n",
      "47766       Organic Avocado             24689\n",
      "47626       Large Lemon                 21495\n",
      "16797       Strawberries                20018\n",
      "26209       Limes                       19690\n",
      "27845       Organic Whole Milk          19600\n",
      "27966       Organic Raspberries         19197\n",
      "22935       Organic Yellow Onion        15898\n",
      "24964       Organic Garlic              15292\n",
      "45007       Organic Zucchini            14584\n",
      "39275       Organic Blueberries         13879\n",
      "49683       Cucumber Kirby              13675\n",
      "28204       Organic Fuji Apple          12544\n",
      "5876        Organic Lemon               12232\n",
      "8277        Apple Honeycrisp Organic    11993\n",
      "40706       Organic Grape Tomatoes      11781\n",
      "Name: product_id, dtype: int64\n"
     ]
    }
   ],
   "source": [
    "top20data = df_order_products.merge(df_products,on='product_id')\n",
    "\n",
    "top20 = top20data.groupby(['product_id', 'product_name'])['product_id'].count()\n",
    "top20 = top20.sort_values(ascending=False).head(20)\n",
    "print(top20)"
   ]
  },
  {
   "cell_type": "markdown",
   "id": "1d30a18b",
   "metadata": {},
   "source": [
    "<div class=\"alert alert-success\"; style=\"border-left: 7px solid green\">\n",
    "<b>✅ Reviewer's comment, v. 1</b> \n",
    "    \n",
    "This is a good list."
   ]
  },
  {
   "cell_type": "code",
   "execution_count": 53,
   "id": "bbcdd20b",
   "metadata": {},
   "outputs": [
    {
     "name": "stdout",
     "output_type": "stream",
     "text": [
      "product_id\n",
      "24852    66050\n",
      "13176    53297\n",
      "21137    37039\n",
      "21903    33971\n",
      "47209    29773\n",
      "47766    24689\n",
      "47626    21495\n",
      "16797    20018\n",
      "26209    19690\n",
      "27845    19600\n",
      "27966    19197\n",
      "22935    15898\n",
      "24964    15292\n",
      "45007    14584\n",
      "39275    13879\n",
      "49683    13675\n",
      "28204    12544\n",
      "5876     12232\n",
      "8277     11993\n",
      "40706    11781\n",
      "Name: product_id, dtype: int64\n"
     ]
    }
   ],
   "source": [
    "#verify with select only product _id from df_order_products\n",
    "print(df_order_products.groupby(['product_id'])['product_id'].count().sort_values(ascending=False).head(20))\n"
   ]
  },
  {
   "cell_type": "markdown",
   "id": "7df00f47",
   "metadata": {},
   "source": [
    "Merge the two dataframe order_product and products, preserve the total rows from order product, then grouping by ‘prodict_id’ and ‘product_name’ counts the total order for each product.\n",
    "Sort in descending then take only the first 20 products.\n",
    "\n",
    "To verify I created the the top 20 from df_order_products only\n"
   ]
  },
  {
   "cell_type": "markdown",
   "id": "gross-theme",
   "metadata": {},
   "source": [
    "# [C] Hard (must complete at least two to pass)"
   ]
  },
  {
   "cell_type": "markdown",
   "id": "romantic-deposit",
   "metadata": {},
   "source": [
    "### [C1] How many items do people typically buy in one order? What does the distribution look like?"
   ]
  },
  {
   "cell_type": "code",
   "execution_count": 54,
   "id": "virtual-punch",
   "metadata": {},
   "outputs": [
    {
     "name": "stdout",
     "output_type": "stream",
     "text": [
      "<class 'pandas.core.frame.DataFrame'>\n",
      "RangeIndex: 4545007 entries, 0 to 4545006\n",
      "Data columns (total 4 columns):\n",
      " #   Column             Dtype\n",
      "---  ------             -----\n",
      " 0   order_id           int64\n",
      " 1   product_id         int64\n",
      " 2   add_to_cart_order  int64\n",
      " 3   reordered          int64\n",
      "dtypes: int64(4)\n",
      "memory usage: 138.7 MB\n",
      "   order_id  product_id  add_to_cart_order  reordered\n",
      "0   2141543       11440                 17          0\n",
      "1    567889        1560                  1          1\n",
      "2   2261212       26683                  1          1\n",
      "3    491251        8670                 35          1\n",
      "4   2571142        1940                  5          1\n"
     ]
    }
   ],
   "source": [
    "df_order_products.info()\n",
    "print(df_order_products.head(5))"
   ]
  },
  {
   "cell_type": "code",
   "execution_count": 55,
   "id": "sensitive-breathing",
   "metadata": {},
   "outputs": [
    {
     "name": "stdout",
     "output_type": "stream",
     "text": [
      "10.098983215049127\n"
     ]
    }
   ],
   "source": [
    "print(df_order_products.groupby('order_id')['product_id'].count().mean())"
   ]
  },
  {
   "cell_type": "code",
   "execution_count": 56,
   "id": "completed-frank",
   "metadata": {},
   "outputs": [
    {
     "data": {
      "image/png": "[encoded data removed]",
      "text/plain": [
       "<Figure size 864x288 with 1 Axes>"
      ]
     },
     "metadata": {
      "needs_background": "light"
     },
     "output_type": "display_data"
    }
   ],
   "source": [
    "NumProdbyOrder = df_order_products.groupby('order_id')['product_id'].count()\n",
    "NumProdbyOrder.plot(kind='hist', bins=60, title='Number of Products by Order',\n",
    "               rot=0, figsize=(12,4))\n",
    "\n",
    "plt.show()"
   ]
  },
  {
   "cell_type": "markdown",
   "id": "designed-mortality",
   "metadata": {},
   "source": [
    "The distribution according the histogram show  skewed to the right\n"
   ]
  },
  {
   "cell_type": "markdown",
   "id": "5e6b5537",
   "metadata": {},
   "source": [
    "### [C2] What are the top 20 items that are reordered most frequently (display their names and product IDs)?"
   ]
  },
  {
   "cell_type": "code",
   "execution_count": 57,
   "id": "9374e55a",
   "metadata": {},
   "outputs": [
    {
     "name": "stdout",
     "output_type": "stream",
     "text": [
      "(4545007, 4)\n",
      "(2683838, 4)\n"
     ]
    }
   ],
   "source": [
    "df_reordered = df_order_products[df_order_products['reordered'] == 1]\n",
    "print(df_order_products.shape)\n",
    "print(df_reordered.shape)"
   ]
  },
  {
   "cell_type": "code",
   "execution_count": 58,
   "id": "possible-change",
   "metadata": {
    "scrolled": false
   },
   "outputs": [
    {
     "name": "stdout",
     "output_type": "stream",
     "text": [
      "product_id  product_name            \n",
      "24852       Banana                      55763\n",
      "13176       Bag of Organic Bananas      44450\n",
      "21137       Organic Strawberries        28639\n",
      "21903       Organic Baby Spinach        26233\n",
      "47209       Organic Hass Avocado        23629\n",
      "47766       Organic Avocado             18743\n",
      "27845       Organic Whole Milk          16251\n",
      "47626       Large Lemon                 15044\n",
      "27966       Organic Raspberries         14748\n",
      "16797       Strawberries                13945\n",
      "26209       Limes                       13327\n",
      "22935       Organic Yellow Onion        11145\n",
      "24964       Organic Garlic              10411\n",
      "45007       Organic Zucchini            10076\n",
      "49683       Cucumber Kirby               9538\n",
      "28204       Organic Fuji Apple           8989\n",
      "8277        Apple Honeycrisp Organic     8836\n",
      "39275       Organic Blueberries          8799\n",
      "5876        Organic Lemon                8412\n",
      "49235       Organic Half & Half          8389\n",
      "Name: product_id, dtype: int64\n"
     ]
    }
   ],
   "source": [
    "top20reordered = df_reordered.merge(df_products,on='product_id')\n",
    "\n",
    "top20Count = top20reordered.groupby(['product_id', 'product_name'])['product_id'].count()\n",
    "top20Count = top20Count.sort_values(ascending=False).head(20)\n",
    "print(top20Count)"
   ]
  },
  {
   "cell_type": "markdown",
   "id": "80e70c74",
   "metadata": {},
   "source": [
    "Filter the reordered row from order_products dataframe. Then inner merge with product dataframe, group by product id and product name, count the total product for each product, sorting descending then select the first 20 product "
   ]
  },
  {
   "cell_type": "markdown",
   "id": "f6d2bdc0",
   "metadata": {},
   "source": [
    "<div class=\"alert alert-success\"; style=\"border-left: 7px solid green\">\n",
    "<b>✅ Reviewer's comment, v. 1</b> \n",
    "    \n",
    "Great job."
   ]
  },
  {
   "cell_type": "markdown",
   "id": "9d312b14",
   "metadata": {},
   "source": [
    "### [C3] For each product, what proportion of its orders are reorders?"
   ]
  },
  {
   "cell_type": "code",
   "execution_count": 59,
   "id": "8ae9f4b1",
   "metadata": {},
   "outputs": [],
   "source": [
    "\n",
    "df_total_products = df_order_products.groupby(['product_id'])['product_id'].count()\n",
    "df_total_Noreord = df_order_products[df_order_products['reordered']==0].groupby(['product_id'])['product_id'].count()\n",
    "df_total_reord = df_order_products[df_order_products['reordered']==1].groupby(['product_id'])['product_id'].count()"
   ]
  },
  {
   "cell_type": "code",
   "execution_count": 60,
   "id": "103e7fe1",
   "metadata": {},
   "outputs": [
    {
     "name": "stdout",
     "output_type": "stream",
     "text": [
      "            Total  Never_Ordered  Ordered\n",
      "product_id                               \n",
      "1             280          122.0    158.0\n",
      "2              11           11.0      NaN\n",
      "3              42           11.0     31.0\n",
      "4              49           24.0     25.0\n",
      "7               2            1.0      1.0\n",
      "...           ...            ...      ...\n",
      "49690           5            1.0      4.0\n",
      "49691          72           41.0     31.0\n",
      "49692          12            7.0      5.0\n",
      "49693          25           14.0     11.0\n",
      "49694           9            6.0      3.0\n",
      "\n",
      "[45573 rows x 3 columns]\n"
     ]
    }
   ],
   "source": [
    "print(pd.concat([df_total_products,df_total_Noreord,df_total_reord],axis=1, keys=['Total','Never_Ordered', 'Ordered']))"
   ]
  },
  {
   "cell_type": "code",
   "execution_count": 61,
   "id": "social-individual",
   "metadata": {},
   "outputs": [
    {
     "name": "stdout",
     "output_type": "stream",
     "text": [
      "            Total  Never_Ordered  Ordered  proportionNO  proportionO\n",
      "product_id                                                          \n",
      "1             280          122.0    158.0      0.435714     0.564286\n",
      "2              11           11.0      NaN      1.000000          NaN\n",
      "3              42           11.0     31.0      0.261905     0.738095\n",
      "4              49           24.0     25.0      0.489796     0.510204\n",
      "7               2            1.0      1.0      0.500000     0.500000\n"
     ]
    }
   ],
   "source": [
    "df_proportion = pd.concat([df_total_products,df_total_Noreord,df_total_reord],axis=1, keys=['Total','Never_Ordered', 'Ordered'])\n",
    "df_proportion['proportionNO'] = df_proportion['Never_Ordered'] / df_proportion['Total']\n",
    "df_proportion['proportionO'] = df_proportion['Ordered'] / df_proportion['Total']\n",
    "\n",
    "print(df_proportion.head())\n"
   ]
  },
  {
   "cell_type": "markdown",
   "id": "4bbf8690",
   "metadata": {},
   "source": [
    "<div class=\"alert alert-success\"; style=\"border-left: 7px solid green\">\n",
    "<b>✅ Reviewer's comment, v. 1</b> \n",
    "    \n",
    "Yes, you can do it this way. However, an easier way to complete the task is to group the merged dataframe by `product_id` and calculate the mean of `reordered` columns. This will be proportion of reorders for each product."
   ]
  },
  {
   "cell_type": "code",
   "execution_count": 62,
   "id": "0db52560",
   "metadata": {},
   "outputs": [
    {
     "data": {
      "image/png": "[encoded data removed]",
      "text/plain": [
       "<Figure size 864x288 with 1 Axes>"
      ]
     },
     "metadata": {
      "needs_background": "light"
     },
     "output_type": "display_data"
    }
   ],
   "source": [
    "df_proportion['proportionNO'].plot(kind='hist', bins=20, title='proportion of its orders are reorders',\n",
    "                                 figsize=(12,4))\n",
    "df_proportion['proportionO'].plot(kind='hist', bins=20, alpha=.6)\n",
    "\n",
    "plt.legend(['Never Order','Order'])\n",
    "plt.show()"
   ]
  },
  {
   "cell_type": "markdown",
   "id": "subject-boxing",
   "metadata": {},
   "source": [
    "### [C4] For each customer, what proportion of their products ordered are reorders?"
   ]
  },
  {
   "cell_type": "code",
   "execution_count": 63,
   "id": "c5a5275a",
   "metadata": {},
   "outputs": [
    {
     "name": "stdout",
     "output_type": "stream",
     "text": [
      "   order_id  product_id  add_to_cart_order  reordered  user_id  order_number  \\\n",
      "0   2141543       11440                 17          0    58454            25   \n",
      "1   2141543       31869                 15          1    58454            25   \n",
      "2   2141543       30233                  9          1    58454            25   \n",
      "3   2141543       27966                 20          1    58454            25   \n",
      "4   2141543       13176                  2          1    58454            25   \n",
      "\n",
      "   order_dow  order_hour_of_day  days_since_prior_order  \n",
      "0          0                 15                     8.0  \n",
      "1          0                 15                     8.0  \n",
      "2          0                 15                     8.0  \n",
      "3          0                 15                     8.0  \n",
      "4          0                 15                     8.0  \n",
      "(4545007, 9)\n",
      "(4545007, 4)\n",
      "(478952, 6)\n"
     ]
    }
   ],
   "source": [
    "# merge df_order_products and df_orders by 'order_id'\n",
    "df_customer = df_order_products.merge(df_orders, on='order_id')\n",
    "print(df_customer.head())\n",
    "print(df_customer.shape)\n",
    "print(df_order_products.shape)\n",
    "print(df_orders.shape)\n",
    "\n"
   ]
  },
  {
   "cell_type": "code",
   "execution_count": 64,
   "id": "medical-couple",
   "metadata": {
    "scrolled": false
   },
   "outputs": [
    {
     "name": "stdout",
     "output_type": "stream",
     "text": [
      "         Total  Never_Ordered  Ordered\n",
      "user_id                               \n",
      "2           26           25.0      1.0\n",
      "4            2            2.0      0.0\n",
      "5           12            4.0      8.0\n",
      "6            4            4.0      0.0\n",
      "7           14            1.0     13.0\n",
      "...        ...            ...      ...\n",
      "206203      27           21.0      6.0\n",
      "206206      21            6.0     15.0\n",
      "206207      46            5.0     41.0\n",
      "206208     125           38.0     87.0\n",
      "206209      25           17.0      8.0\n",
      "\n",
      "[149626 rows x 3 columns]\n"
     ]
    }
   ],
   "source": [
    "df_total_user = df_customer.groupby(['user_id'])['product_id'].count()\n",
    "df_user_Noreord = df_customer[df_customer['reordered']==0].groupby(['user_id'])['product_id'].count()\n",
    "df_user_reord = df_customer[df_customer['reordered']==1].groupby(['user_id'])['product_id'].count()\n",
    "print(pd.concat([df_total_user,df_user_Noreord,df_user_reord],axis=1, keys=['Total','Never_Ordered', 'Ordered']).fillna(0))"
   ]
  },
  {
   "cell_type": "code",
   "execution_count": 65,
   "id": "917cd9d0",
   "metadata": {},
   "outputs": [
    {
     "name": "stdout",
     "output_type": "stream",
     "text": [
      "         Total  Never_Ordered  Ordered  proportionNO  proportionO\n",
      "user_id                                                          \n",
      "2           26           25.0      1.0      0.961538     0.038462\n",
      "4            2            2.0      0.0      1.000000     0.000000\n",
      "5           12            4.0      8.0      0.333333     0.666667\n",
      "6            4            4.0      0.0      1.000000     0.000000\n",
      "7           14            1.0     13.0      0.071429     0.928571\n"
     ]
    }
   ],
   "source": [
    "df_user_prop=pd.concat([df_total_user,df_user_Noreord,df_user_reord],axis=1, keys=['Total','Never_Ordered', 'Ordered']).fillna(0)\n",
    "\n",
    "df_user_prop['proportionNO'] = df_user_prop['Never_Ordered'] / df_user_prop['Total']\n",
    "df_user_prop['proportionO'] = df_user_prop['Ordered'] / df_user_prop['Total']\n",
    "\n",
    "print(df_user_prop.head())"
   ]
  },
  {
   "cell_type": "code",
   "execution_count": 66,
   "id": "8892e4b4",
   "metadata": {},
   "outputs": [
    {
     "data": {
      "text/plain": [
       "user_id\n",
       "2         0.038462\n",
       "4         0.000000\n",
       "5         0.666667\n",
       "6         0.000000\n",
       "7         0.928571\n",
       "            ...   \n",
       "206203    0.222222\n",
       "206206    0.714286\n",
       "206207    0.891304\n",
       "206208    0.696000\n",
       "206209    0.320000\n",
       "Name: reordered, Length: 149626, dtype: float64"
      ]
     },
     "execution_count": 66,
     "metadata": {},
     "output_type": "execute_result"
    }
   ],
   "source": [
    "# Added by the reviewer\n",
    "\n",
    "df_order_products.merge(df_orders, on='order_id').groupby('user_id')['reordered'].mean()"
   ]
  },
  {
   "cell_type": "code",
   "execution_count": 67,
   "id": "3acdf85f",
   "metadata": {},
   "outputs": [
    {
     "data": {
      "image/png": "[encoded data removed]",
      "text/plain": [
       "<Figure size 864x432 with 1 Axes>"
      ]
     },
     "metadata": {
      "needs_background": "light"
     },
     "output_type": "display_data"
    }
   ],
   "source": [
    "df_user_prop['proportionNO'].plot(kind='hist', bins=20, title='proportion of their products ordered are reorders by Customer',\n",
    "                                 figsize=(12,6))\n",
    "df_user_prop['proportionO'].plot(kind='hist', bins=20, alpha=.6)\n",
    "\n",
    "plt.legend(['Never Order','Order'])\n",
    "plt.show()"
   ]
  },
  {
   "cell_type": "markdown",
   "id": "92d35137",
   "metadata": {},
   "source": [
    "### [C5] What are the top 20 items that people put in their carts first? "
   ]
  },
  {
   "cell_type": "code",
   "execution_count": 68,
   "id": "0ae57274",
   "metadata": {
    "scrolled": true
   },
   "outputs": [
    {
     "name": "stdout",
     "output_type": "stream",
     "text": [
      "   order_id  product_id  add_to_cart_order  reordered  \\\n",
      "0   2141543       11440                 17          0   \n",
      "1    147172       11440                  7          1   \n",
      "2   3341719       11440                  4          1   \n",
      "3   1938779       11440                  8          1   \n",
      "4   1728338       11440                 23          0   \n",
      "\n",
      "                     product_name  aisle_id  department_id  \n",
      "0  Chicken Breast Tenders Breaded       129              1  \n",
      "1  Chicken Breast Tenders Breaded       129              1  \n",
      "2  Chicken Breast Tenders Breaded       129              1  \n",
      "3  Chicken Breast Tenders Breaded       129              1  \n",
      "4  Chicken Breast Tenders Breaded       129              1  \n"
     ]
    }
   ],
   "source": [
    "top20items = df_order_products.merge(df_products,on='product_id')\n",
    "print(top20items.head())\n"
   ]
  },
  {
   "cell_type": "code",
   "execution_count": 69,
   "id": "b6ca121b",
   "metadata": {},
   "outputs": [
    {
     "name": "stdout",
     "output_type": "stream",
     "text": [
      "    order_id  product_id  add_to_cart_order  reordered  \\\n",
      "6    1463503       11440                  1          0   \n",
      "17   2201430       11440                  1          1   \n",
      "21   1036054       11440                  1          1   \n",
      "50   3008652       11440                  1          1   \n",
      "62   2946144       11440                  1          1   \n",
      "\n",
      "                      product_name  aisle_id  department_id  \n",
      "6   Chicken Breast Tenders Breaded       129              1  \n",
      "17  Chicken Breast Tenders Breaded       129              1  \n",
      "21  Chicken Breast Tenders Breaded       129              1  \n",
      "50  Chicken Breast Tenders Breaded       129              1  \n",
      "62  Chicken Breast Tenders Breaded       129              1  \n"
     ]
    }
   ],
   "source": [
    "top20items = top20items[top20items['add_to_cart_order']==1]\n",
    "print(top20items.head())"
   ]
  },
  {
   "cell_type": "code",
   "execution_count": 70,
   "id": "forty-netherlands",
   "metadata": {
    "scrolled": false
   },
   "outputs": [
    {
     "name": "stdout",
     "output_type": "stream",
     "text": [
      "product_id  product_name               \n",
      "24852       Banana                         15562\n",
      "13176       Bag of Organic Bananas         11026\n",
      "27845       Organic Whole Milk              4363\n",
      "21137       Organic Strawberries            3946\n",
      "47209       Organic Hass Avocado            3390\n",
      "21903       Organic Baby Spinach            3336\n",
      "47766       Organic Avocado                 3044\n",
      "19660       Spring Water                    2336\n",
      "16797       Strawberries                    2308\n",
      "27966       Organic Raspberries             2024\n",
      "44632       Sparkling Water Grapefruit      1914\n",
      "49235       Organic Half & Half             1797\n",
      "47626       Large Lemon                     1737\n",
      "196         Soda                            1733\n",
      "38689       Organic Reduced Fat Milk        1397\n",
      "26209       Limes                           1370\n",
      "12341       Hass Avocados                   1340\n",
      "5785        Organic Reduced Fat 2% Milk     1310\n",
      "27086       Half & Half                     1309\n",
      "43352       Raspberries                     1246\n",
      "Name: product_id, dtype: int64\n"
     ]
    }
   ],
   "source": [
    "\n",
    "top20count = top20items.groupby(['product_id','product_name'])['product_id'].count()\n",
    "top20count = top20count.sort_values(ascending=False).head(20)\n",
    "print(top20count)"
   ]
  },
  {
   "cell_type": "markdown",
   "id": "28ce9872",
   "metadata": {},
   "source": [
    "Inner merge order_product and df_product dataframe by product_id\n",
    "Filter the first ‘add_to_cart_order’ value and create the data frame.\n",
    "Create the group by product id and product name and count the unique items sorted in descending order then select the first 20 rows.\n"
   ]
  },
  {
   "cell_type": "markdown",
   "id": "6c65654f",
   "metadata": {},
   "source": [
    "<div class=\"alert alert-success\"; style=\"border-left: 7px solid green\">\n",
    "<b>✅ Reviewer's comment, v. 1</b> \n",
    "    \n",
    "Here again you made an excellent list ."
   ]
  },
  {
   "cell_type": "markdown",
   "id": "63a5e702",
   "metadata": {},
   "source": [
    "# Project goal was completed successfully.\n",
    "\n",
    "**Pandas** help to create the dataframe from all dataset instead those files have no standard format. Also was checked with the info() method the status of the load file. The number columns and name, the number of rows by file and data type.\n",
    "\n",
    "The next stage was preprocessing those dataframe checks, duplicates and some cases editing, verifying missing data full rows and some case key columns. Also were edited to add information.\n",
    "\n",
    "I Analyzed the data and built the distribution chart using a bar and histogram.\n",
    "Those analyses help to understand the client's performance when ordering a product, the time and day most frequency to make orders, and select the major product order, the comparison new order. and previous orders.\n",
    "\n",
    "Pandas library includes all sets of methods to completely manage the dataset. With matplotlib to produce the plots chart.\n"
   ]
  }
 ],
 "metadata": {
  "kernelspec": {
   "display_name": "Python 3 (ipykernel)",
   "language": "python",
   "name": "python3"
  },
  "language_info": {
   "codemirror_mode": {
    "name": "ipython",
    "version": 3
   },
   "file_extension": ".py",
   "mimetype": "text/x-python",
   "name": "python",
   "nbconvert_exporter": "python",
   "pygments_lexer": "ipython3",
   "version": "3.9.5"
  },
  "toc": {
   "base_numbering": 1,
   "nav_menu": {},
   "number_sections": true,
   "sideBar": true,
   "skip_h1_title": true,
   "title_cell": "Table of Contents",
   "title_sidebar": "Contents",
   "toc_cell": false,
   "toc_position": {
    "height": "calc(100% - 180px)",
    "left": "10px",
    "top": "150px",
    "width": "165px"
   },
   "toc_section_display": true,
   "toc_window_display": false
  },
  "vscode": {
   "interpreter": {
    "hash": "01a7be9ec63e704a62cefc5fe7a4756944464ee731be31632bdf42a4cb4688cf"
   }
  }
 },
 "nbformat": 4,
 "nbformat_minor": 5
}
