{
 "cells": [
  {
   "cell_type": "markdown",
   "metadata": {},
   "source": [
    "Numerical Methods Project\n",
    "\n",
    "By **Miguel Polanco**"
   ]
  },
  {
   "cell_type": "markdown",
   "metadata": {},
   "source": [
    "Rusty Bargain used car sales service is developing an app to attract new customers. In that app, you can quickly find out the market value of your car. You have access to historical data: technical specifications, trim versions, and prices. You need to build the model to determine the value. \n",
    "\n",
    "Rusty Bargain is interested in:\n",
    "\n",
    "- the quality of the prediction;\n",
    "- the speed of the prediction;\n",
    "- the time required for training"
   ]
  },
  {
   "cell_type": "markdown",
   "metadata": {},
   "source": [
    "## Data preparation"
   ]
  },
  {
   "cell_type": "markdown",
   "metadata": {},
   "source": [
    "#### importing required libraries"
   ]
  },
  {
   "cell_type": "code",
   "execution_count": 1,
   "metadata": {},
   "outputs": [],
   "source": [
    "import pandas as pd\n",
    "import numpy as np\n",
    "\n",
    "from sklearn.model_selection import train_test_split\n",
    "from sklearn.preprocessing import StandardScaler\n",
    "from sklearn.preprocessing import OneHotEncoder\n",
    "from sklearn.ensemble import RandomForestRegressor\n",
    "from sklearn.linear_model import LinearRegression\n",
    "from sklearn.metrics import mean_squared_error"
   ]
  },
  {
   "cell_type": "code",
   "execution_count": 2,
   "metadata": {},
   "outputs": [],
   "source": [
    "import lightgbm as lgb\n",
    "from catboost import CatBoostRegressor\n",
    "\n",
    "import warnings\n",
    "warnings.filterwarnings('ignore')"
   ]
  },
  {
   "cell_type": "markdown",
   "metadata": {},
   "source": [
    "###  Download  and look at the data"
   ]
  },
  {
   "cell_type": "code",
   "execution_count": 3,
   "metadata": {},
   "outputs": [],
   "source": [
    "df_car = pd.read_csv('/datasets/car_data.csv')"
   ]
  },
  {
   "cell_type": "code",
   "execution_count": 4,
   "metadata": {},
   "outputs": [
    {
     "name": "stdout",
     "output_type": "stream",
     "text": [
      "<class 'pandas.core.frame.DataFrame'>\n",
      "RangeIndex: 354369 entries, 0 to 354368\n",
      "Data columns (total 16 columns):\n",
      " #   Column             Non-Null Count   Dtype \n",
      "---  ------             --------------   ----- \n",
      " 0   DateCrawled        354369 non-null  object\n",
      " 1   Price              354369 non-null  int64 \n",
      " 2   VehicleType        316879 non-null  object\n",
      " 3   RegistrationYear   354369 non-null  int64 \n",
      " 4   Gearbox            334536 non-null  object\n",
      " 5   Power              354369 non-null  int64 \n",
      " 6   Model              334664 non-null  object\n",
      " 7   Mileage            354369 non-null  int64 \n",
      " 8   RegistrationMonth  354369 non-null  int64 \n",
      " 9   FuelType           321474 non-null  object\n",
      " 10  Brand              354369 non-null  object\n",
      " 11  NotRepaired        283215 non-null  object\n",
      " 12  DateCreated        354369 non-null  object\n",
      " 13  NumberOfPictures   354369 non-null  int64 \n",
      " 14  PostalCode         354369 non-null  int64 \n",
      " 15  LastSeen           354369 non-null  object\n",
      "dtypes: int64(7), object(9)\n",
      "memory usage: 43.3+ MB\n"
     ]
    }
   ],
   "source": [
    "df_car.info()"
   ]
  },
  {
   "cell_type": "markdown",
   "metadata": {},
   "source": [
    "First information about the dataset after loading in dataframe indicate 16 columns and 354369 rows, \n",
    "\n",
    "dtype date and time need setting, missing values in many columns.\n",
    "nest will be verify the information and fix the duplicates and missing values."
   ]
  },
  {
   "cell_type": "markdown",
   "metadata": {},
   "source": [
    "<div class=\"alert alert-success\">\n",
    "<b>Reviewer's comment</b>\n",
    "\n",
    "The data was loaded and inspected\n",
    "\n",
    "</div>"
   ]
  },
  {
   "cell_type": "code",
   "execution_count": 5,
   "metadata": {},
   "outputs": [
    {
     "data": {
      "text/html": [
       "<div>\n",
       "<style scoped>\n",
       "    .dataframe tbody tr th:only-of-type {\n",
       "        vertical-align: middle;\n",
       "    }\n",
       "\n",
       "    .dataframe tbody tr th {\n",
       "        vertical-align: top;\n",
       "    }\n",
       "\n",
       "    .dataframe thead th {\n",
       "        text-align: right;\n",
       "    }\n",
       "</style>\n",
       "<table border=\"1\" class=\"dataframe\">\n",
       "  <thead>\n",
       "    <tr style=\"text-align: right;\">\n",
       "      <th></th>\n",
       "      <th>DateCrawled</th>\n",
       "      <th>Price</th>\n",
       "      <th>VehicleType</th>\n",
       "      <th>RegistrationYear</th>\n",
       "      <th>Gearbox</th>\n",
       "      <th>Power</th>\n",
       "      <th>Model</th>\n",
       "      <th>Mileage</th>\n",
       "      <th>RegistrationMonth</th>\n",
       "      <th>FuelType</th>\n",
       "      <th>Brand</th>\n",
       "      <th>NotRepaired</th>\n",
       "      <th>DateCreated</th>\n",
       "      <th>NumberOfPictures</th>\n",
       "      <th>PostalCode</th>\n",
       "      <th>LastSeen</th>\n",
       "    </tr>\n",
       "  </thead>\n",
       "  <tbody>\n",
       "    <tr>\n",
       "      <th>71002</th>\n",
       "      <td>05/04/2016 11:49</td>\n",
       "      <td>750</td>\n",
       "      <td>small</td>\n",
       "      <td>1993</td>\n",
       "      <td>manual</td>\n",
       "      <td>54</td>\n",
       "      <td>clio</td>\n",
       "      <td>70000</td>\n",
       "      <td>2</td>\n",
       "      <td>petrol</td>\n",
       "      <td>renault</td>\n",
       "      <td>no</td>\n",
       "      <td>05/04/2016 00:00</td>\n",
       "      <td>0</td>\n",
       "      <td>36251</td>\n",
       "      <td>05/04/2016 11:49</td>\n",
       "    </tr>\n",
       "    <tr>\n",
       "      <th>349134</th>\n",
       "      <td>23/03/2016 16:39</td>\n",
       "      <td>3300</td>\n",
       "      <td>bus</td>\n",
       "      <td>1995</td>\n",
       "      <td>manual</td>\n",
       "      <td>78</td>\n",
       "      <td>transporter</td>\n",
       "      <td>150000</td>\n",
       "      <td>1</td>\n",
       "      <td>gasoline</td>\n",
       "      <td>volkswagen</td>\n",
       "      <td>no</td>\n",
       "      <td>23/03/2016 00:00</td>\n",
       "      <td>0</td>\n",
       "      <td>34225</td>\n",
       "      <td>05/04/2016 19:48</td>\n",
       "    </tr>\n",
       "    <tr>\n",
       "      <th>153513</th>\n",
       "      <td>03/04/2016 23:50</td>\n",
       "      <td>2300</td>\n",
       "      <td>small</td>\n",
       "      <td>2003</td>\n",
       "      <td>manual</td>\n",
       "      <td>54</td>\n",
       "      <td>polo</td>\n",
       "      <td>150000</td>\n",
       "      <td>6</td>\n",
       "      <td>petrol</td>\n",
       "      <td>volkswagen</td>\n",
       "      <td>no</td>\n",
       "      <td>03/04/2016 00:00</td>\n",
       "      <td>0</td>\n",
       "      <td>26127</td>\n",
       "      <td>06/04/2016 07:16</td>\n",
       "    </tr>\n",
       "    <tr>\n",
       "      <th>219742</th>\n",
       "      <td>21/03/2016 09:37</td>\n",
       "      <td>16999</td>\n",
       "      <td>sedan</td>\n",
       "      <td>2006</td>\n",
       "      <td>auto</td>\n",
       "      <td>286</td>\n",
       "      <td>3er</td>\n",
       "      <td>150000</td>\n",
       "      <td>10</td>\n",
       "      <td>gasoline</td>\n",
       "      <td>bmw</td>\n",
       "      <td>no</td>\n",
       "      <td>21/03/2016 00:00</td>\n",
       "      <td>0</td>\n",
       "      <td>84359</td>\n",
       "      <td>06/04/2016 01:49</td>\n",
       "    </tr>\n",
       "    <tr>\n",
       "      <th>198580</th>\n",
       "      <td>27/03/2016 22:43</td>\n",
       "      <td>400</td>\n",
       "      <td>sedan</td>\n",
       "      <td>1997</td>\n",
       "      <td>manual</td>\n",
       "      <td>87</td>\n",
       "      <td>NaN</td>\n",
       "      <td>150000</td>\n",
       "      <td>5</td>\n",
       "      <td>petrol</td>\n",
       "      <td>sonstige_autos</td>\n",
       "      <td>no</td>\n",
       "      <td>27/03/2016 00:00</td>\n",
       "      <td>0</td>\n",
       "      <td>37308</td>\n",
       "      <td>05/04/2016 21:45</td>\n",
       "    </tr>\n",
       "  </tbody>\n",
       "</table>\n",
       "</div>"
      ],
      "text/plain": [
       "             DateCrawled  Price VehicleType  RegistrationYear Gearbox  Power  \\\n",
       "71002   05/04/2016 11:49    750       small              1993  manual     54   \n",
       "349134  23/03/2016 16:39   3300         bus              1995  manual     78   \n",
       "153513  03/04/2016 23:50   2300       small              2003  manual     54   \n",
       "219742  21/03/2016 09:37  16999       sedan              2006    auto    286   \n",
       "198580  27/03/2016 22:43    400       sedan              1997  manual     87   \n",
       "\n",
       "              Model  Mileage  RegistrationMonth  FuelType           Brand  \\\n",
       "71002          clio    70000                  2    petrol         renault   \n",
       "349134  transporter   150000                  1  gasoline      volkswagen   \n",
       "153513         polo   150000                  6    petrol      volkswagen   \n",
       "219742          3er   150000                 10  gasoline             bmw   \n",
       "198580          NaN   150000                  5    petrol  sonstige_autos   \n",
       "\n",
       "       NotRepaired       DateCreated  NumberOfPictures  PostalCode  \\\n",
       "71002           no  05/04/2016 00:00                 0       36251   \n",
       "349134          no  23/03/2016 00:00                 0       34225   \n",
       "153513          no  03/04/2016 00:00                 0       26127   \n",
       "219742          no  21/03/2016 00:00                 0       84359   \n",
       "198580          no  27/03/2016 00:00                 0       37308   \n",
       "\n",
       "                LastSeen  \n",
       "71002   05/04/2016 11:49  \n",
       "349134  05/04/2016 19:48  \n",
       "153513  06/04/2016 07:16  \n",
       "219742  06/04/2016 01:49  \n",
       "198580  05/04/2016 21:45  "
      ]
     },
     "execution_count": 5,
     "metadata": {},
     "output_type": "execute_result"
    }
   ],
   "source": [
    "df_car.sample(5)"
   ]
  },
  {
   "cell_type": "code",
   "execution_count": 6,
   "metadata": {},
   "outputs": [],
   "source": [
    "df_car = df_car.fillna('unknown')"
   ]
  },
  {
   "cell_type": "markdown",
   "metadata": {},
   "source": [
    "<div class=\"alert alert-success\">\n",
    "<b>Reviewer's comment</b>\n",
    "\n",
    "Missing values were handled reasonably\n",
    "\n",
    "</div>"
   ]
  },
  {
   "cell_type": "code",
   "execution_count": 7,
   "metadata": {},
   "outputs": [
    {
     "data": {
      "text/html": [
       "<div>\n",
       "<style scoped>\n",
       "    .dataframe tbody tr th:only-of-type {\n",
       "        vertical-align: middle;\n",
       "    }\n",
       "\n",
       "    .dataframe tbody tr th {\n",
       "        vertical-align: top;\n",
       "    }\n",
       "\n",
       "    .dataframe thead th {\n",
       "        text-align: right;\n",
       "    }\n",
       "</style>\n",
       "<table border=\"1\" class=\"dataframe\">\n",
       "  <thead>\n",
       "    <tr style=\"text-align: right;\">\n",
       "      <th></th>\n",
       "      <th>DateCrawled</th>\n",
       "      <th>Price</th>\n",
       "      <th>VehicleType</th>\n",
       "      <th>RegistrationYear</th>\n",
       "      <th>Gearbox</th>\n",
       "      <th>Power</th>\n",
       "      <th>Model</th>\n",
       "      <th>Mileage</th>\n",
       "      <th>RegistrationMonth</th>\n",
       "      <th>FuelType</th>\n",
       "      <th>Brand</th>\n",
       "      <th>NotRepaired</th>\n",
       "      <th>DateCreated</th>\n",
       "      <th>NumberOfPictures</th>\n",
       "      <th>PostalCode</th>\n",
       "      <th>LastSeen</th>\n",
       "    </tr>\n",
       "  </thead>\n",
       "  <tbody>\n",
       "    <tr>\n",
       "      <th>295173</th>\n",
       "      <td>16/03/2016 14:54</td>\n",
       "      <td>13500</td>\n",
       "      <td>sedan</td>\n",
       "      <td>1953</td>\n",
       "      <td>manual</td>\n",
       "      <td>34</td>\n",
       "      <td>unknown</td>\n",
       "      <td>90000</td>\n",
       "      <td>10</td>\n",
       "      <td>petrol</td>\n",
       "      <td>sonstige_autos</td>\n",
       "      <td>unknown</td>\n",
       "      <td>16/03/2016 00:00</td>\n",
       "      <td>0</td>\n",
       "      <td>22041</td>\n",
       "      <td>06/04/2016 18:16</td>\n",
       "    </tr>\n",
       "    <tr>\n",
       "      <th>251299</th>\n",
       "      <td>03/04/2016 22:31</td>\n",
       "      <td>1600</td>\n",
       "      <td>small</td>\n",
       "      <td>1999</td>\n",
       "      <td>manual</td>\n",
       "      <td>50</td>\n",
       "      <td>lupo</td>\n",
       "      <td>150000</td>\n",
       "      <td>0</td>\n",
       "      <td>petrol</td>\n",
       "      <td>volkswagen</td>\n",
       "      <td>no</td>\n",
       "      <td>03/04/2016 00:00</td>\n",
       "      <td>0</td>\n",
       "      <td>35519</td>\n",
       "      <td>05/04/2016 12:11</td>\n",
       "    </tr>\n",
       "    <tr>\n",
       "      <th>107677</th>\n",
       "      <td>11/03/2016 20:55</td>\n",
       "      <td>700</td>\n",
       "      <td>bus</td>\n",
       "      <td>2003</td>\n",
       "      <td>manual</td>\n",
       "      <td>101</td>\n",
       "      <td>other</td>\n",
       "      <td>150000</td>\n",
       "      <td>10</td>\n",
       "      <td>petrol</td>\n",
       "      <td>mazda</td>\n",
       "      <td>yes</td>\n",
       "      <td>11/03/2016 00:00</td>\n",
       "      <td>0</td>\n",
       "      <td>99994</td>\n",
       "      <td>06/04/2016 05:46</td>\n",
       "    </tr>\n",
       "    <tr>\n",
       "      <th>267565</th>\n",
       "      <td>05/03/2016 20:49</td>\n",
       "      <td>13999</td>\n",
       "      <td>suv</td>\n",
       "      <td>1992</td>\n",
       "      <td>auto</td>\n",
       "      <td>136</td>\n",
       "      <td>g_klasse</td>\n",
       "      <td>125000</td>\n",
       "      <td>12</td>\n",
       "      <td>gasoline</td>\n",
       "      <td>mercedes_benz</td>\n",
       "      <td>no</td>\n",
       "      <td>05/03/2016 00:00</td>\n",
       "      <td>0</td>\n",
       "      <td>35745</td>\n",
       "      <td>07/03/2016 12:33</td>\n",
       "    </tr>\n",
       "    <tr>\n",
       "      <th>350670</th>\n",
       "      <td>30/03/2016 10:44</td>\n",
       "      <td>2800</td>\n",
       "      <td>wagon</td>\n",
       "      <td>1995</td>\n",
       "      <td>auto</td>\n",
       "      <td>290</td>\n",
       "      <td>other</td>\n",
       "      <td>150000</td>\n",
       "      <td>10</td>\n",
       "      <td>petrol</td>\n",
       "      <td>audi</td>\n",
       "      <td>no</td>\n",
       "      <td>30/03/2016 00:00</td>\n",
       "      <td>0</td>\n",
       "      <td>83374</td>\n",
       "      <td>07/04/2016 01:15</td>\n",
       "    </tr>\n",
       "  </tbody>\n",
       "</table>\n",
       "</div>"
      ],
      "text/plain": [
       "             DateCrawled  Price VehicleType  RegistrationYear Gearbox  Power  \\\n",
       "295173  16/03/2016 14:54  13500       sedan              1953  manual     34   \n",
       "251299  03/04/2016 22:31   1600       small              1999  manual     50   \n",
       "107677  11/03/2016 20:55    700         bus              2003  manual    101   \n",
       "267565  05/03/2016 20:49  13999         suv              1992    auto    136   \n",
       "350670  30/03/2016 10:44   2800       wagon              1995    auto    290   \n",
       "\n",
       "           Model  Mileage  RegistrationMonth  FuelType           Brand  \\\n",
       "295173   unknown    90000                 10    petrol  sonstige_autos   \n",
       "251299      lupo   150000                  0    petrol      volkswagen   \n",
       "107677     other   150000                 10    petrol           mazda   \n",
       "267565  g_klasse   125000                 12  gasoline   mercedes_benz   \n",
       "350670     other   150000                 10    petrol            audi   \n",
       "\n",
       "       NotRepaired       DateCreated  NumberOfPictures  PostalCode  \\\n",
       "295173     unknown  16/03/2016 00:00                 0       22041   \n",
       "251299          no  03/04/2016 00:00                 0       35519   \n",
       "107677         yes  11/03/2016 00:00                 0       99994   \n",
       "267565          no  05/03/2016 00:00                 0       35745   \n",
       "350670          no  30/03/2016 00:00                 0       83374   \n",
       "\n",
       "                LastSeen  \n",
       "295173  06/04/2016 18:16  \n",
       "251299  05/04/2016 12:11  \n",
       "107677  06/04/2016 05:46  \n",
       "267565  07/03/2016 12:33  \n",
       "350670  07/04/2016 01:15  "
      ]
     },
     "execution_count": 7,
     "metadata": {},
     "output_type": "execute_result"
    }
   ],
   "source": [
    "df_car.sample(5)"
   ]
  },
  {
   "cell_type": "code",
   "execution_count": 8,
   "metadata": {},
   "outputs": [
    {
     "name": "stdout",
     "output_type": "stream",
     "text": [
      "<class 'pandas.core.frame.DataFrame'>\n",
      "RangeIndex: 354369 entries, 0 to 354368\n",
      "Data columns (total 16 columns):\n",
      " #   Column             Non-Null Count   Dtype \n",
      "---  ------             --------------   ----- \n",
      " 0   DateCrawled        354369 non-null  object\n",
      " 1   Price              354369 non-null  int64 \n",
      " 2   VehicleType        354369 non-null  object\n",
      " 3   RegistrationYear   354369 non-null  int64 \n",
      " 4   Gearbox            354369 non-null  object\n",
      " 5   Power              354369 non-null  int64 \n",
      " 6   Model              354369 non-null  object\n",
      " 7   Mileage            354369 non-null  int64 \n",
      " 8   RegistrationMonth  354369 non-null  int64 \n",
      " 9   FuelType           354369 non-null  object\n",
      " 10  Brand              354369 non-null  object\n",
      " 11  NotRepaired        354369 non-null  object\n",
      " 12  DateCreated        354369 non-null  object\n",
      " 13  NumberOfPictures   354369 non-null  int64 \n",
      " 14  PostalCode         354369 non-null  int64 \n",
      " 15  LastSeen           354369 non-null  object\n",
      "dtypes: int64(7), object(9)\n",
      "memory usage: 43.3+ MB\n"
     ]
    }
   ],
   "source": [
    "df_car.info()"
   ]
  },
  {
   "cell_type": "markdown",
   "metadata": {},
   "source": [
    "The date alone does not provide us with substantial information, but the duration between the publication of a listing and its most recent activity can indicate the speed at which cars are being sold. This time gap can be influenced by various factors, including price policy. For instance, if the listings are priced too high, they are unlikely to be sold quickly."
   ]
  },
  {
   "cell_type": "markdown",
   "metadata": {},
   "source": [
    "<div class=\"alert alert-success\">\n",
    "<b>Reviewer's comment</b>\n",
    "\n",
    "Good point!\n",
    "\n",
    "</div>"
   ]
  },
  {
   "cell_type": "code",
   "execution_count": 9,
   "metadata": {},
   "outputs": [
    {
     "data": {
      "text/plain": [
       "262"
      ]
     },
     "execution_count": 9,
     "metadata": {},
     "output_type": "execute_result"
    }
   ],
   "source": [
    "# duplicates?\n",
    "df_car.duplicated().sum()"
   ]
  },
  {
   "cell_type": "code",
   "execution_count": 10,
   "metadata": {},
   "outputs": [
    {
     "data": {
      "text/plain": [
       "(354107, 16)"
      ]
     },
     "execution_count": 10,
     "metadata": {},
     "output_type": "execute_result"
    }
   ],
   "source": [
    "df_car.drop_duplicates(inplace=True)\n",
    "\n",
    "df_car.shape"
   ]
  },
  {
   "cell_type": "markdown",
   "metadata": {},
   "source": [
    "**Data preparation**\n",
    "\n",
    "Set date time field as dtype datetime.\n",
    "\n",
    "add a column 'DeltaDays' "
   ]
  },
  {
   "cell_type": "code",
   "execution_count": 11,
   "metadata": {},
   "outputs": [],
   "source": [
    "df_car['DateCreated'] = pd.to_datetime(df_car['DateCreated'], format='%d/%m/%Y %H:%M')\n",
    "df_car['LastSeen'] = pd.to_datetime(df_car['LastSeen'], format='%d/%m/%Y %H:%M')\n",
    "df_car['DeltaDays'] = (df_car['LastSeen']-df_car['DateCreated']).dt.days"
   ]
  },
  {
   "cell_type": "code",
   "execution_count": 12,
   "metadata": {},
   "outputs": [
    {
     "data": {
      "text/plain": [
       "False"
      ]
     },
     "execution_count": 12,
     "metadata": {},
     "output_type": "execute_result"
    }
   ],
   "source": [
    "# check no negative values\n",
    "np.any(df_car['DeltaDays'] < 0)"
   ]
  },
  {
   "cell_type": "code",
   "execution_count": 13,
   "metadata": {},
   "outputs": [
    {
     "name": "stdout",
     "output_type": "stream",
     "text": [
      "<class 'pandas.core.frame.DataFrame'>\n",
      "Int64Index: 354107 entries, 0 to 354368\n",
      "Data columns (total 17 columns):\n",
      " #   Column             Non-Null Count   Dtype         \n",
      "---  ------             --------------   -----         \n",
      " 0   DateCrawled        354107 non-null  object        \n",
      " 1   Price              354107 non-null  int64         \n",
      " 2   VehicleType        354107 non-null  object        \n",
      " 3   RegistrationYear   354107 non-null  int64         \n",
      " 4   Gearbox            354107 non-null  object        \n",
      " 5   Power              354107 non-null  int64         \n",
      " 6   Model              354107 non-null  object        \n",
      " 7   Mileage            354107 non-null  int64         \n",
      " 8   RegistrationMonth  354107 non-null  int64         \n",
      " 9   FuelType           354107 non-null  object        \n",
      " 10  Brand              354107 non-null  object        \n",
      " 11  NotRepaired        354107 non-null  object        \n",
      " 12  DateCreated        354107 non-null  datetime64[ns]\n",
      " 13  NumberOfPictures   354107 non-null  int64         \n",
      " 14  PostalCode         354107 non-null  int64         \n",
      " 15  LastSeen           354107 non-null  datetime64[ns]\n",
      " 16  DeltaDays          354107 non-null  int64         \n",
      "dtypes: datetime64[ns](2), int64(8), object(7)\n",
      "memory usage: 48.6+ MB\n"
     ]
    }
   ],
   "source": [
    "df_car.info()"
   ]
  },
  {
   "cell_type": "markdown",
   "metadata": {},
   "source": [
    "\n",
    "In our scenario, the focus is on the listing price, while the dates themselves will not be considered as part of the features."
   ]
  },
  {
   "cell_type": "code",
   "execution_count": 14,
   "metadata": {},
   "outputs": [],
   "source": [
    "target = df_car['Price']\n",
    "features = df_car.drop(columns  = ['Price', 'DateCreated', 'LastSeen','DateCrawled'], axis = 1) "
   ]
  },
  {
   "cell_type": "markdown",
   "metadata": {},
   "source": [
    "<div class=\"alert alert-success\">\n",
    "<b>Reviewer's comment</b>\n",
    "\n",
    "Alright!\n",
    "\n",
    "</div>"
   ]
  },
  {
   "cell_type": "markdown",
   "metadata": {},
   "source": [
    "The dataset can be divided into training, testing, and validation sets in a ratio of 3:1:1."
   ]
  },
  {
   "cell_type": "code",
   "execution_count": 15,
   "metadata": {},
   "outputs": [],
   "source": [
    "features_train, features_rest, target_train, target_rest = train_test_split(features, target, test_size=0.4, random_state=12345)\n",
    "features_test, features_valid, target_test, target_valid = train_test_split(features_rest,target_rest, test_size=0.5, random_state=12345)"
   ]
  },
  {
   "cell_type": "markdown",
   "metadata": {},
   "source": [
    "<div class=\"alert alert-success\">\n",
    "<b>Reviewer's comment</b>\n",
    "\n",
    "The data was split into train, validation and test set\n",
    "\n",
    "</div>"
   ]
  },
  {
   "cell_type": "markdown",
   "metadata": {},
   "source": [
    "Numeric features need to be scaled for normalization purposes."
   ]
  },
  {
   "cell_type": "code",
   "execution_count": 16,
   "metadata": {},
   "outputs": [
    {
     "data": {
      "text/html": [
       "<div>\n",
       "<style scoped>\n",
       "    .dataframe tbody tr th:only-of-type {\n",
       "        vertical-align: middle;\n",
       "    }\n",
       "\n",
       "    .dataframe tbody tr th {\n",
       "        vertical-align: top;\n",
       "    }\n",
       "\n",
       "    .dataframe thead th {\n",
       "        text-align: right;\n",
       "    }\n",
       "</style>\n",
       "<table border=\"1\" class=\"dataframe\">\n",
       "  <thead>\n",
       "    <tr style=\"text-align: right;\">\n",
       "      <th></th>\n",
       "      <th>VehicleType</th>\n",
       "      <th>RegistrationYear</th>\n",
       "      <th>Gearbox</th>\n",
       "      <th>Power</th>\n",
       "      <th>Model</th>\n",
       "      <th>Mileage</th>\n",
       "      <th>RegistrationMonth</th>\n",
       "      <th>FuelType</th>\n",
       "      <th>Brand</th>\n",
       "      <th>NotRepaired</th>\n",
       "      <th>NumberOfPictures</th>\n",
       "      <th>PostalCode</th>\n",
       "      <th>DeltaDays</th>\n",
       "    </tr>\n",
       "  </thead>\n",
       "  <tbody>\n",
       "    <tr>\n",
       "      <th>62746</th>\n",
       "      <td>small</td>\n",
       "      <td>2007</td>\n",
       "      <td>auto</td>\n",
       "      <td>71</td>\n",
       "      <td>fortwo</td>\n",
       "      <td>125000</td>\n",
       "      <td>12</td>\n",
       "      <td>petrol</td>\n",
       "      <td>smart</td>\n",
       "      <td>no</td>\n",
       "      <td>0</td>\n",
       "      <td>71364</td>\n",
       "      <td>19</td>\n",
       "    </tr>\n",
       "    <tr>\n",
       "      <th>324587</th>\n",
       "      <td>small</td>\n",
       "      <td>2005</td>\n",
       "      <td>manual</td>\n",
       "      <td>60</td>\n",
       "      <td>2_reihe</td>\n",
       "      <td>70000</td>\n",
       "      <td>1</td>\n",
       "      <td>petrol</td>\n",
       "      <td>peugeot</td>\n",
       "      <td>no</td>\n",
       "      <td>0</td>\n",
       "      <td>13581</td>\n",
       "      <td>1</td>\n",
       "    </tr>\n",
       "    <tr>\n",
       "      <th>89315</th>\n",
       "      <td>small</td>\n",
       "      <td>2001</td>\n",
       "      <td>manual</td>\n",
       "      <td>60</td>\n",
       "      <td>1_reihe</td>\n",
       "      <td>150000</td>\n",
       "      <td>6</td>\n",
       "      <td>petrol</td>\n",
       "      <td>peugeot</td>\n",
       "      <td>no</td>\n",
       "      <td>0</td>\n",
       "      <td>80686</td>\n",
       "      <td>3</td>\n",
       "    </tr>\n",
       "    <tr>\n",
       "      <th>217912</th>\n",
       "      <td>unknown</td>\n",
       "      <td>2018</td>\n",
       "      <td>unknown</td>\n",
       "      <td>58</td>\n",
       "      <td>corsa</td>\n",
       "      <td>80000</td>\n",
       "      <td>1</td>\n",
       "      <td>petrol</td>\n",
       "      <td>opel</td>\n",
       "      <td>yes</td>\n",
       "      <td>0</td>\n",
       "      <td>59757</td>\n",
       "      <td>3</td>\n",
       "    </tr>\n",
       "    <tr>\n",
       "      <th>202884</th>\n",
       "      <td>sedan</td>\n",
       "      <td>2001</td>\n",
       "      <td>manual</td>\n",
       "      <td>140</td>\n",
       "      <td>omega</td>\n",
       "      <td>150000</td>\n",
       "      <td>6</td>\n",
       "      <td>petrol</td>\n",
       "      <td>opel</td>\n",
       "      <td>no</td>\n",
       "      <td>0</td>\n",
       "      <td>49084</td>\n",
       "      <td>4</td>\n",
       "    </tr>\n",
       "  </tbody>\n",
       "</table>\n",
       "</div>"
      ],
      "text/plain": [
       "       VehicleType  RegistrationYear  Gearbox  Power    Model  Mileage  \\\n",
       "62746        small              2007     auto     71   fortwo   125000   \n",
       "324587       small              2005   manual     60  2_reihe    70000   \n",
       "89315        small              2001   manual     60  1_reihe   150000   \n",
       "217912     unknown              2018  unknown     58    corsa    80000   \n",
       "202884       sedan              2001   manual    140    omega   150000   \n",
       "\n",
       "        RegistrationMonth FuelType    Brand NotRepaired  NumberOfPictures  \\\n",
       "62746                  12   petrol    smart          no                 0   \n",
       "324587                  1   petrol  peugeot          no                 0   \n",
       "89315                   6   petrol  peugeot          no                 0   \n",
       "217912                  1   petrol     opel         yes                 0   \n",
       "202884                  6   petrol     opel          no                 0   \n",
       "\n",
       "        PostalCode  DeltaDays  \n",
       "62746        71364         19  \n",
       "324587       13581          1  \n",
       "89315        80686          3  \n",
       "217912       59757          3  \n",
       "202884       49084          4  "
      ]
     },
     "execution_count": 16,
     "metadata": {},
     "output_type": "execute_result"
    }
   ],
   "source": [
    "features_train.head()"
   ]
  },
  {
   "cell_type": "code",
   "execution_count": 17,
   "metadata": {},
   "outputs": [
    {
     "data": {
      "text/plain": [
       "StandardScaler()"
      ]
     },
     "execution_count": 17,
     "metadata": {},
     "output_type": "execute_result"
    }
   ],
   "source": [
    "numeric_cols = ['RegistrationYear','Power','Mileage','RegistrationMonth','PostalCode','DeltaDays' ]\n",
    "\n",
    "scaler = StandardScaler()\n",
    "scaler.fit(features_train[numeric_cols])\n"
   ]
  },
  {
   "cell_type": "code",
   "execution_count": 18,
   "metadata": {},
   "outputs": [],
   "source": [
    "features_train[numeric_cols] = scaler.transform(features_train[numeric_cols])\n",
    "features_test[numeric_cols] = scaler.transform(features_test[numeric_cols])\n",
    "features_valid[numeric_cols] = scaler.transform(features_valid[numeric_cols])"
   ]
  },
  {
   "cell_type": "markdown",
   "metadata": {},
   "source": [
    "<div class=\"alert alert-success\">\n",
    "<b>Reviewer's comment</b>\n",
    "\n",
    "Scaling was applied correctly\n",
    "\n",
    "</div>"
   ]
  },
  {
   "cell_type": "code",
   "execution_count": 19,
   "metadata": {},
   "outputs": [
    {
     "data": {
      "text/html": [
       "<div>\n",
       "<style scoped>\n",
       "    .dataframe tbody tr th:only-of-type {\n",
       "        vertical-align: middle;\n",
       "    }\n",
       "\n",
       "    .dataframe tbody tr th {\n",
       "        vertical-align: top;\n",
       "    }\n",
       "\n",
       "    .dataframe thead th {\n",
       "        text-align: right;\n",
       "    }\n",
       "</style>\n",
       "<table border=\"1\" class=\"dataframe\">\n",
       "  <thead>\n",
       "    <tr style=\"text-align: right;\">\n",
       "      <th></th>\n",
       "      <th>VehicleType</th>\n",
       "      <th>RegistrationYear</th>\n",
       "      <th>Gearbox</th>\n",
       "      <th>Power</th>\n",
       "      <th>Model</th>\n",
       "      <th>Mileage</th>\n",
       "      <th>RegistrationMonth</th>\n",
       "      <th>FuelType</th>\n",
       "      <th>Brand</th>\n",
       "      <th>NotRepaired</th>\n",
       "      <th>NumberOfPictures</th>\n",
       "      <th>PostalCode</th>\n",
       "      <th>DeltaDays</th>\n",
       "    </tr>\n",
       "  </thead>\n",
       "  <tbody>\n",
       "    <tr>\n",
       "      <th>62746</th>\n",
       "      <td>small</td>\n",
       "      <td>0.030174</td>\n",
       "      <td>auto</td>\n",
       "      <td>-0.208856</td>\n",
       "      <td>fortwo</td>\n",
       "      <td>-0.085235</td>\n",
       "      <td>1.685739</td>\n",
       "      <td>petrol</td>\n",
       "      <td>smart</td>\n",
       "      <td>no</td>\n",
       "      <td>0</td>\n",
       "      <td>0.809488</td>\n",
       "      <td>1.186818</td>\n",
       "    </tr>\n",
       "    <tr>\n",
       "      <th>324587</th>\n",
       "      <td>small</td>\n",
       "      <td>0.008102</td>\n",
       "      <td>manual</td>\n",
       "      <td>-0.267675</td>\n",
       "      <td>2_reihe</td>\n",
       "      <td>-1.538183</td>\n",
       "      <td>-1.264328</td>\n",
       "      <td>petrol</td>\n",
       "      <td>peugeot</td>\n",
       "      <td>no</td>\n",
       "      <td>0</td>\n",
       "      <td>-1.432339</td>\n",
       "      <td>-0.880204</td>\n",
       "    </tr>\n",
       "    <tr>\n",
       "      <th>89315</th>\n",
       "      <td>small</td>\n",
       "      <td>-0.036042</td>\n",
       "      <td>manual</td>\n",
       "      <td>-0.267675</td>\n",
       "      <td>1_reihe</td>\n",
       "      <td>0.575197</td>\n",
       "      <td>0.076611</td>\n",
       "      <td>petrol</td>\n",
       "      <td>peugeot</td>\n",
       "      <td>no</td>\n",
       "      <td>0</td>\n",
       "      <td>1.171156</td>\n",
       "      <td>-0.650535</td>\n",
       "    </tr>\n",
       "    <tr>\n",
       "      <th>217912</th>\n",
       "      <td>unknown</td>\n",
       "      <td>0.151569</td>\n",
       "      <td>unknown</td>\n",
       "      <td>-0.278369</td>\n",
       "      <td>corsa</td>\n",
       "      <td>-1.274011</td>\n",
       "      <td>-1.264328</td>\n",
       "      <td>petrol</td>\n",
       "      <td>opel</td>\n",
       "      <td>yes</td>\n",
       "      <td>0</td>\n",
       "      <td>0.359167</td>\n",
       "      <td>-0.650535</td>\n",
       "    </tr>\n",
       "    <tr>\n",
       "      <th>202884</th>\n",
       "      <td>sedan</td>\n",
       "      <td>-0.036042</td>\n",
       "      <td>manual</td>\n",
       "      <td>0.160097</td>\n",
       "      <td>omega</td>\n",
       "      <td>0.575197</td>\n",
       "      <td>0.076611</td>\n",
       "      <td>petrol</td>\n",
       "      <td>opel</td>\n",
       "      <td>no</td>\n",
       "      <td>0</td>\n",
       "      <td>-0.054917</td>\n",
       "      <td>-0.535700</td>\n",
       "    </tr>\n",
       "  </tbody>\n",
       "</table>\n",
       "</div>"
      ],
      "text/plain": [
       "       VehicleType  RegistrationYear  Gearbox     Power    Model   Mileage  \\\n",
       "62746        small          0.030174     auto -0.208856   fortwo -0.085235   \n",
       "324587       small          0.008102   manual -0.267675  2_reihe -1.538183   \n",
       "89315        small         -0.036042   manual -0.267675  1_reihe  0.575197   \n",
       "217912     unknown          0.151569  unknown -0.278369    corsa -1.274011   \n",
       "202884       sedan         -0.036042   manual  0.160097    omega  0.575197   \n",
       "\n",
       "        RegistrationMonth FuelType    Brand NotRepaired  NumberOfPictures  \\\n",
       "62746            1.685739   petrol    smart          no                 0   \n",
       "324587          -1.264328   petrol  peugeot          no                 0   \n",
       "89315            0.076611   petrol  peugeot          no                 0   \n",
       "217912          -1.264328   petrol     opel         yes                 0   \n",
       "202884           0.076611   petrol     opel          no                 0   \n",
       "\n",
       "        PostalCode  DeltaDays  \n",
       "62746     0.809488   1.186818  \n",
       "324587   -1.432339  -0.880204  \n",
       "89315     1.171156  -0.650535  \n",
       "217912    0.359167  -0.650535  \n",
       "202884   -0.054917  -0.535700  "
      ]
     },
     "execution_count": 19,
     "metadata": {},
     "output_type": "execute_result"
    }
   ],
   "source": [
    "features_train.head()"
   ]
  },
  {
   "cell_type": "code",
   "execution_count": 20,
   "metadata": {},
   "outputs": [],
   "source": [
    "categ_fiatures = list(features.loc[:, features.dtypes == 'object'].columns.values)"
   ]
  },
  {
   "cell_type": "code",
   "execution_count": 21,
   "metadata": {},
   "outputs": [
    {
     "data": {
      "text/plain": [
       "['VehicleType', 'Gearbox', 'Model', 'FuelType', 'Brand', 'NotRepaired']"
      ]
     },
     "execution_count": 21,
     "metadata": {},
     "output_type": "execute_result"
    }
   ],
   "source": [
    "categ_fiatures"
   ]
  },
  {
   "cell_type": "markdown",
   "metadata": {},
   "source": [
    "Categorical feature encoding will not be performed at this stage as various algorithms necessitate distinct encoding methods or have their own built-in implementations."
   ]
  },
  {
   "cell_type": "markdown",
   "metadata": {},
   "source": [
    "<div class=\"alert alert-success\">\n",
    "<b>Reviewer's comment</b>\n",
    "\n",
    "Ok!\n",
    "\n",
    "</div>"
   ]
  },
  {
   "cell_type": "markdown",
   "metadata": {},
   "source": [
    "## Model training"
   ]
  },
  {
   "cell_type": "markdown",
   "metadata": {},
   "source": [
    "**LightGBM**\n",
    "\n",
    "Given that this algorithm possesses its own implementation of feature encoding, it is advisable to alter the data type of certain columns to 'category'."
   ]
  },
  {
   "cell_type": "code",
   "execution_count": 22,
   "metadata": {},
   "outputs": [],
   "source": [
    "for column in categ_fiatures:\n",
    "    features_train[column] = pd.Series(features_train[column], dtype=\"category\")\n",
    "    features_test[column] = pd.Series(features_test[column], dtype=\"category\")\n",
    "    features_valid[column] = pd.Series(features_valid[column], dtype=\"category\")"
   ]
  },
  {
   "cell_type": "code",
   "execution_count": 23,
   "metadata": {},
   "outputs": [
    {
     "name": "stdout",
     "output_type": "stream",
     "text": [
      "<class 'pandas.core.frame.DataFrame'>\n",
      "Int64Index: 212464 entries, 62746 to 217680\n",
      "Data columns (total 13 columns):\n",
      " #   Column             Non-Null Count   Dtype   \n",
      "---  ------             --------------   -----   \n",
      " 0   VehicleType        212464 non-null  category\n",
      " 1   RegistrationYear   212464 non-null  float64 \n",
      " 2   Gearbox            212464 non-null  category\n",
      " 3   Power              212464 non-null  float64 \n",
      " 4   Model              212464 non-null  category\n",
      " 5   Mileage            212464 non-null  float64 \n",
      " 6   RegistrationMonth  212464 non-null  float64 \n",
      " 7   FuelType           212464 non-null  category\n",
      " 8   Brand              212464 non-null  category\n",
      " 9   NotRepaired        212464 non-null  category\n",
      " 10  NumberOfPictures   212464 non-null  int64   \n",
      " 11  PostalCode         212464 non-null  float64 \n",
      " 12  DeltaDays          212464 non-null  float64 \n",
      "dtypes: category(6), float64(6), int64(1)\n",
      "memory usage: 14.4 MB\n"
     ]
    }
   ],
   "source": [
    "features_train.info()"
   ]
  },
  {
   "cell_type": "markdown",
   "metadata": {},
   "source": [
    "Let us proceed with training a model using two distinct sets of parameters and observe the duration it takes."
   ]
  },
  {
   "cell_type": "code",
   "execution_count": 24,
   "metadata": {},
   "outputs": [],
   "source": [
    "# defining parameters \n",
    "params1 = {\n",
    "    'task': 'train', \n",
    "    'boosting': 'gbdt',\n",
    "    'objective': 'regression',\n",
    "    'num_leaves': 1000,\n",
    "    'learning_rate': 0.05,\n",
    "    'metric': 'root_mean_squared_error',\n",
    "}\n",
    "lgb_train = lgb.Dataset(features_train, target_train,  categorical_feature=categ_fiatures)\n",
    "lgb_eval = lgb.Dataset(features_valid, target_valid, reference=lgb_train,  categorical_feature=categ_fiatures)"
   ]
  },
  {
   "cell_type": "code",
   "execution_count": 25,
   "metadata": {},
   "outputs": [
    {
     "name": "stdout",
     "output_type": "stream",
     "text": [
      "[LightGBM] [Warning] Auto-choosing row-wise multi-threading, the overhead of testing was 0.009087 seconds.\n",
      "You can set `force_row_wise=true` to remove the overhead.\n",
      "And if memory is not enough, you can set `force_col_wise=true`.\n",
      "[LightGBM] [Info] Total Bins 1019\n",
      "[LightGBM] [Info] Number of data points in the train set: 212464, number of used features: 12\n",
      "[LightGBM] [Info] Start training from score 4419.930699\n",
      "[1]\tvalid_0's rmse: 4311\n",
      "[2]\tvalid_0's rmse: 4140.32\n",
      "[3]\tvalid_0's rmse: 3979.53\n",
      "[4]\tvalid_0's rmse: 3828.15\n",
      "[5]\tvalid_0's rmse: 3685.78\n",
      "[6]\tvalid_0's rmse: 3551.89\n",
      "[7]\tvalid_0's rmse: 3425.96\n",
      "[8]\tvalid_0's rmse: 3307.88\n",
      "[9]\tvalid_0's rmse: 3196.66\n",
      "[10]\tvalid_0's rmse: 3092.58\n",
      "[11]\tvalid_0's rmse: 2994.95\n",
      "[12]\tvalid_0's rmse: 2903.6\n",
      "[13]\tvalid_0's rmse: 2818.57\n",
      "[14]\tvalid_0's rmse: 2738.59\n",
      "[15]\tvalid_0's rmse: 2664.09\n",
      "[16]\tvalid_0's rmse: 2594.51\n",
      "[17]\tvalid_0's rmse: 2528.18\n",
      "[18]\tvalid_0's rmse: 2467.27\n",
      "[19]\tvalid_0's rmse: 2409.72\n",
      "[20]\tvalid_0's rmse: 2356.51\n",
      "[21]\tvalid_0's rmse: 2306.26\n",
      "[22]\tvalid_0's rmse: 2259.72\n",
      "[23]\tvalid_0's rmse: 2217.02\n",
      "[24]\tvalid_0's rmse: 2177.34\n",
      "[25]\tvalid_0's rmse: 2140.72\n",
      "[26]\tvalid_0's rmse: 2105.96\n",
      "[27]\tvalid_0's rmse: 2074.3\n",
      "[28]\tvalid_0's rmse: 2044.2\n",
      "[29]\tvalid_0's rmse: 2016.68\n",
      "[30]\tvalid_0's rmse: 1990.88\n",
      "[31]\tvalid_0's rmse: 1966.98\n",
      "[32]\tvalid_0's rmse: 1945.03\n",
      "[33]\tvalid_0's rmse: 1924.35\n",
      "[34]\tvalid_0's rmse: 1905.49\n",
      "[35]\tvalid_0's rmse: 1888.01\n",
      "[36]\tvalid_0's rmse: 1871.77\n",
      "[37]\tvalid_0's rmse: 1856.46\n",
      "[38]\tvalid_0's rmse: 1842.72\n",
      "[39]\tvalid_0's rmse: 1829.78\n",
      "[40]\tvalid_0's rmse: 1817.62\n",
      "[41]\tvalid_0's rmse: 1806.35\n",
      "[42]\tvalid_0's rmse: 1795.99\n",
      "[43]\tvalid_0's rmse: 1786.5\n",
      "[44]\tvalid_0's rmse: 1777.99\n",
      "[45]\tvalid_0's rmse: 1769.84\n",
      "[46]\tvalid_0's rmse: 1762.58\n",
      "[47]\tvalid_0's rmse: 1755.58\n",
      "[48]\tvalid_0's rmse: 1748.97\n",
      "[49]\tvalid_0's rmse: 1743.04\n",
      "[50]\tvalid_0's rmse: 1737.35\n",
      "[51]\tvalid_0's rmse: 1732.16\n",
      "[52]\tvalid_0's rmse: 1727.25\n",
      "[53]\tvalid_0's rmse: 1722.93\n",
      "[54]\tvalid_0's rmse: 1718.45\n",
      "[55]\tvalid_0's rmse: 1714.42\n",
      "[56]\tvalid_0's rmse: 1710.91\n",
      "[57]\tvalid_0's rmse: 1707.4\n",
      "[58]\tvalid_0's rmse: 1704.16\n",
      "[59]\tvalid_0's rmse: 1701\n",
      "[60]\tvalid_0's rmse: 1698.13\n",
      "[61]\tvalid_0's rmse: 1695.37\n",
      "[62]\tvalid_0's rmse: 1692.74\n",
      "[63]\tvalid_0's rmse: 1690.55\n",
      "[64]\tvalid_0's rmse: 1688.56\n",
      "[65]\tvalid_0's rmse: 1686.47\n",
      "[66]\tvalid_0's rmse: 1684.55\n",
      "[67]\tvalid_0's rmse: 1682.74\n",
      "[68]\tvalid_0's rmse: 1681.01\n",
      "[69]\tvalid_0's rmse: 1679.35\n",
      "[70]\tvalid_0's rmse: 1677.79\n",
      "[71]\tvalid_0's rmse: 1676.56\n",
      "[72]\tvalid_0's rmse: 1675.04\n",
      "[73]\tvalid_0's rmse: 1673.68\n",
      "[74]\tvalid_0's rmse: 1672.54\n",
      "[75]\tvalid_0's rmse: 1671.38\n",
      "[76]\tvalid_0's rmse: 1670.2\n",
      "[77]\tvalid_0's rmse: 1669.05\n",
      "[78]\tvalid_0's rmse: 1667.73\n",
      "[79]\tvalid_0's rmse: 1666.51\n",
      "[80]\tvalid_0's rmse: 1665.47\n",
      "[81]\tvalid_0's rmse: 1664.58\n",
      "[82]\tvalid_0's rmse: 1663.82\n",
      "[83]\tvalid_0's rmse: 1663.06\n",
      "[84]\tvalid_0's rmse: 1661.93\n",
      "[85]\tvalid_0's rmse: 1661.2\n",
      "[86]\tvalid_0's rmse: 1660.4\n",
      "[87]\tvalid_0's rmse: 1659.46\n",
      "[88]\tvalid_0's rmse: 1658.84\n",
      "[89]\tvalid_0's rmse: 1658.15\n",
      "[90]\tvalid_0's rmse: 1657.4\n",
      "[91]\tvalid_0's rmse: 1656.79\n",
      "[92]\tvalid_0's rmse: 1656.4\n",
      "[93]\tvalid_0's rmse: 1655.89\n",
      "[94]\tvalid_0's rmse: 1655.51\n",
      "[95]\tvalid_0's rmse: 1654.95\n",
      "[96]\tvalid_0's rmse: 1654.44\n",
      "[97]\tvalid_0's rmse: 1653.89\n",
      "[98]\tvalid_0's rmse: 1653.36\n",
      "[99]\tvalid_0's rmse: 1652.86\n",
      "[100]\tvalid_0's rmse: 1652.48\n",
      "CPU times: user 41 s, sys: 463 ms, total: 41.4 s\n",
      "Wall time: 41.8 s\n"
     ]
    }
   ],
   "source": [
    "%%time\n",
    "# fitting the model\n",
    "lgb1 = lgb.train(params1,\n",
    "                 train_set=lgb_train,\n",
    "                 valid_sets=lgb_eval)\n",
    "  "
   ]
  },
  {
   "cell_type": "code",
   "execution_count": 26,
   "metadata": {},
   "outputs": [],
   "source": [
    "# defining parameters \n",
    "params2 = {\n",
    "    'task': 'train', \n",
    "    'boosting': 'gbdt',\n",
    "    'objective': 'regression',\n",
    "    'num_leaves': 500,\n",
    "    'learning_rate': 0.1,\n",
    "    'metric': 'root_mean_squared_error'\n",
    "}\n",
    "lgb_train = lgb.Dataset(features_train, target_train,  categorical_feature=categ_fiatures)\n",
    "lgb_eval = lgb.Dataset(features_valid, target_valid, reference=lgb_train,  categorical_feature=categ_fiatures)\n",
    "\n"
   ]
  },
  {
   "cell_type": "code",
   "execution_count": 27,
   "metadata": {},
   "outputs": [
    {
     "name": "stdout",
     "output_type": "stream",
     "text": [
      "[LightGBM] [Warning] Auto-choosing row-wise multi-threading, the overhead of testing was 0.008261 seconds.\n",
      "You can set `force_row_wise=true` to remove the overhead.\n",
      "And if memory is not enough, you can set `force_col_wise=true`.\n",
      "[LightGBM] [Info] Total Bins 1019\n",
      "[LightGBM] [Info] Number of data points in the train set: 212464, number of used features: 12\n",
      "[LightGBM] [Info] Start training from score 4419.930699\n",
      "[1]\tvalid_0's rmse: 4136.41\n",
      "[2]\tvalid_0's rmse: 3822.61\n",
      "[3]\tvalid_0's rmse: 3545.76\n",
      "[4]\tvalid_0's rmse: 3301.79\n",
      "[5]\tvalid_0's rmse: 3087.85\n",
      "[6]\tvalid_0's rmse: 2900.87\n",
      "[7]\tvalid_0's rmse: 2734.81\n",
      "[8]\tvalid_0's rmse: 2590.39\n",
      "[9]\tvalid_0's rmse: 2465.04\n",
      "[10]\tvalid_0's rmse: 2356.1\n",
      "[11]\tvalid_0's rmse: 2263.01\n",
      "[12]\tvalid_0's rmse: 2181.53\n",
      "[13]\tvalid_0's rmse: 2112.67\n",
      "[14]\tvalid_0's rmse: 2051.08\n",
      "[15]\tvalid_0's rmse: 1999.38\n",
      "[16]\tvalid_0's rmse: 1955.78\n",
      "[17]\tvalid_0's rmse: 1917.34\n",
      "[18]\tvalid_0's rmse: 1884.37\n",
      "[19]\tvalid_0's rmse: 1856.47\n",
      "[20]\tvalid_0's rmse: 1831.52\n",
      "[21]\tvalid_0's rmse: 1810.67\n",
      "[22]\tvalid_0's rmse: 1792.28\n",
      "[23]\tvalid_0's rmse: 1776.37\n",
      "[24]\tvalid_0's rmse: 1763.03\n",
      "[25]\tvalid_0's rmse: 1751.18\n",
      "[26]\tvalid_0's rmse: 1741\n",
      "[27]\tvalid_0's rmse: 1732.26\n",
      "[28]\tvalid_0's rmse: 1724.47\n",
      "[29]\tvalid_0's rmse: 1717.81\n",
      "[30]\tvalid_0's rmse: 1712.12\n",
      "[31]\tvalid_0's rmse: 1706.74\n",
      "[32]\tvalid_0's rmse: 1702.48\n",
      "[33]\tvalid_0's rmse: 1697.99\n",
      "[34]\tvalid_0's rmse: 1694.73\n",
      "[35]\tvalid_0's rmse: 1691.15\n",
      "[36]\tvalid_0's rmse: 1687.87\n",
      "[37]\tvalid_0's rmse: 1685.61\n",
      "[38]\tvalid_0's rmse: 1682.69\n",
      "[39]\tvalid_0's rmse: 1680.15\n",
      "[40]\tvalid_0's rmse: 1678.41\n",
      "[41]\tvalid_0's rmse: 1676.22\n",
      "[42]\tvalid_0's rmse: 1674.53\n",
      "[43]\tvalid_0's rmse: 1673.03\n",
      "[44]\tvalid_0's rmse: 1671.6\n",
      "[45]\tvalid_0's rmse: 1670.66\n",
      "[46]\tvalid_0's rmse: 1669.83\n",
      "[47]\tvalid_0's rmse: 1668.97\n",
      "[48]\tvalid_0's rmse: 1668.13\n",
      "[49]\tvalid_0's rmse: 1667.2\n",
      "[50]\tvalid_0's rmse: 1666.16\n",
      "[51]\tvalid_0's rmse: 1665.11\n",
      "[52]\tvalid_0's rmse: 1664.83\n",
      "[53]\tvalid_0's rmse: 1663.96\n",
      "[54]\tvalid_0's rmse: 1663.47\n",
      "[55]\tvalid_0's rmse: 1663.22\n",
      "[56]\tvalid_0's rmse: 1662.91\n",
      "[57]\tvalid_0's rmse: 1662.81\n",
      "[58]\tvalid_0's rmse: 1662.19\n",
      "[59]\tvalid_0's rmse: 1661.72\n",
      "[60]\tvalid_0's rmse: 1661.48\n",
      "[61]\tvalid_0's rmse: 1660.92\n",
      "[62]\tvalid_0's rmse: 1660.31\n",
      "[63]\tvalid_0's rmse: 1660.28\n",
      "[64]\tvalid_0's rmse: 1659.51\n",
      "[65]\tvalid_0's rmse: 1658.65\n",
      "[66]\tvalid_0's rmse: 1658.5\n",
      "[67]\tvalid_0's rmse: 1658.02\n",
      "[68]\tvalid_0's rmse: 1657.93\n",
      "[69]\tvalid_0's rmse: 1657.56\n",
      "[70]\tvalid_0's rmse: 1657.44\n",
      "[71]\tvalid_0's rmse: 1657.02\n",
      "[72]\tvalid_0's rmse: 1656.46\n",
      "[73]\tvalid_0's rmse: 1656.24\n",
      "[74]\tvalid_0's rmse: 1656.01\n",
      "[75]\tvalid_0's rmse: 1655.69\n",
      "[76]\tvalid_0's rmse: 1655.65\n",
      "[77]\tvalid_0's rmse: 1655.03\n",
      "[78]\tvalid_0's rmse: 1654.3\n",
      "[79]\tvalid_0's rmse: 1654.13\n",
      "[80]\tvalid_0's rmse: 1654.16\n",
      "[81]\tvalid_0's rmse: 1653.74\n",
      "[82]\tvalid_0's rmse: 1653.12\n",
      "[83]\tvalid_0's rmse: 1652.74\n",
      "[84]\tvalid_0's rmse: 1652.43\n",
      "[85]\tvalid_0's rmse: 1652.07\n",
      "[86]\tvalid_0's rmse: 1651.78\n",
      "[87]\tvalid_0's rmse: 1651.65\n",
      "[88]\tvalid_0's rmse: 1651.49\n",
      "[89]\tvalid_0's rmse: 1651.31\n",
      "[90]\tvalid_0's rmse: 1651.15\n",
      "[91]\tvalid_0's rmse: 1650.84\n",
      "[92]\tvalid_0's rmse: 1650.56\n",
      "[93]\tvalid_0's rmse: 1650.43\n",
      "[94]\tvalid_0's rmse: 1650.3\n",
      "[95]\tvalid_0's rmse: 1650.39\n",
      "[96]\tvalid_0's rmse: 1650.47\n",
      "[97]\tvalid_0's rmse: 1650.23\n",
      "[98]\tvalid_0's rmse: 1649.94\n",
      "[99]\tvalid_0's rmse: 1649.76\n",
      "[100]\tvalid_0's rmse: 1649.5\n",
      "CPU times: user 28.5 s, sys: 313 ms, total: 28.8 s\n",
      "Wall time: 29 s\n"
     ]
    }
   ],
   "source": [
    "%%time\n",
    "lgb2 = lgb.train(params2,\n",
    "                train_set=lgb_train, valid_sets=lgb_eval)"
   ]
  },
  {
   "cell_type": "markdown",
   "metadata": {},
   "source": [
    "**CatBoost**\n",
    "\n",
    "This algorithm possesses its unique implementation of encoding categorical features."
   ]
  },
  {
   "cell_type": "code",
   "execution_count": 28,
   "metadata": {
    "scrolled": true
   },
   "outputs": [
    {
     "name": "stdout",
     "output_type": "stream",
     "text": [
      "Learning rate set to 0.254092\n",
      "0:\tlearn: 3829.5157764\ttotal: 618ms\tremaining: 3m 4s\n",
      "1:\tlearn: 3351.9088222\ttotal: 1.24s\tremaining: 3m 4s\n",
      "2:\tlearn: 3000.6308974\ttotal: 1.74s\tremaining: 2m 52s\n",
      "3:\tlearn: 2741.1843109\ttotal: 2.15s\tremaining: 2m 38s\n",
      "4:\tlearn: 2568.7118042\ttotal: 2.62s\tremaining: 2m 34s\n",
      "5:\tlearn: 2436.7246243\ttotal: 3.16s\tremaining: 2m 34s\n",
      "6:\tlearn: 2341.4080738\ttotal: 3.66s\tremaining: 2m 33s\n",
      "7:\tlearn: 2260.9153642\ttotal: 4.17s\tremaining: 2m 32s\n",
      "8:\tlearn: 2203.7549591\ttotal: 4.59s\tremaining: 2m 28s\n",
      "9:\tlearn: 2158.8011820\ttotal: 5.01s\tremaining: 2m 25s\n",
      "10:\tlearn: 2130.1556491\ttotal: 5.46s\tremaining: 2m 23s\n",
      "11:\tlearn: 2104.2713801\ttotal: 5.93s\tremaining: 2m 22s\n",
      "12:\tlearn: 2085.7228730\ttotal: 6.36s\tremaining: 2m 20s\n",
      "13:\tlearn: 2065.8947737\ttotal: 6.71s\tremaining: 2m 17s\n",
      "14:\tlearn: 2050.8575997\ttotal: 7.17s\tremaining: 2m 16s\n",
      "15:\tlearn: 2036.2852110\ttotal: 7.66s\tremaining: 2m 15s\n",
      "16:\tlearn: 2026.9754076\ttotal: 8.09s\tremaining: 2m 14s\n",
      "17:\tlearn: 2018.3891240\ttotal: 8.5s\tremaining: 2m 13s\n",
      "18:\tlearn: 2007.9756148\ttotal: 8.95s\tremaining: 2m 12s\n",
      "19:\tlearn: 2000.0659826\ttotal: 9.37s\tremaining: 2m 11s\n",
      "20:\tlearn: 1993.8243547\ttotal: 9.72s\tremaining: 2m 9s\n",
      "21:\tlearn: 1987.8742896\ttotal: 10.1s\tremaining: 2m 8s\n",
      "22:\tlearn: 1975.7184640\ttotal: 10.6s\tremaining: 2m 7s\n",
      "23:\tlearn: 1967.1861912\ttotal: 11.1s\tremaining: 2m 7s\n",
      "24:\tlearn: 1958.3237683\ttotal: 11.6s\tremaining: 2m 7s\n",
      "25:\tlearn: 1949.5669883\ttotal: 12.1s\tremaining: 2m 7s\n",
      "26:\tlearn: 1944.7368160\ttotal: 12.5s\tremaining: 2m 6s\n",
      "27:\tlearn: 1938.8267503\ttotal: 12.9s\tremaining: 2m 5s\n",
      "28:\tlearn: 1933.6515981\ttotal: 13.3s\tremaining: 2m 4s\n",
      "29:\tlearn: 1930.9141528\ttotal: 13.8s\tremaining: 2m 3s\n",
      "30:\tlearn: 1922.9955059\ttotal: 14.2s\tremaining: 2m 3s\n",
      "31:\tlearn: 1918.2633638\ttotal: 14.7s\tremaining: 2m 3s\n",
      "32:\tlearn: 1912.2392835\ttotal: 15.2s\tremaining: 2m 2s\n",
      "33:\tlearn: 1907.6513984\ttotal: 15.6s\tremaining: 2m 2s\n",
      "34:\tlearn: 1904.5030445\ttotal: 16s\tremaining: 2m 1s\n",
      "35:\tlearn: 1901.3732021\ttotal: 16.5s\tremaining: 2m\n",
      "36:\tlearn: 1895.2334071\ttotal: 16.9s\tremaining: 2m\n",
      "37:\tlearn: 1891.7442547\ttotal: 17.4s\tremaining: 2m\n",
      "38:\tlearn: 1888.4968398\ttotal: 17.8s\tremaining: 1m 59s\n",
      "39:\tlearn: 1884.9329646\ttotal: 18.2s\tremaining: 1m 58s\n",
      "40:\tlearn: 1882.2802828\ttotal: 18.6s\tremaining: 1m 57s\n",
      "41:\tlearn: 1878.4742727\ttotal: 19.1s\tremaining: 1m 57s\n",
      "42:\tlearn: 1876.0108464\ttotal: 19.5s\tremaining: 1m 56s\n",
      "43:\tlearn: 1874.2239391\ttotal: 20s\tremaining: 1m 56s\n",
      "44:\tlearn: 1872.4168703\ttotal: 20.4s\tremaining: 1m 55s\n",
      "45:\tlearn: 1868.0965948\ttotal: 20.9s\tremaining: 1m 55s\n",
      "46:\tlearn: 1864.7204151\ttotal: 21.2s\tremaining: 1m 54s\n",
      "47:\tlearn: 1862.0068792\ttotal: 21.7s\tremaining: 1m 54s\n",
      "48:\tlearn: 1860.0593300\ttotal: 22.2s\tremaining: 1m 53s\n",
      "49:\tlearn: 1856.5158384\ttotal: 22.7s\tremaining: 1m 53s\n",
      "50:\tlearn: 1854.2768035\ttotal: 23.1s\tremaining: 1m 52s\n",
      "51:\tlearn: 1852.1306454\ttotal: 23.5s\tremaining: 1m 52s\n",
      "52:\tlearn: 1849.8056291\ttotal: 23.9s\tremaining: 1m 51s\n",
      "53:\tlearn: 1848.4955529\ttotal: 24.4s\tremaining: 1m 51s\n",
      "54:\tlearn: 1845.9074673\ttotal: 24.9s\tremaining: 1m 50s\n",
      "55:\tlearn: 1844.4531714\ttotal: 25.3s\tremaining: 1m 50s\n",
      "56:\tlearn: 1842.7812325\ttotal: 25.8s\tremaining: 1m 50s\n",
      "57:\tlearn: 1840.6636471\ttotal: 26.3s\tremaining: 1m 49s\n",
      "58:\tlearn: 1838.7848974\ttotal: 26.7s\tremaining: 1m 48s\n",
      "59:\tlearn: 1836.4391787\ttotal: 27.1s\tremaining: 1m 48s\n",
      "60:\tlearn: 1834.5074899\ttotal: 27.5s\tremaining: 1m 47s\n",
      "61:\tlearn: 1832.2652473\ttotal: 27.9s\tremaining: 1m 46s\n",
      "62:\tlearn: 1829.2200379\ttotal: 28.3s\tremaining: 1m 46s\n",
      "63:\tlearn: 1826.8052993\ttotal: 28.7s\tremaining: 1m 45s\n",
      "64:\tlearn: 1824.6086900\ttotal: 29.1s\tremaining: 1m 45s\n",
      "65:\tlearn: 1822.7969461\ttotal: 29.6s\tremaining: 1m 44s\n",
      "66:\tlearn: 1820.5103295\ttotal: 30s\tremaining: 1m 44s\n",
      "67:\tlearn: 1818.5345599\ttotal: 30.5s\tremaining: 1m 44s\n",
      "68:\tlearn: 1816.5915738\ttotal: 31s\tremaining: 1m 43s\n",
      "69:\tlearn: 1814.9366413\ttotal: 31.5s\tremaining: 1m 43s\n",
      "70:\tlearn: 1813.0133477\ttotal: 31.9s\tremaining: 1m 42s\n",
      "71:\tlearn: 1811.7849642\ttotal: 32.3s\tremaining: 1m 42s\n",
      "72:\tlearn: 1809.7474045\ttotal: 32.7s\tremaining: 1m 41s\n",
      "73:\tlearn: 1806.7596672\ttotal: 33.1s\tremaining: 1m 41s\n",
      "74:\tlearn: 1805.8752398\ttotal: 33.5s\tremaining: 1m 40s\n",
      "75:\tlearn: 1804.1926689\ttotal: 33.9s\tremaining: 1m 40s\n",
      "76:\tlearn: 1803.3134230\ttotal: 34.3s\tremaining: 1m 39s\n",
      "77:\tlearn: 1802.3581497\ttotal: 34.7s\tremaining: 1m 38s\n",
      "78:\tlearn: 1801.0070292\ttotal: 35.1s\tremaining: 1m 38s\n",
      "79:\tlearn: 1799.7766415\ttotal: 35.6s\tremaining: 1m 37s\n",
      "80:\tlearn: 1797.4951361\ttotal: 36s\tremaining: 1m 37s\n",
      "81:\tlearn: 1796.3160155\ttotal: 36.5s\tremaining: 1m 36s\n",
      "82:\tlearn: 1796.1426346\ttotal: 36.8s\tremaining: 1m 36s\n",
      "83:\tlearn: 1795.0133091\ttotal: 37.3s\tremaining: 1m 35s\n",
      "84:\tlearn: 1794.5803130\ttotal: 37.7s\tremaining: 1m 35s\n",
      "85:\tlearn: 1793.1222126\ttotal: 38.2s\tremaining: 1m 35s\n",
      "86:\tlearn: 1792.3162586\ttotal: 38.6s\tremaining: 1m 34s\n",
      "87:\tlearn: 1790.1033471\ttotal: 39.1s\tremaining: 1m 34s\n",
      "88:\tlearn: 1789.2156751\ttotal: 39.5s\tremaining: 1m 33s\n",
      "89:\tlearn: 1788.2263462\ttotal: 40s\tremaining: 1m 33s\n",
      "90:\tlearn: 1787.2606461\ttotal: 40.4s\tremaining: 1m 32s\n",
      "91:\tlearn: 1786.0133316\ttotal: 40.8s\tremaining: 1m 32s\n",
      "92:\tlearn: 1784.5629947\ttotal: 41.3s\tremaining: 1m 31s\n",
      "93:\tlearn: 1783.9788691\ttotal: 41.7s\tremaining: 1m 31s\n",
      "94:\tlearn: 1782.8427292\ttotal: 42.2s\tremaining: 1m 31s\n",
      "95:\tlearn: 1781.5426124\ttotal: 42.8s\tremaining: 1m 30s\n",
      "96:\tlearn: 1780.8274256\ttotal: 43.2s\tremaining: 1m 30s\n",
      "97:\tlearn: 1779.7795948\ttotal: 43.7s\tremaining: 1m 30s\n",
      "98:\tlearn: 1778.6568619\ttotal: 44s\tremaining: 1m 29s\n",
      "99:\tlearn: 1778.3875351\ttotal: 44.4s\tremaining: 1m 28s\n",
      "100:\tlearn: 1777.9040639\ttotal: 44.8s\tremaining: 1m 28s\n",
      "101:\tlearn: 1776.6385533\ttotal: 45.3s\tremaining: 1m 27s\n",
      "102:\tlearn: 1775.6300133\ttotal: 45.7s\tremaining: 1m 27s\n",
      "103:\tlearn: 1774.8256712\ttotal: 46.2s\tremaining: 1m 27s\n",
      "104:\tlearn: 1774.4630692\ttotal: 46.6s\tremaining: 1m 26s\n",
      "105:\tlearn: 1773.4701066\ttotal: 47s\tremaining: 1m 26s\n",
      "106:\tlearn: 1772.0571679\ttotal: 47.4s\tremaining: 1m 25s\n",
      "107:\tlearn: 1771.4971552\ttotal: 47.9s\tremaining: 1m 25s\n",
      "108:\tlearn: 1770.5205572\ttotal: 48.3s\tremaining: 1m 24s\n",
      "109:\tlearn: 1769.7799747\ttotal: 48.8s\tremaining: 1m 24s\n",
      "110:\tlearn: 1768.7050369\ttotal: 49.2s\tremaining: 1m 23s\n",
      "111:\tlearn: 1767.8180408\ttotal: 49.6s\tremaining: 1m 23s\n",
      "112:\tlearn: 1766.7507548\ttotal: 50s\tremaining: 1m 22s\n",
      "113:\tlearn: 1766.0152542\ttotal: 50.5s\tremaining: 1m 22s\n",
      "114:\tlearn: 1765.4098887\ttotal: 50.9s\tremaining: 1m 21s\n",
      "115:\tlearn: 1764.9293693\ttotal: 51.4s\tremaining: 1m 21s\n",
      "116:\tlearn: 1764.2695980\ttotal: 51.8s\tremaining: 1m 21s\n",
      "117:\tlearn: 1763.4046982\ttotal: 52.3s\tremaining: 1m 20s\n",
      "118:\tlearn: 1762.8041681\ttotal: 52.8s\tremaining: 1m 20s\n",
      "119:\tlearn: 1761.9889578\ttotal: 53.3s\tremaining: 1m 19s\n",
      "120:\tlearn: 1761.4798100\ttotal: 53.7s\tremaining: 1m 19s\n",
      "121:\tlearn: 1760.6071452\ttotal: 54.2s\tremaining: 1m 19s\n",
      "122:\tlearn: 1760.5275921\ttotal: 54.5s\tremaining: 1m 18s\n",
      "123:\tlearn: 1759.6683383\ttotal: 55s\tremaining: 1m 18s\n",
      "124:\tlearn: 1758.4413797\ttotal: 55.5s\tremaining: 1m 17s\n",
      "125:\tlearn: 1757.7780954\ttotal: 55.9s\tremaining: 1m 17s\n",
      "126:\tlearn: 1756.9560208\ttotal: 56.4s\tremaining: 1m 16s\n",
      "127:\tlearn: 1755.8090207\ttotal: 56.9s\tremaining: 1m 16s\n",
      "128:\tlearn: 1755.1101788\ttotal: 57.3s\tremaining: 1m 15s\n",
      "129:\tlearn: 1753.4968405\ttotal: 57.8s\tremaining: 1m 15s\n",
      "130:\tlearn: 1752.4930194\ttotal: 58.2s\tremaining: 1m 15s\n",
      "131:\tlearn: 1751.8312360\ttotal: 58.6s\tremaining: 1m 14s\n",
      "132:\tlearn: 1751.0938277\ttotal: 59s\tremaining: 1m 14s\n",
      "133:\tlearn: 1750.3680621\ttotal: 59.5s\tremaining: 1m 13s\n",
      "134:\tlearn: 1749.4380526\ttotal: 59.8s\tremaining: 1m 13s\n",
      "135:\tlearn: 1748.8429621\ttotal: 1m\tremaining: 1m 12s\n",
      "136:\tlearn: 1748.1831383\ttotal: 1m\tremaining: 1m 12s\n",
      "137:\tlearn: 1747.1779549\ttotal: 1m 1s\tremaining: 1m 11s\n",
      "138:\tlearn: 1746.4298101\ttotal: 1m 1s\tremaining: 1m 11s\n",
      "139:\tlearn: 1745.7653273\ttotal: 1m 1s\tremaining: 1m 10s\n",
      "140:\tlearn: 1745.5479775\ttotal: 1m 2s\tremaining: 1m 10s\n",
      "141:\tlearn: 1744.4021208\ttotal: 1m 2s\tremaining: 1m 9s\n",
      "142:\tlearn: 1743.3072115\ttotal: 1m 3s\tremaining: 1m 9s\n",
      "143:\tlearn: 1742.9896228\ttotal: 1m 3s\tremaining: 1m 8s\n",
      "144:\tlearn: 1742.1111464\ttotal: 1m 3s\tremaining: 1m 8s\n",
      "145:\tlearn: 1741.5175851\ttotal: 1m 4s\tremaining: 1m 7s\n",
      "146:\tlearn: 1741.2278201\ttotal: 1m 4s\tremaining: 1m 7s\n",
      "147:\tlearn: 1740.5002773\ttotal: 1m 5s\tremaining: 1m 7s\n",
      "148:\tlearn: 1740.1587278\ttotal: 1m 5s\tremaining: 1m 6s\n",
      "149:\tlearn: 1739.5932997\ttotal: 1m 6s\tremaining: 1m 6s\n",
      "150:\tlearn: 1738.6994996\ttotal: 1m 6s\tremaining: 1m 5s\n",
      "151:\tlearn: 1737.6227899\ttotal: 1m 7s\tremaining: 1m 5s\n",
      "152:\tlearn: 1736.5328416\ttotal: 1m 7s\tremaining: 1m 4s\n",
      "153:\tlearn: 1735.9283413\ttotal: 1m 7s\tremaining: 1m 4s\n",
      "154:\tlearn: 1734.9933009\ttotal: 1m 8s\tremaining: 1m 3s\n",
      "155:\tlearn: 1734.0432194\ttotal: 1m 8s\tremaining: 1m 3s\n",
      "156:\tlearn: 1733.1678928\ttotal: 1m 9s\tremaining: 1m 3s\n",
      "157:\tlearn: 1732.8633176\ttotal: 1m 9s\tremaining: 1m 2s\n",
      "158:\tlearn: 1731.9511688\ttotal: 1m 9s\tremaining: 1m 2s\n",
      "159:\tlearn: 1731.7825854\ttotal: 1m 10s\tremaining: 1m 1s\n",
      "160:\tlearn: 1730.9842016\ttotal: 1m 10s\tremaining: 1m 1s\n",
      "161:\tlearn: 1730.1881650\ttotal: 1m 11s\tremaining: 1m\n",
      "162:\tlearn: 1729.7124399\ttotal: 1m 11s\tremaining: 1m\n",
      "163:\tlearn: 1729.4063646\ttotal: 1m 12s\tremaining: 59.8s\n",
      "164:\tlearn: 1728.5614911\ttotal: 1m 12s\tremaining: 59.4s\n",
      "165:\tlearn: 1728.1170800\ttotal: 1m 12s\tremaining: 58.9s\n",
      "166:\tlearn: 1727.5376776\ttotal: 1m 13s\tremaining: 58.5s\n",
      "167:\tlearn: 1727.0647331\ttotal: 1m 13s\tremaining: 58s\n",
      "168:\tlearn: 1726.7318141\ttotal: 1m 14s\tremaining: 57.5s\n",
      "169:\tlearn: 1725.8542919\ttotal: 1m 14s\tremaining: 57.1s\n",
      "170:\tlearn: 1725.6633533\ttotal: 1m 15s\tremaining: 56.6s\n",
      "171:\tlearn: 1725.5566444\ttotal: 1m 15s\tremaining: 56.1s\n",
      "172:\tlearn: 1724.9410503\ttotal: 1m 15s\tremaining: 55.7s\n",
      "173:\tlearn: 1724.2788643\ttotal: 1m 16s\tremaining: 55.3s\n",
      "174:\tlearn: 1724.0718511\ttotal: 1m 16s\tremaining: 54.9s\n",
      "175:\tlearn: 1722.9939295\ttotal: 1m 17s\tremaining: 54.4s\n",
      "176:\tlearn: 1722.0065115\ttotal: 1m 17s\tremaining: 54s\n",
      "177:\tlearn: 1721.1550721\ttotal: 1m 18s\tremaining: 53.5s\n",
      "178:\tlearn: 1720.3983716\ttotal: 1m 18s\tremaining: 53.1s\n",
      "179:\tlearn: 1719.9551617\ttotal: 1m 19s\tremaining: 52.7s\n",
      "180:\tlearn: 1719.4755178\ttotal: 1m 19s\tremaining: 52.2s\n",
      "181:\tlearn: 1718.8081821\ttotal: 1m 19s\tremaining: 51.8s\n",
      "182:\tlearn: 1718.0756577\ttotal: 1m 20s\tremaining: 51.3s\n",
      "183:\tlearn: 1717.1774818\ttotal: 1m 20s\tremaining: 50.9s\n",
      "184:\tlearn: 1716.8650700\ttotal: 1m 21s\tremaining: 50.5s\n",
      "185:\tlearn: 1716.4907062\ttotal: 1m 21s\tremaining: 50.1s\n",
      "186:\tlearn: 1715.7044651\ttotal: 1m 22s\tremaining: 49.6s\n",
      "187:\tlearn: 1714.3032297\ttotal: 1m 22s\tremaining: 49.1s\n",
      "188:\tlearn: 1714.0438590\ttotal: 1m 22s\tremaining: 48.7s\n",
      "189:\tlearn: 1713.7363723\ttotal: 1m 23s\tremaining: 48.3s\n",
      "190:\tlearn: 1713.3250079\ttotal: 1m 23s\tremaining: 47.9s\n",
      "191:\tlearn: 1712.5830505\ttotal: 1m 24s\tremaining: 47.4s\n",
      "192:\tlearn: 1712.0231581\ttotal: 1m 24s\tremaining: 46.9s\n",
      "193:\tlearn: 1711.8731521\ttotal: 1m 25s\tremaining: 46.5s\n",
      "194:\tlearn: 1711.7394598\ttotal: 1m 25s\tremaining: 46.1s\n",
      "195:\tlearn: 1711.1114068\ttotal: 1m 25s\tremaining: 45.6s\n",
      "196:\tlearn: 1710.7387180\ttotal: 1m 26s\tremaining: 45.2s\n",
      "197:\tlearn: 1710.1154086\ttotal: 1m 26s\tremaining: 44.7s\n",
      "198:\tlearn: 1709.3352633\ttotal: 1m 27s\tremaining: 44.3s\n",
      "199:\tlearn: 1708.6228774\ttotal: 1m 27s\tremaining: 43.9s\n",
      "200:\tlearn: 1707.8492856\ttotal: 1m 28s\tremaining: 43.4s\n",
      "201:\tlearn: 1707.1895518\ttotal: 1m 28s\tremaining: 42.9s\n",
      "202:\tlearn: 1706.4606640\ttotal: 1m 29s\tremaining: 42.5s\n",
      "203:\tlearn: 1705.9347400\ttotal: 1m 29s\tremaining: 42.1s\n",
      "204:\tlearn: 1705.5975571\ttotal: 1m 29s\tremaining: 41.6s\n",
      "205:\tlearn: 1705.1209356\ttotal: 1m 30s\tremaining: 41.2s\n",
      "206:\tlearn: 1704.8079248\ttotal: 1m 30s\tremaining: 40.8s\n",
      "207:\tlearn: 1704.5170755\ttotal: 1m 31s\tremaining: 40.3s\n",
      "208:\tlearn: 1703.8579726\ttotal: 1m 31s\tremaining: 39.9s\n",
      "209:\tlearn: 1703.3988267\ttotal: 1m 32s\tremaining: 39.4s\n",
      "210:\tlearn: 1702.8123974\ttotal: 1m 32s\tremaining: 39s\n",
      "211:\tlearn: 1702.7028105\ttotal: 1m 32s\tremaining: 38.6s\n",
      "212:\tlearn: 1702.6547425\ttotal: 1m 33s\tremaining: 38.2s\n",
      "213:\tlearn: 1702.0539625\ttotal: 1m 33s\tremaining: 37.7s\n",
      "214:\tlearn: 1701.5217177\ttotal: 1m 34s\tremaining: 37.3s\n",
      "215:\tlearn: 1701.0572637\ttotal: 1m 34s\tremaining: 36.8s\n",
      "216:\tlearn: 1700.5446171\ttotal: 1m 35s\tremaining: 36.4s\n",
      "217:\tlearn: 1700.1864774\ttotal: 1m 35s\tremaining: 36s\n",
      "218:\tlearn: 1699.7874123\ttotal: 1m 36s\tremaining: 35.5s\n",
      "219:\tlearn: 1699.4751640\ttotal: 1m 36s\tremaining: 35.1s\n",
      "220:\tlearn: 1699.4372642\ttotal: 1m 36s\tremaining: 34.6s\n",
      "221:\tlearn: 1699.4064327\ttotal: 1m 37s\tremaining: 34.2s\n",
      "222:\tlearn: 1698.9634020\ttotal: 1m 37s\tremaining: 33.7s\n",
      "223:\tlearn: 1698.6995137\ttotal: 1m 38s\tremaining: 33.3s\n",
      "224:\tlearn: 1698.4436082\ttotal: 1m 38s\tremaining: 32.9s\n",
      "225:\tlearn: 1698.0057599\ttotal: 1m 38s\tremaining: 32.4s\n",
      "226:\tlearn: 1697.6824166\ttotal: 1m 39s\tremaining: 32s\n",
      "227:\tlearn: 1697.1805208\ttotal: 1m 39s\tremaining: 31.5s\n",
      "228:\tlearn: 1696.7878082\ttotal: 1m 40s\tremaining: 31.1s\n",
      "229:\tlearn: 1696.3901020\ttotal: 1m 40s\tremaining: 30.7s\n",
      "230:\tlearn: 1696.0192985\ttotal: 1m 41s\tremaining: 30.2s\n",
      "231:\tlearn: 1695.3856234\ttotal: 1m 41s\tremaining: 29.8s\n",
      "232:\tlearn: 1694.7244427\ttotal: 1m 42s\tremaining: 29.3s\n",
      "233:\tlearn: 1694.4558957\ttotal: 1m 42s\tremaining: 28.9s\n",
      "234:\tlearn: 1693.9095847\ttotal: 1m 42s\tremaining: 28.5s\n",
      "235:\tlearn: 1692.8099661\ttotal: 1m 43s\tremaining: 28s\n",
      "236:\tlearn: 1692.3898398\ttotal: 1m 43s\tremaining: 27.6s\n",
      "237:\tlearn: 1691.9251622\ttotal: 1m 44s\tremaining: 27.1s\n",
      "238:\tlearn: 1690.9732824\ttotal: 1m 44s\tremaining: 26.7s\n",
      "239:\tlearn: 1690.7344305\ttotal: 1m 45s\tremaining: 26.3s\n",
      "240:\tlearn: 1690.4938288\ttotal: 1m 45s\tremaining: 25.8s\n",
      "241:\tlearn: 1689.9422678\ttotal: 1m 45s\tremaining: 25.4s\n",
      "242:\tlearn: 1689.7568749\ttotal: 1m 46s\tremaining: 24.9s\n",
      "243:\tlearn: 1689.1183616\ttotal: 1m 46s\tremaining: 24.5s\n",
      "244:\tlearn: 1688.5930837\ttotal: 1m 47s\tremaining: 24.1s\n",
      "245:\tlearn: 1688.2399176\ttotal: 1m 47s\tremaining: 23.6s\n",
      "246:\tlearn: 1688.0101160\ttotal: 1m 48s\tremaining: 23.2s\n",
      "247:\tlearn: 1687.7320239\ttotal: 1m 48s\tremaining: 22.8s\n",
      "248:\tlearn: 1687.2913419\ttotal: 1m 49s\tremaining: 22.3s\n",
      "249:\tlearn: 1687.1335925\ttotal: 1m 49s\tremaining: 21.9s\n",
      "250:\tlearn: 1686.7160565\ttotal: 1m 49s\tremaining: 21.4s\n",
      "251:\tlearn: 1686.3330064\ttotal: 1m 50s\tremaining: 21s\n",
      "252:\tlearn: 1685.8937031\ttotal: 1m 50s\tremaining: 20.5s\n",
      "253:\tlearn: 1685.4256259\ttotal: 1m 50s\tremaining: 20.1s\n",
      "254:\tlearn: 1684.9824746\ttotal: 1m 51s\tremaining: 19.7s\n",
      "255:\tlearn: 1684.6007615\ttotal: 1m 51s\tremaining: 19.2s\n",
      "256:\tlearn: 1683.9289758\ttotal: 1m 52s\tremaining: 18.8s\n",
      "257:\tlearn: 1683.5695573\ttotal: 1m 52s\tremaining: 18.4s\n",
      "258:\tlearn: 1683.1509880\ttotal: 1m 53s\tremaining: 17.9s\n",
      "259:\tlearn: 1682.9206130\ttotal: 1m 53s\tremaining: 17.5s\n",
      "260:\tlearn: 1682.2353308\ttotal: 1m 54s\tremaining: 17.1s\n",
      "261:\tlearn: 1681.6917721\ttotal: 1m 54s\tremaining: 16.6s\n",
      "262:\tlearn: 1681.5856146\ttotal: 1m 55s\tremaining: 16.2s\n",
      "263:\tlearn: 1681.2371496\ttotal: 1m 55s\tremaining: 15.8s\n",
      "264:\tlearn: 1681.0708520\ttotal: 1m 56s\tremaining: 15.3s\n",
      "265:\tlearn: 1680.7570511\ttotal: 1m 56s\tremaining: 14.9s\n",
      "266:\tlearn: 1680.6667844\ttotal: 1m 56s\tremaining: 14.4s\n",
      "267:\tlearn: 1680.5695666\ttotal: 1m 57s\tremaining: 14s\n",
      "268:\tlearn: 1680.3990256\ttotal: 1m 57s\tremaining: 13.6s\n",
      "269:\tlearn: 1680.0584479\ttotal: 1m 58s\tremaining: 13.1s\n",
      "270:\tlearn: 1679.1683827\ttotal: 1m 58s\tremaining: 12.7s\n",
      "271:\tlearn: 1679.1394267\ttotal: 1m 59s\tremaining: 12.3s\n",
      "272:\tlearn: 1678.7543155\ttotal: 1m 59s\tremaining: 11.8s\n",
      "273:\tlearn: 1678.3357938\ttotal: 1m 59s\tremaining: 11.4s\n",
      "274:\tlearn: 1678.2635639\ttotal: 2m\tremaining: 10.9s\n",
      "275:\tlearn: 1677.8146468\ttotal: 2m\tremaining: 10.5s\n",
      "276:\tlearn: 1677.4369458\ttotal: 2m 1s\tremaining: 10.1s\n",
      "277:\tlearn: 1677.1437673\ttotal: 2m 1s\tremaining: 9.64s\n",
      "278:\tlearn: 1676.2419855\ttotal: 2m 2s\tremaining: 9.2s\n",
      "279:\tlearn: 1675.8125539\ttotal: 2m 2s\tremaining: 8.77s\n",
      "280:\tlearn: 1675.1516970\ttotal: 2m 3s\tremaining: 8.33s\n",
      "281:\tlearn: 1674.6714631\ttotal: 2m 3s\tremaining: 7.9s\n",
      "282:\tlearn: 1674.4279049\ttotal: 2m 4s\tremaining: 7.46s\n",
      "283:\tlearn: 1673.9105188\ttotal: 2m 4s\tremaining: 7.02s\n",
      "284:\tlearn: 1673.5542288\ttotal: 2m 5s\tremaining: 6.58s\n",
      "285:\tlearn: 1673.2989796\ttotal: 2m 5s\tremaining: 6.14s\n",
      "286:\tlearn: 1672.8430678\ttotal: 2m 5s\tremaining: 5.7s\n",
      "287:\tlearn: 1672.6048875\ttotal: 2m 6s\tremaining: 5.26s\n",
      "288:\tlearn: 1672.5249944\ttotal: 2m 6s\tremaining: 4.82s\n",
      "289:\tlearn: 1671.9967364\ttotal: 2m 7s\tremaining: 4.38s\n",
      "290:\tlearn: 1671.5539526\ttotal: 2m 7s\tremaining: 3.94s\n",
      "291:\tlearn: 1670.8698916\ttotal: 2m 7s\tremaining: 3.51s\n",
      "292:\tlearn: 1670.1904309\ttotal: 2m 8s\tremaining: 3.07s\n",
      "293:\tlearn: 1669.8545863\ttotal: 2m 8s\tremaining: 2.63s\n",
      "294:\tlearn: 1669.3240102\ttotal: 2m 9s\tremaining: 2.19s\n",
      "295:\tlearn: 1669.3189040\ttotal: 2m 9s\tremaining: 1.75s\n",
      "296:\tlearn: 1668.8569145\ttotal: 2m 10s\tremaining: 1.31s\n",
      "297:\tlearn: 1668.2940753\ttotal: 2m 10s\tremaining: 876ms\n",
      "298:\tlearn: 1667.8161522\ttotal: 2m 11s\tremaining: 438ms\n",
      "299:\tlearn: 1667.0566595\ttotal: 2m 11s\tremaining: 0us\n",
      "CPU times: user 2min 11s, sys: 448 ms, total: 2min 11s\n",
      "Wall time: 2min 12s\n"
     ]
    },
    {
     "data": {
      "text/plain": [
       "<catboost.core.CatBoostRegressor at 0x7f4df93eb2e0>"
      ]
     },
     "execution_count": 28,
     "metadata": {},
     "output_type": "execute_result"
    }
   ],
   "source": [
    "%%time\n",
    "catboost = CatBoostRegressor(loss_function=\"RMSE\", iterations=300)\n",
    "catboost.fit(features_train, target_train, cat_features=categ_fiatures)"
   ]
  },
  {
   "cell_type": "markdown",
   "metadata": {},
   "source": [
    "**Random Forest**\n",
    "\n",
    "This particular model necessitates the utilization of one-hot encoding (OHE) for categorical features. Let us employ this technique and proceed with training the model using a specific pair of parameter values. Although GridSearchCV can be employed to identify the optimal set of hyperparameters, it should be noted that its implementation can be time-consuming, often taking several hours."
   ]
  },
  {
   "cell_type": "code",
   "execution_count": 29,
   "metadata": {},
   "outputs": [],
   "source": [
    "encoder = OneHotEncoder(handle_unknown='ignore')\n",
    "encoder.fit(features_train)\n",
    "\n",
    "features_train_ordinal = encoder.transform(features_train)\n",
    "features_test_ordinal = encoder.transform(features_test)\n",
    "features_valid_ordinal = encoder.transform(features_valid)"
   ]
  },
  {
   "cell_type": "code",
   "execution_count": 30,
   "metadata": {},
   "outputs": [
    {
     "name": "stdout",
     "output_type": "stream",
     "text": [
      "CPU times: user 6min 2s, sys: 423 ms, total: 6min 2s\n",
      "Wall time: 6min 3s\n"
     ]
    },
    {
     "data": {
      "text/plain": [
       "RandomForestRegressor(max_depth=10, random_state=12345)"
      ]
     },
     "execution_count": 30,
     "metadata": {},
     "output_type": "execute_result"
    }
   ],
   "source": [
    "%%time\n",
    "\n",
    "rf1 = RandomForestRegressor(max_depth=10, random_state=12345, n_estimators = 100)\n",
    "rf1.fit(features_train_ordinal, target_train)"
   ]
  },
  {
   "cell_type": "code",
   "execution_count": 31,
   "metadata": {
    "scrolled": true
   },
   "outputs": [
    {
     "name": "stdout",
     "output_type": "stream",
     "text": [
      "CPU times: user 36.7 s, sys: 75.7 ms, total: 36.8 s\n",
      "Wall time: 36.8 s\n"
     ]
    },
    {
     "data": {
      "text/plain": [
       "RandomForestRegressor(max_depth=5, n_estimators=50, random_state=12345)"
      ]
     },
     "execution_count": 31,
     "metadata": {},
     "output_type": "execute_result"
    }
   ],
   "source": [
    "%%time\n",
    "\n",
    "rf2 = RandomForestRegressor(max_depth=5, random_state=12345, n_estimators = 50)\n",
    "rf2.fit(features_train_ordinal, target_train)"
   ]
  },
  {
   "cell_type": "markdown",
   "metadata": {},
   "source": [
    "<div class=\"alert alert-success\">\n",
    "<b>Reviewer's comment</b>\n",
    "\n",
    "Great, you tried a couple of different models, applied appropriate categorical feature encoding and did some hyperparameter tuning using the validation set\n",
    "\n",
    "</div>"
   ]
  },
  {
   "cell_type": "markdown",
   "metadata": {},
   "source": [
    "## Model analysis"
   ]
  },
  {
   "cell_type": "markdown",
   "metadata": {},
   "source": [
    "**Linear Regression as sanity check**\n",
    "\n",
    "This algorithm is not the optimal choice for resolving our issue. Therefore, if gradient boosting techniques exhibit inferior performance, it indicates that an error has occurred."
   ]
  },
  {
   "cell_type": "code",
   "execution_count": 32,
   "metadata": {},
   "outputs": [
    {
     "data": {
      "text/plain": [
       "2139.7087285981534"
      ]
     },
     "execution_count": 32,
     "metadata": {},
     "output_type": "execute_result"
    }
   ],
   "source": [
    "model = LinearRegression()\n",
    "model.fit(features_train_ordinal, target_train)\n",
    "pred = model.predict(features_valid_ordinal)\n",
    "rmse = (mean_squared_error(target_valid,pred))**0.5\n",
    "rmse"
   ]
  },
  {
   "cell_type": "markdown",
   "metadata": {},
   "source": [
    "**LightGBM**\n",
    "\n",
    "compute the RMSE for 2 sets of parameters."
   ]
  },
  {
   "cell_type": "code",
   "execution_count": 33,
   "metadata": {},
   "outputs": [
    {
     "name": "stdout",
     "output_type": "stream",
     "text": [
      "RMSE: 1652.48\n"
     ]
    }
   ],
   "source": [
    "target_pred = lgb1.predict(features_valid)\n",
    "\n",
    "# accuracy check\n",
    "mse = mean_squared_error(target_valid, target_pred)\n",
    "rmse = mse**(0.5)\n",
    "\n",
    "print(\"RMSE: %.2f\" % rmse) "
   ]
  },
  {
   "cell_type": "code",
   "execution_count": 34,
   "metadata": {},
   "outputs": [
    {
     "name": "stdout",
     "output_type": "stream",
     "text": [
      "RMSE: 1649.50\n"
     ]
    }
   ],
   "source": [
    "target_pred = lgb2.predict(features_valid)\n",
    "\n",
    "# accuracy check\n",
    "mse = mean_squared_error(target_valid, target_pred)\n",
    "rmse = mse**(0.5)\n",
    "\n",
    "print(\"RMSE: %.2f\" % rmse) \n",
    " "
   ]
  },
  {
   "cell_type": "markdown",
   "metadata": {},
   "source": [
    "The second set of parameters in LightGBM not only improves the training time but also yields a slightly better RMSE score."
   ]
  },
  {
   "cell_type": "markdown",
   "metadata": {},
   "source": [
    "**CatBoost**"
   ]
  },
  {
   "cell_type": "code",
   "execution_count": 35,
   "metadata": {},
   "outputs": [],
   "source": [
    "target_predict = catboost.predict(features_valid)"
   ]
  },
  {
   "cell_type": "code",
   "execution_count": 36,
   "metadata": {},
   "outputs": [
    {
     "name": "stdout",
     "output_type": "stream",
     "text": [
      "RMSE: 1734.55\n"
     ]
    }
   ],
   "source": [
    "# accuracy check\n",
    "\n",
    "mse = mean_squared_error(target_valid, target_predict)\n",
    "rmse = mse**0.5\n",
    "\n",
    "print(\"RMSE: %.2f\" % rmse)"
   ]
  },
  {
   "cell_type": "markdown",
   "metadata": {},
   "source": [
    "Despite undergoing a more extensive training duration compared to LightGBM, it exhibits inferior performance with a higher root mean square error (RMSE)."
   ]
  },
  {
   "cell_type": "markdown",
   "metadata": {},
   "source": [
    "**RandomForest**"
   ]
  },
  {
   "cell_type": "code",
   "execution_count": 37,
   "metadata": {},
   "outputs": [],
   "source": [
    "target_predict = rf1.predict(features_valid_ordinal)"
   ]
  },
  {
   "cell_type": "code",
   "execution_count": 38,
   "metadata": {},
   "outputs": [
    {
     "name": "stdout",
     "output_type": "stream",
     "text": [
      "RMSE: 2840.62\n"
     ]
    }
   ],
   "source": [
    "# accuracy check\n",
    "mse = mean_squared_error(target_valid, target_predict)\n",
    "rmse = mse**.5\n",
    "\n",
    "print(\"RMSE: %0.2f\" % rmse)"
   ]
  },
  {
   "cell_type": "code",
   "execution_count": 39,
   "metadata": {},
   "outputs": [
    {
     "name": "stdout",
     "output_type": "stream",
     "text": [
      "RMSE: 3426.50\n"
     ]
    }
   ],
   "source": [
    "target_predict = rf2.predict(features_valid_ordinal)\n",
    "\n",
    "# accuracy check\n",
    "mse = mean_squared_error(target_valid, target_predict)\n",
    "rmse = mse**(0.5)\n",
    "\n",
    "print(\"RMSE: %.2f\" % rmse)"
   ]
  },
  {
   "cell_type": "markdown",
   "metadata": {},
   "source": [
    "**Conclusion**\n",
    "\n",
    "An alternative approach to gradient boosting can enhance the efficiency of model training and yield superior RMSE scores compared to Linear Regression. Random Forest is not a viable option due to the extensive time required to identify optimal hyperparameters and subsequently train the model. In terms of both training speed and quality, LightGBM demonstrated the most impressive performance.\n",
    "\n",
    "\n",
    "<table>\n",
    "  <tr>\n",
    "   <td>Model\n",
    "   </td>\n",
    "   <td>RMSE - the quality of the prediction\n",
    "   </td>\n",
    "   <td>the time required for training\n",
    "   </td>\n",
    "  </tr>\n",
    "  <tr>\n",
    "   <td>LightGBM parameter 1\n",
    "   </td>\n",
    "   <td>1652.48\n",
    "   </td>\n",
    "   <td>41.8 sec\n",
    "   </td>\n",
    "  </tr>\n",
    "  <tr>\n",
    "   <td>LightGBM parameter 2\n",
    "   </td>\n",
    "   <td>1649.50\n",
    "   </td>\n",
    "   <td>29 sec\n",
    "   </td>\n",
    "  </tr>\n",
    "  <tr>\n",
    "   <td>CatBoost\n",
    "   </td>\n",
    "   <td>1734.55\n",
    "   </td>\n",
    "   <td>2min 12s\n",
    "   </td>\n",
    "  </tr>\n",
    "  <tr>\n",
    "   <td>RandomForest Parameter 1\n",
    "   </td>\n",
    "   <td>2840.62\n",
    "   </td>\n",
    "   <td>6min 2s\n",
    "   </td>\n",
    "  </tr>\n",
    "  <tr>\n",
    "   <td>RandomForest Parameter 2\n",
    "   </td>\n",
    "   <td>3426.50\n",
    "   </td>\n",
    "   <td>36.8 s\n",
    "   </td>\n",
    "  </tr>\n",
    "</table>"
   ]
  },
  {
   "cell_type": "markdown",
   "metadata": {},
   "source": [
    "# Checklist"
   ]
  },
  {
   "cell_type": "markdown",
   "metadata": {},
   "source": [
    "Type 'x' to check. Then press Shift+Enter."
   ]
  },
  {
   "cell_type": "markdown",
   "metadata": {},
   "source": [
    "- [x]  Jupyter Notebook is open\n",
    "- [ ]  Code is error free\n",
    "- [ ]  The cells with the code have been arranged in order of execution\n",
    "- [ ]  The data has been downloaded and prepared\n",
    "- [ ]  The models have been trained\n",
    "- [ ]  The analysis of speed and quality of the models has been performed"
   ]
  }
 ],
 "metadata": {
  "kernelspec": {
   "display_name": "Python 3 (ipykernel)",
   "language": "python",
   "name": "python3"
  },
  "language_info": {
   "codemirror_mode": {
    "name": "ipython",
    "version": 3
   },
   "file_extension": ".py",
   "mimetype": "text/x-python",
   "name": "python",
   "nbconvert_exporter": "python",
   "pygments_lexer": "ipython3",
   "version": "3.9.5"
  },
  "toc": {
   "base_numbering": 1,
   "nav_menu": {},
   "number_sections": true,
   "sideBar": true,
   "skip_h1_title": true,
   "title_cell": "Table of Contents",
   "title_sidebar": "Contents",
   "toc_cell": false,
   "toc_position": {},
   "toc_section_display": true,
   "toc_window_display": false
  }
 },
 "nbformat": 4,
 "nbformat_minor": 2
}
